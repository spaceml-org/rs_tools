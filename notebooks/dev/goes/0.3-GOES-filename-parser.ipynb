{
 "cells": [
  {
   "cell_type": "code",
   "execution_count": 1,
   "metadata": {},
   "outputs": [],
   "source": [
    "import xarray as xr\n",
    "import os\n",
    "import glob\n",
    "import matplotlib.pyplot as plt\n",
    "from dataclasses import dataclass\n",
    "from typing import List\n",
    "from pathlib import Path\n",
    "from datetime import datetime"
   ]
  },
  {
   "cell_type": "code",
   "execution_count": 2,
   "metadata": {},
   "outputs": [],
   "source": [
    "path = '/Users/anna.jungbluth/Desktop/git/rs_tools/data/goes16'"
   ]
  },
  {
   "cell_type": "code",
   "execution_count": 3,
   "metadata": {},
   "outputs": [],
   "source": [
    "filenames = glob.glob(f'{path}/**', recursive=True)"
   ]
  },
  {
   "cell_type": "code",
   "execution_count": 4,
   "metadata": {},
   "outputs": [
    {
     "data": {
      "text/plain": [
       "['/Users/anna.jungbluth/Desktop/git/rs_tools/data/goes16/',\n",
       " '/Users/anna.jungbluth/Desktop/git/rs_tools/data/goes16/L1b',\n",
       " '/Users/anna.jungbluth/Desktop/git/rs_tools/data/goes16/L1b/noaa-goes16',\n",
       " '/Users/anna.jungbluth/Desktop/git/rs_tools/data/goes16/L1b/noaa-goes16/ABI-L1b-RadF',\n",
       " '/Users/anna.jungbluth/Desktop/git/rs_tools/data/goes16/L1b/noaa-goes16/ABI-L1b-RadF/2018',\n",
       " '/Users/anna.jungbluth/Desktop/git/rs_tools/data/goes16/L1b/noaa-goes16/ABI-L1b-RadF/2018/274',\n",
       " '/Users/anna.jungbluth/Desktop/git/rs_tools/data/goes16/L1b/noaa-goes16/ABI-L1b-RadF/2018/274/14',\n",
       " '/Users/anna.jungbluth/Desktop/git/rs_tools/data/goes16/L1b/noaa-goes16/ABI-L1b-RadF/2018/274/14/OR_ABI-L1b-RadF-M4C16_G16_s20182741400224_e20182741405040_c20182741405096.nc',\n",
       " '/Users/anna.jungbluth/Desktop/git/rs_tools/data/goes16/L1b/noaa-goes16/ABI-L1b-RadF/2018/274/14/OR_ABI-L1b-RadF-M4C15_G16_s20182741400224_e20182741405034_c20182741405099.nc',\n",
       " '/Users/anna.jungbluth/Desktop/git/rs_tools/data/goes16/L1b/noaa-goes16/ABI-L1b-RadF/2018/274/14/OR_ABI-L1b-RadF-M4C16_G16_s20182741415224_e20182741420038_c20182741420099.nc',\n",
       " '/Users/anna.jungbluth/Desktop/git/rs_tools/data/goes16/L1b/noaa-goes16/ABI-L1b-RadF/2018/274/14/OR_ABI-L1b-RadF-M4C05_G16_s20182741400224_e20182741405027_c20182741405080.nc',\n",
       " '/Users/anna.jungbluth/Desktop/git/rs_tools/data/goes16/L1b/noaa-goes16/ABI-L1b-RadF/2018/274/14/OR_ABI-L1b-RadF-M4C09_G16_s20182741400224_e20182741405033_c20182741405100.nc',\n",
       " '/Users/anna.jungbluth/Desktop/git/rs_tools/data/goes16/L1b/noaa-goes16/ABI-L1b-RadF/2018/274/14/OR_ABI-L1b-RadF-M4C09_G16_s20182741415224_e20182741420033_c20182741420101.nc',\n",
       " '/Users/anna.jungbluth/Desktop/git/rs_tools/data/goes16/L1b/noaa-goes16/ABI-L1b-RadF/2018/274/14/OR_ABI-L1b-RadF-M4C05_G16_s20182741415224_e20182741420026_c20182741420082.nc',\n",
       " '/Users/anna.jungbluth/Desktop/git/rs_tools/data/goes16/L1b/noaa-goes16/ABI-L1b-RadF/2018/274/14/OR_ABI-L1b-RadF-M4C02_G16_s20182741415224_e20182741420026_c20182741420075.nc',\n",
       " '/Users/anna.jungbluth/Desktop/git/rs_tools/data/goes16/L1b/noaa-goes16/ABI-L1b-RadF/2018/274/14/OR_ABI-L1b-RadF-M4C04_G16_s20182741415224_e20182741420027_c20182741420080.nc',\n",
       " '/Users/anna.jungbluth/Desktop/git/rs_tools/data/goes16/L1b/noaa-goes16/ABI-L1b-RadF/2018/274/14/OR_ABI-L1b-RadF-M4C01_G16_s20182741415224_e20182741420026_c20182741420080.nc',\n",
       " '/Users/anna.jungbluth/Desktop/git/rs_tools/data/goes16/L1b/noaa-goes16/ABI-L1b-RadF/2018/274/14/OR_ABI-L1b-RadF-M4C12_G16_s20182741415224_e20182741420033_c20182741420094.nc',\n",
       " '/Users/anna.jungbluth/Desktop/git/rs_tools/data/goes16/L1b/noaa-goes16/ABI-L1b-RadF/2018/274/14/OR_ABI-L1b-RadF-M4C02_G16_s20182741400224_e20182741405027_c20182741405073.nc',\n",
       " '/Users/anna.jungbluth/Desktop/git/rs_tools/data/goes16/L1b/noaa-goes16/ABI-L1b-RadF/2018/274/14/OR_ABI-L1b-RadF-M4C07_G16_s20182741415224_e20182741420039_c20182741420083.nc',\n",
       " '/Users/anna.jungbluth/Desktop/git/rs_tools/data/goes16/L1b/noaa-goes16/ABI-L1b-RadF/2018/274/14/OR_ABI-L1b-RadF-M4C06_G16_s20182741400224_e20182741405033_c20182741405081.nc',\n",
       " '/Users/anna.jungbluth/Desktop/git/rs_tools/data/goes16/L1b/noaa-goes16/ABI-L1b-RadF/2018/274/14/OR_ABI-L1b-RadF-M4C13_G16_s20182741415224_e20182741420039_c20182741420100.nc',\n",
       " '/Users/anna.jungbluth/Desktop/git/rs_tools/data/goes16/L1b/noaa-goes16/ABI-L1b-RadF/2018/274/14/OR_ABI-L1b-RadF-M4C07_G16_s20182741400224_e20182741405039_c20182741405083.nc',\n",
       " '/Users/anna.jungbluth/Desktop/git/rs_tools/data/goes16/L1b/noaa-goes16/ABI-L1b-RadF/2018/274/14/OR_ABI-L1b-RadF-M4C10_G16_s20182741415224_e20182741420039_c20182741420095.nc',\n",
       " '/Users/anna.jungbluth/Desktop/git/rs_tools/data/goes16/L1b/noaa-goes16/ABI-L1b-RadF/2018/274/14/OR_ABI-L1b-RadF-M4C06_G16_s20182741415224_e20182741420033_c20182741420067.nc',\n",
       " '/Users/anna.jungbluth/Desktop/git/rs_tools/data/goes16/L1b/noaa-goes16/ABI-L1b-RadF/2018/274/14/OR_ABI-L1b-RadF-M4C14_G16_s20182741400224_e20182741405028_c20182741405099.nc',\n",
       " '/Users/anna.jungbluth/Desktop/git/rs_tools/data/goes16/L1b/noaa-goes16/ABI-L1b-RadF/2018/274/14/OR_ABI-L1b-RadF-M4C10_G16_s20182741400224_e20182741405039_c20182741405093.nc',\n",
       " '/Users/anna.jungbluth/Desktop/git/rs_tools/data/goes16/L1b/noaa-goes16/ABI-L1b-RadF/2018/274/14/OR_ABI-L1b-RadF-M4C04_G16_s20182741400224_e20182741405028_c20182741405062.nc',\n",
       " '/Users/anna.jungbluth/Desktop/git/rs_tools/data/goes16/L1b/noaa-goes16/ABI-L1b-RadF/2018/274/14/OR_ABI-L1b-RadF-M4C13_G16_s20182741400224_e20182741405040_c20182741405100.nc',\n",
       " '/Users/anna.jungbluth/Desktop/git/rs_tools/data/goes16/L1b/noaa-goes16/ABI-L1b-RadF/2018/274/14/OR_ABI-L1b-RadF-M4C03_G16_s20182741400224_e20182741405027_c20182741405082.nc',\n",
       " '/Users/anna.jungbluth/Desktop/git/rs_tools/data/goes16/L1b/noaa-goes16/ABI-L1b-RadF/2018/274/14/OR_ABI-L1b-RadF-M4C12_G16_s20182741400224_e20182741405034_c20182741405091.nc',\n",
       " '/Users/anna.jungbluth/Desktop/git/rs_tools/data/goes16/L1b/noaa-goes16/ABI-L1b-RadF/2018/274/14/OR_ABI-L1b-RadF-M4C14_G16_s20182741415224_e20182741420026_c20182741420101.nc',\n",
       " '/Users/anna.jungbluth/Desktop/git/rs_tools/data/goes16/L1b/noaa-goes16/ABI-L1b-RadF/2018/274/14/OR_ABI-L1b-RadF-M4C01_G16_s20182741400224_e20182741405027_c20182741405078.nc',\n",
       " '/Users/anna.jungbluth/Desktop/git/rs_tools/data/goes16/L1b/noaa-goes16/ABI-L1b-RadF/2018/274/14/OR_ABI-L1b-RadF-M4C11_G16_s20182741415224_e20182741420027_c20182741420096.nc',\n",
       " '/Users/anna.jungbluth/Desktop/git/rs_tools/data/goes16/L1b/noaa-goes16/ABI-L1b-RadF/2018/274/14/OR_ABI-L1b-RadF-M4C08_G16_s20182741400224_e20182741405028_c20182741405084.nc',\n",
       " '/Users/anna.jungbluth/Desktop/git/rs_tools/data/goes16/L1b/noaa-goes16/ABI-L1b-RadF/2018/274/14/OR_ABI-L1b-RadF-M4C11_G16_s20182741400224_e20182741405028_c20182741405095.nc',\n",
       " '/Users/anna.jungbluth/Desktop/git/rs_tools/data/goes16/L1b/noaa-goes16/ABI-L1b-RadF/2018/274/14/OR_ABI-L1b-RadF-M4C15_G16_s20182741415224_e20182741420032_c20182741420102.nc',\n",
       " '/Users/anna.jungbluth/Desktop/git/rs_tools/data/goes16/L1b/noaa-goes16/ABI-L1b-RadF/2018/274/14/OR_ABI-L1b-RadF-M4C08_G16_s20182741415224_e20182741420027_c20182741420083.nc',\n",
       " '/Users/anna.jungbluth/Desktop/git/rs_tools/data/goes16/L1b/noaa-goes16/ABI-L1b-RadF/2018/274/14/OR_ABI-L1b-RadF-M4C03_G16_s20182741415224_e20182741420026_c20182741420081.nc',\n",
       " '/Users/anna.jungbluth/Desktop/git/rs_tools/data/goes16/L1b/noaa-goes16/ABI-L1b-RadF/2018/275',\n",
       " '/Users/anna.jungbluth/Desktop/git/rs_tools/data/goes16/L1b/noaa-goes16/ABI-L1b-RadF/2018/275/14',\n",
       " '/Users/anna.jungbluth/Desktop/git/rs_tools/data/goes16/L1b/noaa-goes16/ABI-L1b-RadF/2018/275/14/OR_ABI-L1b-RadF-M3C02_G16_s20182751400371_e20182751411138_c20182751411174.nc',\n",
       " '/Users/anna.jungbluth/Desktop/git/rs_tools/data/goes16/L1b/noaa-goes16/ABI-L1b-RadF/2018/275/14/OR_ABI-L1b-RadF-M3C01_G16_s20182751400371_e20182751411138_c20182751411183.nc',\n",
       " '/Users/anna.jungbluth/Desktop/git/rs_tools/data/goes16/CM',\n",
       " '/Users/anna.jungbluth/Desktop/git/rs_tools/data/goes16/CM/noaa-goes16',\n",
       " '/Users/anna.jungbluth/Desktop/git/rs_tools/data/goes16/CM/noaa-goes16/ABI-L2-ACMF',\n",
       " '/Users/anna.jungbluth/Desktop/git/rs_tools/data/goes16/CM/noaa-goes16/ABI-L2-ACMF/2020',\n",
       " '/Users/anna.jungbluth/Desktop/git/rs_tools/data/goes16/CM/noaa-goes16/ABI-L2-ACMF/2020/276',\n",
       " '/Users/anna.jungbluth/Desktop/git/rs_tools/data/goes16/CM/noaa-goes16/ABI-L2-ACMF/2020/276/14',\n",
       " '/Users/anna.jungbluth/Desktop/git/rs_tools/data/goes16/CM/noaa-goes16/ABI-L2-ACMF/2020/276/14/OR_ABI-L2-ACMF-M6_G16_s20202761400193_e20202761409501_c20202761410257.nc',\n",
       " '/Users/anna.jungbluth/Desktop/git/rs_tools/data/goes16/CM/noaa-goes16/ABI-L2-ACMF/2020/276/14/OR_ABI-L2-ACMF-M6_G16_s20202761410193_e20202761419501_c20202761420286.nc',\n",
       " '/Users/anna.jungbluth/Desktop/git/rs_tools/data/goes16/CM/noaa-goes16/ABI-L2-ACMF/2020/276/14/OR_ABI-L2-ACMF-M6_G16_s20202761430193_e20202761439501_c20202761440312.nc']"
      ]
     },
     "execution_count": 4,
     "metadata": {},
     "output_type": "execute_result"
    }
   ],
   "source": [
    "filenames"
   ]
  },
  {
   "cell_type": "code",
   "execution_count": 54,
   "metadata": {},
   "outputs": [],
   "source": [
    "\n",
    "@dataclass(order=True, frozen=True)\n",
    "class GOESFileName:\n",
    "    \"\"\"\n",
    "    GOES Data product file name\n",
    "    noaa-goes[sat-no]/[instrument]-[level]-[product][domain]/[year]/[day]/[hour]/\n",
    "        OR_[instrument]-[level]-[product][domain]-M4C[channel]_G[sat-no]_s[YYYYDDDHHMMSSS]_e[YYYYDDDHHMMSSS]_c[YYYYDDDHHMMSSS].nc\n",
    "        s = start date\n",
    "        e = end date\n",
    "        c = creation date\n",
    "    GOES Cloud mask file name\n",
    "    noaa-goes[sat-no]/[instrument]-[level]-[product][domain]/[year]/[day]/[hour]/\n",
    "        OR_[instrument]-[level]-[product][domain]-M6_G[sat-no]_s[YYYYDDDHHMMSSS]_e[YYYYDDDHHMMSSS]_c[YYYYDDDHHMMSSS].nc\n",
    "\n",
    "    \"\"\"\n",
    "    save_path: str \n",
    "    instrument: str\n",
    "    processing_level: str\n",
    "    satellite_number: str\n",
    "    product: str\n",
    "    domain: str\n",
    "    identifier: str\n",
    "    ext: str\n",
    "    datetime_acquisition_start: datetime\n",
    "    datetime_acquisition_end: datetime\n",
    "    datetime_processing: datetime\n",
    "\n",
    "    @classmethod\n",
    "    def from_filename(cls, file_name: str):\n",
    "        \"\"\"\n",
    "        Creates a GOESFileName object from a given file name.\n",
    "\n",
    "        Args:\n",
    "            cls (type): The class object that the method is bound to.\n",
    "            file_name (str): The file name to parse.\n",
    "\n",
    "        Returns:\n",
    "            GOESFileName: The parsed GOESFileName object.\n",
    "        \"\"\"\n",
    "\n",
    "        file_name = Path(file_name)\n",
    "        print(file_name)\n",
    "        components = file_name.name.split('_')\n",
    "        save_path = str(file_name.parents[0])\n",
    "\n",
    "        data_product = components[1]\n",
    "        data_product_components = data_product.split('-')\n",
    "        instrument = data_product_components[0]\n",
    "        processing_level = data_product_components[1]\n",
    "        product = data_product_components[2][:-1]\n",
    "        domain = data_product_components[2][-1]\n",
    "        identifier = data_product_components[3]\n",
    "        satellite_number = components[2][-2:]\n",
    "\n",
    "        # acquisition start time and date\n",
    "        time = components[3][8:]\n",
    "        year = components[3][1:5]\n",
    "        day = components[3][5:8]\n",
    "        datetime_acquisition_start = datetime.strptime(f\"{year}{day}{time}\", \"%Y%j%H%M%S%f\")\n",
    "\n",
    "        # acquisition end time and date\n",
    "        time = components[4][8:]\n",
    "        year = components[4][1:5]\n",
    "        day = components[4][5:8]\n",
    "        datetime_acquisition_end = datetime.strptime(f\"{year}{day}{time}\", \"%Y%j%H%M%S%f\")\n",
    "\n",
    "        # processing time and date\n",
    "        time = components[5][8:-3]\n",
    "        year = components[5][1:5]\n",
    "        day = components[5][5:8]\n",
    "        datetime_processing = datetime.strptime(f\"{year}{day}{time}\", \"%Y%j%H%M%S%f\")\n",
    "        \n",
    "        ext = components[5].split('.')[1]\n",
    "        return cls(\n",
    "            save_path=save_path,\n",
    "            instrument = instrument,\n",
    "            processing_level = processing_level,\n",
    "            satellite_number=satellite_number,\n",
    "            product=product,\n",
    "            domain=domain,\n",
    "            identifier=identifier,\n",
    "            datetime_acquisition_start=datetime_acquisition_start,\n",
    "            datetime_acquisition_end=datetime_acquisition_end,\n",
    "            datetime_processing=datetime_processing,\n",
    "            ext = ext\n",
    "            )\n",
    "    \n",
    "    @property\n",
    "    def goes_filename(self):\n",
    "        \"\"\"\n",
    "        Generates the GOES file name based on the object's properties.\n",
    "\n",
    "        Returns:\n",
    "            str: The generated GOES file name.\n",
    "        OR_[instrument]-[level]-[product][domain]-M4C[channel]_G[sat-no]_s[YYYYDDDHHMMSSS]_e[YYYYDDDHHMMSSS]_c[YYYYDDDHHMMSSS].nc\n",
    "\n",
    "        \"\"\"\n",
    "        # data product\n",
    "        filename = f\"OR_{self.instrument}-{self.processing_level}-{self.product}{self.domain}-{self.identifier}\"\n",
    "        # satellite number\n",
    "        filename += f\"_G{self.satellite_number}\"\n",
    "        # acquisition start and end\n",
    "        date_acquisition_start = self.datetime_acquisition_start.strftime(\"%Y%j%H%M%S%f\")\n",
    "        date_acquisition_end = self.datetime_acquisition_end.strftime(\"%Y%j%H%M%S%f\")\n",
    "        filename += f\"_s{date_acquisition_start}_e{date_acquisition_end}\"\n",
    "        # processing time\n",
    "        date_processing = self.datetime_processing.strftime(\"%Y%j%H%M%S%f\")\n",
    "        filename += f\"_c{date_processing}\"\n",
    "        # extension\n",
    "        filename += f\".{self.ext}\"\n",
    "        return filename\n",
    "    \n",
    "    @property\n",
    "    def full_path(self):\n",
    "        \"\"\"\n",
    "        Gets the full path of the GOES file.\n",
    "\n",
    "        Returns:\n",
    "            Path: The full path of the GOES file.\n",
    "        \"\"\"\n",
    "        return Path(self.save_path).joinpath(self.goes_filename)\n",
    "    "
   ]
  },
  {
   "cell_type": "code",
   "execution_count": 60,
   "metadata": {},
   "outputs": [
    {
     "name": "stdout",
     "output_type": "stream",
     "text": [
      "/Users/anna.jungbluth/Desktop/git/rs_tools/data/goes16/L1b/noaa-goes16/ABI-L1b-RadF/2018/274/14/OR_ABI-L1b-RadF-M4C05_G16_s20182741400224_e20182741405027_c20182741405080.nc\n"
     ]
    },
    {
     "data": {
      "text/plain": [
       "GOESFileName(save_path='/Users/anna.jungbluth/Desktop/git/rs_tools/data/goes16/L1b/noaa-goes16/ABI-L1b-RadF/2018/274/14', instrument='ABI', processing_level='L1b', satellite_number='16', product='Rad', domain='F', identifier='M4C05', ext='nc', datetime_acquisition_start=datetime.datetime(2018, 10, 1, 14, 0, 22, 400000), datetime_acquisition_end=datetime.datetime(2018, 10, 1, 14, 5, 2, 700000), datetime_processing=datetime.datetime(2018, 10, 1, 14, 5, 8))"
      ]
     },
     "execution_count": 60,
     "metadata": {},
     "output_type": "execute_result"
    }
   ],
   "source": [
    "GOESFileName.from_filename(filenames[10])"
   ]
  }
 ],
 "metadata": {
  "kernelspec": {
   "display_name": "iti-env",
   "language": "python",
   "name": "python3"
  },
  "language_info": {
   "codemirror_mode": {
    "name": "ipython",
    "version": 3
   },
   "file_extension": ".py",
   "mimetype": "text/x-python",
   "name": "python",
   "nbconvert_exporter": "python",
   "pygments_lexer": "ipython3",
   "version": "3.11.8"
  }
 },
 "nbformat": 4,
 "nbformat_minor": 2
}
