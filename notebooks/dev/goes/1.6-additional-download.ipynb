{
 "cells": [
  {
   "cell_type": "code",
   "execution_count": 14,
   "metadata": {},
   "outputs": [],
   "source": [
    "import os\n",
    "import glob\n",
    "import numpy as np\n",
    "import matplotlib.pyplot as plt"
   ]
  },
  {
   "cell_type": "code",
   "execution_count": 38,
   "metadata": {},
   "outputs": [],
   "source": [
    "path = '/mnt/disks/goes-data/2020/CM/'"
   ]
  },
  {
   "cell_type": "code",
   "execution_count": 30,
   "metadata": {},
   "outputs": [],
   "source": [
    "def get_list_filenames(data_path: str=\"./\", ext: str=\"*\"):\n",
    "    \"\"\"\n",
    "    Loads a list of file names within a directory.\n",
    "\n",
    "    Args:\n",
    "        data_path (str, optional): The directory path to search for files. Defaults to \"./\".\n",
    "        ext (str, optional): The file extension to filter the search. Defaults to \"*\".\n",
    "\n",
    "    Returns:\n",
    "        List[str]: A sorted list of file names matching the given extension within the directory.\n",
    "    \"\"\"\n",
    "    pattern = f\"*{ext}\"\n",
    "    return sorted(glob.glob(os.path.join(data_path, \"**\", pattern), recursive=True))"
   ]
  },
  {
   "cell_type": "code",
   "execution_count": 39,
   "metadata": {},
   "outputs": [],
   "source": [
    "files = get_list_filenames(path, ext=\"nc\")"
   ]
  },
  {
   "cell_type": "code",
   "execution_count": 40,
   "metadata": {},
   "outputs": [
    {
     "data": {
      "text/plain": [
       "8733"
      ]
     },
     "execution_count": 40,
     "metadata": {},
     "output_type": "execute_result"
    }
   ],
   "source": [
    "len(files)"
   ]
  },
  {
   "cell_type": "code",
   "execution_count": null,
   "metadata": {},
   "outputs": [],
   "source": []
  }
 ],
 "metadata": {
  "kernelspec": {
   "display_name": "rs_tools",
   "language": "python",
   "name": "python3"
  },
  "language_info": {
   "codemirror_mode": {
    "name": "ipython",
    "version": 3
   },
   "file_extension": ".py",
   "mimetype": "text/x-python",
   "name": "python",
   "nbconvert_exporter": "python",
   "pygments_lexer": "ipython3",
   "version": "3.11.9"
  }
 },
 "nbformat": 4,
 "nbformat_minor": 2
}
