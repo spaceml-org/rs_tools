{
 "cells": [
  {
   "cell_type": "markdown",
   "metadata": {},
   "source": [
    "#### Downloading & Inspecting EUMETSAT/MSG Data\n",
    "\n",
    "Code adapted from https://eumetsatspace.atlassian.net/wiki/spaces/EUMDAC/pages/1760198661/Python+Library\n",
    "\n",
    "Requires signing up for an account with EUMETSAT EO Portal: https://eoportal.eumetsat.int/userMgmt/\n",
    "Once done, the consumer key and secret can be found under the user information: https://eumetsatspace.atlassian.net/wiki/spaces/DSEV/pages/375652353/API+Authentication"
   ]
  },
  {
   "cell_type": "code",
   "execution_count": 1,
   "metadata": {},
   "outputs": [],
   "source": [
    "import autoroot"
   ]
  },
  {
   "cell_type": "code",
   "execution_count": 79,
   "metadata": {},
   "outputs": [],
   "source": [
    "import os\n",
    "import ast\n",
    "import eumdac\n",
    "import datetime\n",
    "import shutil\n",
    "import pyproj\n",
    "import rioxarray\n",
    "import rasterio\n",
    "import xarray as xr\n",
    "\n",
    "from pyproj import CRS"
   ]
  },
  {
   "cell_type": "code",
   "execution_count": 3,
   "metadata": {},
   "outputs": [],
   "source": [
    "%load_ext autoreload\n",
    "%autoreload 2"
   ]
  },
  {
   "cell_type": "code",
   "execution_count": null,
   "metadata": {},
   "outputs": [],
   "source": [
    "# Insert your personal key and secret into the single quotes\n",
    "consumer_key = \"\"\n",
    "consumer_secret = \"\"\n",
    "\n",
    "credentials = (consumer_key, consumer_secret)\n",
    "\n",
    "token = eumdac.AccessToken(credentials)\n",
    "\n",
    "print(f\"This token '{token}' expires {token.expiration}\")"
   ]
  },
  {
   "cell_type": "code",
   "execution_count": null,
   "metadata": {},
   "outputs": [],
   "source": [
    "datastore = eumdac.DataStore(token)\n",
    "datastore.collections"
   ]
  },
  {
   "cell_type": "code",
   "execution_count": null,
   "metadata": {},
   "outputs": [],
   "source": [
    "selected_collection = datastore.get_collection('EO:EUM:DAT:MSG:HRSEVIRI')\n",
    "selected_collection?"
   ]
  },
  {
   "cell_type": "markdown",
   "metadata": {},
   "source": [
    "##### Define download parameters & compile list of products"
   ]
  },
  {
   "cell_type": "code",
   "execution_count": null,
   "metadata": {},
   "outputs": [],
   "source": [
    "# Add vertices for polygon, wrapping back to the start point.\n",
    "geometry = [[-1.0, -1.0],[4.0, -4.0],[8.0, -2.0],[9.0, 2.0],[6.0, 4.0],[1.0, 5.0],[-1.0, -1.0]]\n",
    "\n",
    "# Set sensing start and end time\n",
    "start = datetime.datetime(2021, 10, 10, 9, 0)\n",
    "end = datetime.datetime(2021, 10, 10, 10, 0)\n",
    "\n",
    "# Retrieve datasets that match our filter\n",
    "products = selected_collection.search(\n",
    "    geo='POLYGON(({}))'.format(','.join([\"{} {}\".format(*coord) for coord in geometry])),\n",
    "    dtstart=start, \n",
    "    dtend=end)\n",
    "    \n",
    "print(f'Found Datasets: {len(products)} datasets for the given time range')\n",
    "\n",
    "for product in products:\n",
    "    print(str(product))"
   ]
  },
  {
   "cell_type": "markdown",
   "metadata": {},
   "source": [
    "##### Download products\n",
    "\n",
    "Each product contains three files (EOPMetadata.xml, manifest.xml, and data.nat files). When downloading the whole product, a .zip folder is created."
   ]
  },
  {
   "cell_type": "code",
   "execution_count": null,
   "metadata": {},
   "outputs": [],
   "source": [
    "for product in products:\n",
    "    with product.open() as fsrc, \\\n",
    "            open(fsrc.name, mode='wb') as fdst:\n",
    "        shutil.copyfileobj(fsrc, fdst)\n",
    "        print(f'Download of product {product} finished.')\n",
    "print('All downloads are finished.')"
   ]
  },
  {
   "cell_type": "code",
   "execution_count": 24,
   "metadata": {},
   "outputs": [
    {
     "name": "stdout",
     "output_type": "stream",
     "text": [
      "https://api.eumetsat.int/data/download/1.0.0/collections/EO%3AEUM%3ADAT%3AMSG%3AHRSEVIRI/products/MSG4-SEVI-MSG15-0100-NA-20211010095743.941000000Z-NA?access_token=b86efc5f-3691-3821-99c6-f7f8a6dc98d5\n",
      "https://api.eumetsat.int/data/download/1.0.0/collections/EO%3AEUM%3ADAT%3AMSG%3AHRSEVIRI/products/MSG4-SEVI-MSG15-0100-NA-20211010094243.725000000Z-NA?access_token=b86efc5f-3691-3821-99c6-f7f8a6dc98d5\n",
      "https://api.eumetsat.int/data/download/1.0.0/collections/EO%3AEUM%3ADAT%3AMSG%3AHRSEVIRI/products/MSG4-SEVI-MSG15-0100-NA-20211010092743.511000000Z-NA?access_token=b86efc5f-3691-3821-99c6-f7f8a6dc98d5\n",
      "https://api.eumetsat.int/data/download/1.0.0/collections/EO%3AEUM%3ADAT%3AMSG%3AHRSEVIRI/products/MSG4-SEVI-MSG15-0100-NA-20211010091243.299000000Z-NA?access_token=b86efc5f-3691-3821-99c6-f7f8a6dc98d5\n"
     ]
    }
   ],
   "source": [
    "for product in products:    \n",
    "    print(product.url)"
   ]
  },
  {
   "cell_type": "markdown",
   "metadata": {},
   "source": [
    "##### Download only selected products & files"
   ]
  },
  {
   "cell_type": "code",
   "execution_count": 25,
   "metadata": {},
   "outputs": [],
   "source": [
    "selected_product = datastore.get_product(\n",
    "    product_id='MSG4-SEVI-MSG15-0100-NA-20211110081242.766000000Z-NA',\n",
    "    collection_id='EO:EUM:DAT:MSG:HRSEVIRI')"
   ]
  },
  {
   "cell_type": "markdown",
   "metadata": {},
   "source": [
    "The data is stored in a .nat file"
   ]
  },
  {
   "cell_type": "code",
   "execution_count": 26,
   "metadata": {},
   "outputs": [
    {
     "name": "stdout",
     "output_type": "stream",
     "text": [
      "EOPMetadata.xml\n",
      "MSG4-SEVI-MSG15-0100-NA-20211110081242.766000000Z-NA.nat\n",
      "manifest.xml\n"
     ]
    }
   ],
   "source": [
    "for entry in selected_product.entries:\n",
    "    print(entry)"
   ]
  },
  {
   "cell_type": "code",
   "execution_count": 11,
   "metadata": {},
   "outputs": [
    {
     "name": "stdout",
     "output_type": "stream",
     "text": [
      "Download of file MSG4-SEVI-MSG15-0100-NA-20211110081242.766000000Z-NA.nat finished.\n"
     ]
    }
   ],
   "source": [
    "try:\n",
    "    with selected_product.open(entry='MSG4-SEVI-MSG15-0100-NA-20211110081242.766000000Z-NA.nat') as fsrc, \\\n",
    "            open(fsrc.name, mode='wb') as fdst:\n",
    "        shutil.copyfileobj(fsrc, fdst)\n",
    "        print(f'Download of file {fsrc.name} finished.')\n",
    "except eumdac.product.ProductError as error:\n",
    "    print(f\"Error related to the product '{selected_product}' while trying to download it: '{error.msg}'\")"
   ]
  },
  {
   "cell_type": "code",
   "execution_count": 27,
   "metadata": {},
   "outputs": [
    {
     "name": "stdout",
     "output_type": "stream",
     "text": [
      "Download of file EOPMetadata.xml finished.\n"
     ]
    }
   ],
   "source": [
    "try:\n",
    "    with selected_product.open(entry='EOPMetadata.xml') as fsrc, \\\n",
    "            open(fsrc.name, mode='wb') as fdst:\n",
    "        shutil.copyfileobj(fsrc, fdst)\n",
    "        print(f'Download of file {fsrc.name} finished.')\n",
    "except eumdac.product.ProductError as error:\n",
    "    print(f\"Error related to the product '{selected_product}' while trying to download it: '{error.msg}'\")"
   ]
  },
  {
   "cell_type": "markdown",
   "metadata": {},
   "source": [
    "Unfortunately, .nat files are a bit complicated to read/load. One of the best packages is satpy, which then allows loading the files using xarray."
   ]
  },
  {
   "cell_type": "code",
   "execution_count": 4,
   "metadata": {},
   "outputs": [],
   "source": [
    "from satpy import Scene\n",
    "scn = Scene(reader=\"seviri_l1b_native\", filenames=['MSG4-SEVI-MSG15-0100-NA-20211110081242.766000000Z-NA.nat'])"
   ]
  },
  {
   "cell_type": "code",
   "execution_count": 131,
   "metadata": {},
   "outputs": [
    {
     "data": {
      "text/plain": [
       "['HRV',\n",
       " 'IR_016',\n",
       " 'IR_039',\n",
       " 'IR_087',\n",
       " 'IR_097',\n",
       " 'IR_108',\n",
       " 'IR_120',\n",
       " 'IR_134',\n",
       " 'VIS006',\n",
       " 'VIS008',\n",
       " 'WV_062',\n",
       " 'WV_073']"
      ]
     },
     "execution_count": 131,
     "metadata": {},
     "output_type": "execute_result"
    }
   ],
   "source": [
    "# MSG data contains 12 channels, including the high-resolution visible (HRV) channel.\n",
    "datasets = scn.available_dataset_names()\n",
    "datasets"
   ]
  },
  {
   "cell_type": "markdown",
   "metadata": {},
   "source": [
    "In order to convert the scn object to xarray, each dataset needs to be loaded."
   ]
  },
  {
   "cell_type": "code",
   "execution_count": 132,
   "metadata": {},
   "outputs": [],
   "source": [
    "scn.load(datasets[1:], generate=False)\n",
    "# Note: The HRV channel comes in 1 km resolution, while the other channels are 3 km resolution.\n",
    "# Because of the size mismatch, the HRV channel would either need to be downscaled,\n",
    "# or it needs to the loaded separetely to the other channels\n"
   ]
  },
  {
   "cell_type": "code",
   "execution_count": 133,
   "metadata": {},
   "outputs": [
    {
     "name": "stderr",
     "output_type": "stream",
     "text": [
      "/opt/anaconda3/envs/iti-env/lib/python3.11/site-packages/satpy/cf/coords.py:201: UserWarning: Cannot pretty-format \"acq_time\" coordinates because they are not identical among the given datasets\n",
      "  _warn_if_pretty_but_not_unique(pretty, coord_name)\n"
     ]
    }
   ],
   "source": [
    "ds = scn.to_xarray()"
   ]
  }
 ],
 "metadata": {
  "kernelspec": {
   "display_name": "base",
   "language": "python",
   "name": "python3"
  },
  "language_info": {
   "codemirror_mode": {
    "name": "ipython",
    "version": 3
   },
   "file_extension": ".py",
   "mimetype": "text/x-python",
   "name": "python",
   "nbconvert_exporter": "python",
   "pygments_lexer": "ipython3",
   "version": "3.11.8"
  }
 },
 "nbformat": 4,
 "nbformat_minor": 2
}
