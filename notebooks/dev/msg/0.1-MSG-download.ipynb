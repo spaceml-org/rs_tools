{
 "cells": [
  {
   "cell_type": "markdown",
   "metadata": {},
   "source": [
    "#### Downloading & Inspecting EUMETSAT/MSG Data\n",
    "\n",
    "Code adapted from https://eumetsatspace.atlassian.net/wiki/spaces/EUMDAC/pages/1760198661/Python+Library\n",
    "\n",
    "Requires signing up for an account with EUMETSAT EO Portal: https://eoportal.eumetsat.int/userMgmt/\n",
    "Once done, the consumer key and secret can be found under the user information: https://eumetsatspace.atlassian.net/wiki/spaces/DSEV/pages/375652353/API+Authentication"
   ]
  },
  {
   "cell_type": "code",
   "execution_count": null,
   "metadata": {},
   "outputs": [],
   "source": [
    "import autoroot"
   ]
  },
  {
   "cell_type": "code",
   "execution_count": null,
   "metadata": {},
   "outputs": [],
   "source": [
    "import os\n",
    "import ast\n",
    "import eumdac\n",
    "import datetime\n",
    "import shutil\n",
    "import pyproj\n",
    "import rioxarray\n",
    "import rasterio\n",
    "import xarray as xr\n",
    "\n",
    "from pyproj import CRS"
   ]
  },
  {
   "cell_type": "code",
   "execution_count": null,
   "metadata": {},
   "outputs": [],
   "source": [
    "%load_ext autoreload\n",
    "%autoreload 2"
   ]
  },
  {
   "cell_type": "code",
   "execution_count": 8,
   "metadata": {},
   "outputs": [
    {
     "name": "stdout",
     "output_type": "stream",
     "text": [
      "This token '1cb6fd7f-0cd8-3e2c-bbe4-4f70979bcfa0' expires 2024-02-29 20:06:23.813481\n"
     ]
    }
   ],
   "source": [
    "# Insert your personal key and secret into the single quotes\n",
    "consumer_key = \"\"\n",
    "consumer_secret = \"\"\n",
    "\n",
    "credentials = (consumer_key, consumer_secret)\n",
    "\n",
    "token = eumdac.AccessToken(credentials)\n",
    "\n",
    "print(f\"This token '{token}' expires {token.expiration}\")"
   ]
  },
  {
   "cell_type": "code",
   "execution_count": 9,
   "metadata": {},
   "outputs": [
    {
     "data": {
      "text/plain": [
       "[<class 'eumdac.collection.Collection'>(EO:EUM:DAT:MSG:CLM-IODC),\n",
       " <class 'eumdac.collection.Collection'>(EO:EUM:DAT:0082),\n",
       " <class 'eumdac.collection.Collection'>(EO:EUM:DAT:0237),\n",
       " <class 'eumdac.collection.Collection'>(EO:EUM:DAT:0241),\n",
       " <class 'eumdac.collection.Collection'>(EO:EUM:DAT:0274),\n",
       " <class 'eumdac.collection.Collection'>(EO:EUM:DAT:0855),\n",
       " <class 'eumdac.collection.Collection'>(EO:EUM:DAT:0857),\n",
       " <class 'eumdac.collection.Collection'>(EO:EUM:DAT:0584),\n",
       " <class 'eumdac.collection.Collection'>(EO:EUM:DAT:0412),\n",
       " <class 'eumdac.collection.Collection'>(EO:EUM:DAT:MSG:MSG15-RSS),\n",
       " <class 'eumdac.collection.Collection'>(EO:EUM:DAT:MULT:HIRSL1),\n",
       " <class 'eumdac.collection.Collection'>(EO:EUM:DAT:0836),\n",
       " <class 'eumdac.collection.Collection'>(EO:EUM:DAT:METOP:ASCSZF1B),\n",
       " <class 'eumdac.collection.Collection'>(EO:EUM:DAT:METOP:ASCSZR1B),\n",
       " <class 'eumdac.collection.Collection'>(EO:EUM:DAT:0882),\n",
       " <class 'eumdac.collection.Collection'>(EO:EUM:DAT:0394),\n",
       " <class 'eumdac.collection.Collection'>(EO:EUM:DAT:0081),\n",
       " <class 'eumdac.collection.Collection'>(EO:EUM:DAT:0239),\n",
       " <class 'eumdac.collection.Collection'>(EO:EUM:CM:METOP:ASCSZFR02),\n",
       " <class 'eumdac.collection.Collection'>(EO:EUM:DAT:0405),\n",
       " <class 'eumdac.collection.Collection'>(EO:EUM:DAT:0406),\n",
       " <class 'eumdac.collection.Collection'>(EO:EUM:DAT:0410),\n",
       " <class 'eumdac.collection.Collection'>(EO:EUM:DAT:0413),\n",
       " <class 'eumdac.collection.Collection'>(EO:EUM:DAT:0415),\n",
       " <class 'eumdac.collection.Collection'>(EO:EUM:DAT:0416),\n",
       " <class 'eumdac.collection.Collection'>(EO:EUM:DAT:0617),\n",
       " <class 'eumdac.collection.Collection'>(EO:EUM:DAT:0301),\n",
       " <class 'eumdac.collection.Collection'>(EO:EUM:DAT:0851),\n",
       " <class 'eumdac.collection.Collection'>(EO:EUM:DAT:0856),\n",
       " <class 'eumdac.collection.Collection'>(EO:EUM:DAT:METOP:ASCSZO1B),\n",
       " <class 'eumdac.collection.Collection'>(EO:EUM:DAT:METOP:GOMEL1),\n",
       " <class 'eumdac.collection.Collection'>(EO:EUM:DAT:0833),\n",
       " <class 'eumdac.collection.Collection'>(EO:EUM:DAT:0835),\n",
       " <class 'eumdac.collection.Collection'>(EO:EUM:DAT:0880),\n",
       " <class 'eumdac.collection.Collection'>(EO:EUM:DAT:0398),\n",
       " <class 'eumdac.collection.Collection'>(EO:EUM:DAT:METOP:GLB-SST-NC),\n",
       " <class 'eumdac.collection.Collection'>(EO:EUM:DAT:MSG:CLM),\n",
       " <class 'eumdac.collection.Collection'>(EO:EUM:DAT:0143),\n",
       " <class 'eumdac.collection.Collection'>(EO:EUM:DAT:0236),\n",
       " <class 'eumdac.collection.Collection'>(EO:EUM:DAT:0302),\n",
       " <class 'eumdac.collection.Collection'>(EO:EUM:DAT:0408),\n",
       " <class 'eumdac.collection.Collection'>(EO:EUM:DAT:0409),\n",
       " <class 'eumdac.collection.Collection'>(EO:EUM:CM:METOP:ASCSZOR02),\n",
       " <class 'eumdac.collection.Collection'>(EO:EUM:CM:METOP:ASCSZRR02),\n",
       " <class 'eumdac.collection.Collection'>(EO:EUM:DAT:0558),\n",
       " <class 'eumdac.collection.Collection'>(EO:EUM:DAT:0615),\n",
       " <class 'eumdac.collection.Collection'>(EO:EUM:DAT:METOP:OSI-150-A),\n",
       " <class 'eumdac.collection.Collection'>(EO:EUM:DAT:METOP:OSI-150-B),\n",
       " <class 'eumdac.collection.Collection'>(EO:EUM:DAT:MSG:RSS-CLM),\n",
       " <class 'eumdac.collection.Collection'>(EO:EUM:DAT:0834),\n",
       " <class 'eumdac.collection.Collection'>(EO:EUM:DAT:0839),\n",
       " <class 'eumdac.collection.Collection'>(EO:EUM:DAT:0841),\n",
       " <class 'eumdac.collection.Collection'>(EO:EUM:DAT:0858),\n",
       " <class 'eumdac.collection.Collection'>(EO:EUM:DAT:0859),\n",
       " <class 'eumdac.collection.Collection'>(EO:EUM:DAT:0088),\n",
       " <class 'eumdac.collection.Collection'>(EO:EUM:DAT:MSG:HRSEVIRI),\n",
       " <class 'eumdac.collection.Collection'>(EO:EUM:DAT:MSG:HRSEVIRI-IODC),\n",
       " <class 'eumdac.collection.Collection'>(EO:EUM:DAT:0300),\n",
       " <class 'eumdac.collection.Collection'>(EO:EUM:DAT:0142),\n",
       " <class 'eumdac.collection.Collection'>(EO:EUM:DAT:0238),\n",
       " <class 'eumdac.collection.Collection'>(EO:EUM:DAT:0374),\n",
       " <class 'eumdac.collection.Collection'>(EO:EUM:DAT:0407),\n",
       " <class 'eumdac.collection.Collection'>(EO:EUM:DAT:0411),\n",
       " <class 'eumdac.collection.Collection'>(EO:EUM:DAT:0417),\n",
       " <class 'eumdac.collection.Collection'>(EO:EUM:DAT:0601),\n",
       " <class 'eumdac.collection.Collection'>(EO:EUM:DAT:0556),\n",
       " <class 'eumdac.collection.Collection'>(EO:EUM:DAT:0557),\n",
       " <class 'eumdac.collection.Collection'>(EO:EUM:DAT:0576),\n",
       " <class 'eumdac.collection.Collection'>(EO:EUM:DAT:0579),\n",
       " <class 'eumdac.collection.Collection'>(EO:EUM:DAT:0581),\n",
       " <class 'eumdac.collection.Collection'>(EO:EUM:DAT:0583),\n",
       " <class 'eumdac.collection.Collection'>(EO:EUM:DAT:0585),\n",
       " <class 'eumdac.collection.Collection'>(EO:EUM:DAT:0853),\n",
       " <class 'eumdac.collection.Collection'>(EO:EUM:DAT:0854),\n",
       " <class 'eumdac.collection.Collection'>(EO:EUM:DAT:0837),\n",
       " <class 'eumdac.collection.Collection'>(EO:EUM:DAT:0838),\n",
       " <class 'eumdac.collection.Collection'>(EO:EUM:DAT:0840),\n",
       " <class 'eumdac.collection.Collection'>(EO:EUM:DAT:METOP:MHSL1),\n",
       " <class 'eumdac.collection.Collection'>(EO:EUM:DAT:METOP:IASIL1C-ALL),\n",
       " <class 'eumdac.collection.Collection'>(EO:EUM:DAT:METOP:IASSND02),\n",
       " <class 'eumdac.collection.Collection'>(EO:EUM:DAT:0758),\n",
       " <class 'eumdac.collection.Collection'>(EO:EUM:DAT:0881),\n",
       " <class 'eumdac.collection.Collection'>(EO:EUM:DAT:0080),\n",
       " <class 'eumdac.collection.Collection'>(EO:EUM:DAT:0240),\n",
       " <class 'eumdac.collection.Collection'>(EO:EUM:DAT:0533),\n",
       " <class 'eumdac.collection.Collection'>(EO:EUM:DAT:0577),\n",
       " <class 'eumdac.collection.Collection'>(EO:EUM:DAT:0578),\n",
       " <class 'eumdac.collection.Collection'>(EO:EUM:DAT:0582),\n",
       " <class 'eumdac.collection.Collection'>(EO:EUM:DAT:0586),\n",
       " <class 'eumdac.collection.Collection'>(EO:EUM:DAT:0414),\n",
       " <class 'eumdac.collection.Collection'>(EO:EUM:DAT:0842),\n",
       " <class 'eumdac.collection.Collection'>(EO:EUM:DAT:0850),\n",
       " <class 'eumdac.collection.Collection'>(EO:EUM:DAT:0852),\n",
       " <class 'eumdac.collection.Collection'>(EO:EUM:DAT:METOP:OSI-104),\n",
       " <class 'eumdac.collection.Collection'>(EO:EUM:DAT:METOP:SOMO12),\n",
       " <class 'eumdac.collection.Collection'>(EO:EUM:DAT:METOP:SOMO25),\n",
       " <class 'eumdac.collection.Collection'>(EO:EUM:DAT:METOP:AMSUL1),\n",
       " <class 'eumdac.collection.Collection'>(EO:EUM:DAT:METOP:AVHRRL1),\n",
       " <class 'eumdac.collection.Collection'>(EO:EUM:DAT:METOP:LSA-002),\n",
       " <class 'eumdac.collection.Collection'>(EO:EUM:DAT:0645),\n",
       " <class 'eumdac.collection.Collection'>(EO:EUM:DAT:DMSP:OSI-401-B)]"
      ]
     },
     "execution_count": 9,
     "metadata": {},
     "output_type": "execute_result"
    }
   ],
   "source": [
    "datastore = eumdac.DataStore(token)\n",
    "datastore.collections"
   ]
  },
  {
   "cell_type": "code",
   "execution_count": 46,
   "metadata": {},
   "outputs": [
    {
     "data": {
      "text/plain": [
       "eumdac.datastore.DataStore"
      ]
     },
     "execution_count": 46,
     "metadata": {},
     "output_type": "execute_result"
    }
   ],
   "source": [
    "type(datastore)"
   ]
  },
  {
   "cell_type": "code",
   "execution_count": 44,
   "metadata": {},
   "outputs": [
    {
     "data": {
      "text/plain": [
       "<class 'eumdac.collection.SearchResults'>(EO:EUM:DAT:MSG:HRSEVIRI, {'title': None, 'dtend': None, 'publication': None, 'dtstart': None, 'set': None, 'sat': None, 'sort': None, 'geo': None, 'type': None, 'bbox': None})"
      ]
     },
     "execution_count": 44,
     "metadata": {},
     "output_type": "execute_result"
    }
   ],
   "source": [
    "selected_collection = datastore.get_collection('EO:EUM:DAT:MSG:HRSEVIRI')\n",
    "selected_collection.search()"
   ]
  },
  {
   "cell_type": "markdown",
   "metadata": {},
   "source": [
    "##### Define download parameters & compile list of products"
   ]
  },
  {
   "cell_type": "code",
   "execution_count": 51,
   "metadata": {},
   "outputs": [
    {
     "name": "stdout",
     "output_type": "stream",
     "text": [
      "Found Datasets: 1 datasets for the given time range\n",
      "MSG4-SEVI-MSG15-0100-NA-20211010125743.603000000Z-NA\n"
     ]
    }
   ],
   "source": [
    "# Add vertices for polygon, wrapping back to the start point.\n",
    "geometry = [[-1.0, -1.0],[4.0, -4.0],[8.0, -2.0],[9.0, 2.0],[6.0, 4.0],[1.0, 5.0],[-1.0, -1.0]]\n",
    "\n",
    "# Set sensing start and end time\n",
    "# start = datetime.datetime(2021, 10, 10, 0, 0, 0)\n",
    "# end = datetime.datetime(2021, 10, 10, 23, 59, 59)\n",
    "start = datetime.datetime.strptime(\"2021-10-10 12:55:00\", \"%Y-%m-%d %H:%M:%S\")\n",
    "end = datetime.datetime.strptime(\"2021-10-10 12:59:00\", \"%Y-%m-%d %H:%M:%S\")\n",
    "\n",
    "# Retrieve datasets that match our filter\n",
    "products = selected_collection.search(\n",
    "    # geo='POLYGON(({}))'.format(','.join([\"{} {}\".format(*coord) for coord in geometry])),\n",
    "    dtstart=start,\n",
    "    dtend=start,\n",
    "    # dtend=end,\n",
    "    sort=\"start,time,1\")\n",
    "    \n",
    "print(f'Found Datasets: {len(products)} datasets for the given time range')\n",
    "\n",
    "for product in products:\n",
    "    print(str(product))"
   ]
  },
  {
   "cell_type": "markdown",
   "metadata": {},
   "source": [
    "##### Download products\n",
    "\n",
    "Each product contains three files (EOPMetadata.xml, manifest.xml, and data.nat files). When downloading the whole product, a .zip folder is created."
   ]
  },
  {
   "cell_type": "code",
   "execution_count": null,
   "metadata": {},
   "outputs": [],
   "source": [
    "for product in products:\n",
    "    with product.open() as fsrc, \\\n",
    "            open(fsrc.name, mode='wb') as fdst:\n",
    "        shutil.copyfileobj(fsrc, fdst)\n",
    "        print(f'Download of product {product} finished.')\n",
    "print('All downloads are finished.')"
   ]
  },
  {
   "cell_type": "code",
   "execution_count": null,
   "metadata": {},
   "outputs": [],
   "source": [
    "for product in products:    \n",
    "    print(product.url)"
   ]
  },
  {
   "cell_type": "markdown",
   "metadata": {},
   "source": [
    "##### Download only selected products & files"
   ]
  },
  {
   "cell_type": "code",
   "execution_count": 34,
   "metadata": {},
   "outputs": [],
   "source": [
    "selected_product = datastore.get_product(\n",
    "    product_id='MSG4-SEVI-MSG15-0100-NA-20211110081242.766000000Z-NA',\n",
    "    collection_id='EO:EUM:DAT:MSG:HRSEVIRI')"
   ]
  },
  {
   "cell_type": "markdown",
   "metadata": {},
   "source": [
    "The data is stored in a .nat file"
   ]
  },
  {
   "cell_type": "code",
   "execution_count": 55,
   "metadata": {},
   "outputs": [
    {
     "name": "stdout",
     "output_type": "stream",
     "text": [
      "EOPMetadata.xml\n",
      "MSG4-SEVI-MSG15-0100-NA-20211110081242.766000000Z-NA.nat\n",
      "manifest.xml\n"
     ]
    }
   ],
   "source": [
    "for entry in selected_product.entries:\n",
    "    print(entry)"
   ]
  },
  {
   "cell_type": "code",
   "execution_count": null,
   "metadata": {},
   "outputs": [],
   "source": [
    "try:\n",
    "    with selected_product.open(entry='MSG4-SEVI-MSG15-0100-NA-20211110081242.766000000Z-NA.nat') as fsrc, \\\n",
    "            open(fsrc.name, mode='wb') as fdst:\n",
    "        shutil.copyfileobj(fsrc, fdst)\n",
    "        print(f'Download of file {fsrc.name} finished.')\n",
    "except eumdac.product.ProductError as error:\n",
    "    print(f\"Error related to the product '{selected_product}' while trying to download it: '{error.msg}'\")"
   ]
  },
  {
   "cell_type": "code",
   "execution_count": null,
   "metadata": {},
   "outputs": [],
   "source": [
    "try:\n",
    "    with selected_product.open(entry='EOPMetadata.xml') as fsrc, \\\n",
    "            open(fsrc.name, mode='wb') as fdst:\n",
    "        shutil.copyfileobj(fsrc, fdst)\n",
    "        print(f'Download of file {fsrc.name} finished.')\n",
    "except eumdac.product.ProductError as error:\n",
    "    print(f\"Error related to the product '{selected_product}' while trying to download it: '{error.msg}'\")"
   ]
  },
  {
   "cell_type": "markdown",
   "metadata": {},
   "source": [
    "Unfortunately, .nat files are a bit complicated to read/load. One of the best packages is satpy, which then allows loading the files using xarray."
   ]
  },
  {
   "cell_type": "code",
   "execution_count": null,
   "metadata": {},
   "outputs": [],
   "source": [
    "from satpy import Scene\n",
    "scn = Scene(reader=\"seviri_l1b_native\", filenames=['MSG4-SEVI-MSG15-0100-NA-20211110081242.766000000Z-NA.nat'])"
   ]
  },
  {
   "cell_type": "code",
   "execution_count": null,
   "metadata": {},
   "outputs": [],
   "source": [
    "# MSG data contains 12 channels, including the high-resolution visible (HRV) channel.\n",
    "datasets = scn.available_dataset_names()\n",
    "datasets"
   ]
  },
  {
   "cell_type": "markdown",
   "metadata": {},
   "source": [
    "In order to convert the scn object to xarray, each dataset needs to be loaded."
   ]
  },
  {
   "cell_type": "code",
   "execution_count": null,
   "metadata": {},
   "outputs": [],
   "source": [
    "scn.load(datasets[1:], generate=False)\n",
    "# Note: The HRV channel comes in 1 km resolution, while the other channels are 3 km resolution.\n",
    "# Because of the size mismatch, the HRV channel would either need to be downscaled,\n",
    "# or it needs to the loaded separetely to the other channels\n"
   ]
  },
  {
   "cell_type": "code",
   "execution_count": null,
   "metadata": {},
   "outputs": [],
   "source": [
    "ds = scn.to_xarray()"
   ]
  }
 ],
 "metadata": {
  "kernelspec": {
   "display_name": "base",
   "language": "python",
   "name": "python3"
  },
  "language_info": {
   "codemirror_mode": {
    "name": "ipython",
    "version": 3
   },
   "file_extension": ".py",
   "mimetype": "text/x-python",
   "name": "python",
   "nbconvert_exporter": "python",
   "pygments_lexer": "ipython3",
   "version": "3.11.8"
  }
 },
 "nbformat": 4,
 "nbformat_minor": 2
}
