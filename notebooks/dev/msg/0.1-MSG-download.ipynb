{
 "cells": [
  {
   "cell_type": "markdown",
   "metadata": {},
   "source": [
    "#### Downloading & Inspecting EUMETSAT/MSG Data\n",
    "\n",
    "Code adapted from https://eumetsatspace.atlassian.net/wiki/spaces/EUMDAC/pages/1760198661/Python+Library\n",
    "\n",
    "Requires signing up for an account with EUMETSAT EO Portal: https://eoportal.eumetsat.int/userMgmt/\n",
    "Once done, the consumer key and secret can be found under the user information: https://eumetsatspace.atlassian.net/wiki/spaces/DSEV/pages/375652353/API+Authentication"
   ]
  },
  {
   "cell_type": "code",
   "execution_count": null,
   "metadata": {},
   "outputs": [],
   "source": [
    "import autoroot"
   ]
  },
  {
   "cell_type": "code",
   "execution_count": null,
   "metadata": {},
   "outputs": [],
   "source": [
    "import os\n",
    "import ast\n",
    "import eumdac\n",
    "import datetime\n",
    "import shutil\n",
    "import pyproj\n",
    "import rioxarray\n",
    "import rasterio\n",
    "import xarray as xr\n",
    "\n",
    "from pyproj import CRS"
   ]
  },
  {
   "cell_type": "code",
   "execution_count": null,
   "metadata": {},
   "outputs": [],
   "source": [
    "%load_ext autoreload\n",
    "%autoreload 2"
   ]
  },
  {
   "cell_type": "code",
   "execution_count": 8,
   "metadata": {},
   "outputs": [
    {
     "name": "stdout",
     "output_type": "stream",
     "text": [
      "This token '1cb6fd7f-0cd8-3e2c-bbe4-4f70979bcfa0' expires 2024-02-29 20:06:23.813481\n"
     ]
    }
   ],
   "source": [
    "# Insert your personal key and secret into the single quotes\n",
    "consumer_key = \"\"\n",
    "consumer_secret = \"\"\n",
    "\n",
    "credentials = (consumer_key, consumer_secret)\n",
    "\n",
    "token = eumdac.AccessToken(credentials)\n",
    "\n",
    "print(f\"This token '{token}' expires {token.expiration}\")"
   ]
  },
  {
   "cell_type": "code",
   "execution_count": 9,
   "metadata": {},
   "outputs": [
    {
     "data": {
      "text/plain": [
       "[<class 'eumdac.collection.Collection'>(EO:EUM:DAT:MSG:CLM-IODC),\n",
       " <class 'eumdac.collection.Collection'>(EO:EUM:DAT:0082),\n",
       " <class 'eumdac.collection.Collection'>(EO:EUM:DAT:0237),\n",
       " <class 'eumdac.collection.Collection'>(EO:EUM:DAT:0241),\n",
       " <class 'eumdac.collection.Collection'>(EO:EUM:DAT:0274),\n",
       " <class 'eumdac.collection.Collection'>(EO:EUM:DAT:0855),\n",
       " <class 'eumdac.collection.Collection'>(EO:EUM:DAT:0857),\n",
       " <class 'eumdac.collection.Collection'>(EO:EUM:DAT:0584),\n",
       " <class 'eumdac.collection.Collection'>(EO:EUM:DAT:0412),\n",
       " <class 'eumdac.collection.Collection'>(EO:EUM:DAT:MSG:MSG15-RSS),\n",
       " <class 'eumdac.collection.Collection'>(EO:EUM:DAT:MULT:HIRSL1),\n",
       " <class 'eumdac.collection.Collection'>(EO:EUM:DAT:0836),\n",
       " <class 'eumdac.collection.Collection'>(EO:EUM:DAT:METOP:ASCSZF1B),\n",
       " <class 'eumdac.collection.Collection'>(EO:EUM:DAT:METOP:ASCSZR1B),\n",
       " <class 'eumdac.collection.Collection'>(EO:EUM:DAT:0882),\n",
       " <class 'eumdac.collection.Collection'>(EO:EUM:DAT:0394),\n",
       " <class 'eumdac.collection.Collection'>(EO:EUM:DAT:0081),\n",
       " <class 'eumdac.collection.Collection'>(EO:EUM:DAT:0239),\n",
       " <class 'eumdac.collection.Collection'>(EO:EUM:CM:METOP:ASCSZFR02),\n",
       " <class 'eumdac.collection.Collection'>(EO:EUM:DAT:0405),\n",
       " <class 'eumdac.collection.Collection'>(EO:EUM:DAT:0406),\n",
       " <class 'eumdac.collection.Collection'>(EO:EUM:DAT:0410),\n",
       " <class 'eumdac.collection.Collection'>(EO:EUM:DAT:0413),\n",
       " <class 'eumdac.collection.Collection'>(EO:EUM:DAT:0415),\n",
       " <class 'eumdac.collection.Collection'>(EO:EUM:DAT:0416),\n",
       " <class 'eumdac.collection.Collection'>(EO:EUM:DAT:0617),\n",
       " <class 'eumdac.collection.Collection'>(EO:EUM:DAT:0301),\n",
       " <class 'eumdac.collection.Collection'>(EO:EUM:DAT:0851),\n",
       " <class 'eumdac.collection.Collection'>(EO:EUM:DAT:0856),\n",
       " <class 'eumdac.collection.Collection'>(EO:EUM:DAT:METOP:ASCSZO1B),\n",
       " <class 'eumdac.collection.Collection'>(EO:EUM:DAT:METOP:GOMEL1),\n",
       " <class 'eumdac.collection.Collection'>(EO:EUM:DAT:0833),\n",
       " <class 'eumdac.collection.Collection'>(EO:EUM:DAT:0835),\n",
       " <class 'eumdac.collection.Collection'>(EO:EUM:DAT:0880),\n",
       " <class 'eumdac.collection.Collection'>(EO:EUM:DAT:0398),\n",
       " <class 'eumdac.collection.Collection'>(EO:EUM:DAT:METOP:GLB-SST-NC),\n",
       " <class 'eumdac.collection.Collection'>(EO:EUM:DAT:MSG:CLM),\n",
       " <class 'eumdac.collection.Collection'>(EO:EUM:DAT:0143),\n",
       " <class 'eumdac.collection.Collection'>(EO:EUM:DAT:0236),\n",
       " <class 'eumdac.collection.Collection'>(EO:EUM:DAT:0302),\n",
       " <class 'eumdac.collection.Collection'>(EO:EUM:DAT:0408),\n",
       " <class 'eumdac.collection.Collection'>(EO:EUM:DAT:0409),\n",
       " <class 'eumdac.collection.Collection'>(EO:EUM:CM:METOP:ASCSZOR02),\n",
       " <class 'eumdac.collection.Collection'>(EO:EUM:CM:METOP:ASCSZRR02),\n",
       " <class 'eumdac.collection.Collection'>(EO:EUM:DAT:0558),\n",
       " <class 'eumdac.collection.Collection'>(EO:EUM:DAT:0615),\n",
       " <class 'eumdac.collection.Collection'>(EO:EUM:DAT:METOP:OSI-150-A),\n",
       " <class 'eumdac.collection.Collection'>(EO:EUM:DAT:METOP:OSI-150-B),\n",
       " <class 'eumdac.collection.Collection'>(EO:EUM:DAT:MSG:RSS-CLM),\n",
       " <class 'eumdac.collection.Collection'>(EO:EUM:DAT:0834),\n",
       " <class 'eumdac.collection.Collection'>(EO:EUM:DAT:0839),\n",
       " <class 'eumdac.collection.Collection'>(EO:EUM:DAT:0841),\n",
       " <class 'eumdac.collection.Collection'>(EO:EUM:DAT:0858),\n",
       " <class 'eumdac.collection.Collection'>(EO:EUM:DAT:0859),\n",
       " <class 'eumdac.collection.Collection'>(EO:EUM:DAT:0088),\n",
       " <class 'eumdac.collection.Collection'>(EO:EUM:DAT:MSG:HRSEVIRI),\n",
       " <class 'eumdac.collection.Collection'>(EO:EUM:DAT:MSG:HRSEVIRI-IODC),\n",
       " <class 'eumdac.collection.Collection'>(EO:EUM:DAT:0300),\n",
       " <class 'eumdac.collection.Collection'>(EO:EUM:DAT:0142),\n",
       " <class 'eumdac.collection.Collection'>(EO:EUM:DAT:0238),\n",
       " <class 'eumdac.collection.Collection'>(EO:EUM:DAT:0374),\n",
       " <class 'eumdac.collection.Collection'>(EO:EUM:DAT:0407),\n",
       " <class 'eumdac.collection.Collection'>(EO:EUM:DAT:0411),\n",
       " <class 'eumdac.collection.Collection'>(EO:EUM:DAT:0417),\n",
       " <class 'eumdac.collection.Collection'>(EO:EUM:DAT:0601),\n",
       " <class 'eumdac.collection.Collection'>(EO:EUM:DAT:0556),\n",
       " <class 'eumdac.collection.Collection'>(EO:EUM:DAT:0557),\n",
       " <class 'eumdac.collection.Collection'>(EO:EUM:DAT:0576),\n",
       " <class 'eumdac.collection.Collection'>(EO:EUM:DAT:0579),\n",
       " <class 'eumdac.collection.Collection'>(EO:EUM:DAT:0581),\n",
       " <class 'eumdac.collection.Collection'>(EO:EUM:DAT:0583),\n",
       " <class 'eumdac.collection.Collection'>(EO:EUM:DAT:0585),\n",
       " <class 'eumdac.collection.Collection'>(EO:EUM:DAT:0853),\n",
       " <class 'eumdac.collection.Collection'>(EO:EUM:DAT:0854),\n",
       " <class 'eumdac.collection.Collection'>(EO:EUM:DAT:0837),\n",
       " <class 'eumdac.collection.Collection'>(EO:EUM:DAT:0838),\n",
       " <class 'eumdac.collection.Collection'>(EO:EUM:DAT:0840),\n",
       " <class 'eumdac.collection.Collection'>(EO:EUM:DAT:METOP:MHSL1),\n",
       " <class 'eumdac.collection.Collection'>(EO:EUM:DAT:METOP:IASIL1C-ALL),\n",
       " <class 'eumdac.collection.Collection'>(EO:EUM:DAT:METOP:IASSND02),\n",
       " <class 'eumdac.collection.Collection'>(EO:EUM:DAT:0758),\n",
       " <class 'eumdac.collection.Collection'>(EO:EUM:DAT:0881),\n",
       " <class 'eumdac.collection.Collection'>(EO:EUM:DAT:0080),\n",
       " <class 'eumdac.collection.Collection'>(EO:EUM:DAT:0240),\n",
       " <class 'eumdac.collection.Collection'>(EO:EUM:DAT:0533),\n",
       " <class 'eumdac.collection.Collection'>(EO:EUM:DAT:0577),\n",
       " <class 'eumdac.collection.Collection'>(EO:EUM:DAT:0578),\n",
       " <class 'eumdac.collection.Collection'>(EO:EUM:DAT:0582),\n",
       " <class 'eumdac.collection.Collection'>(EO:EUM:DAT:0586),\n",
       " <class 'eumdac.collection.Collection'>(EO:EUM:DAT:0414),\n",
       " <class 'eumdac.collection.Collection'>(EO:EUM:DAT:0842),\n",
       " <class 'eumdac.collection.Collection'>(EO:EUM:DAT:0850),\n",
       " <class 'eumdac.collection.Collection'>(EO:EUM:DAT:0852),\n",
       " <class 'eumdac.collection.Collection'>(EO:EUM:DAT:METOP:OSI-104),\n",
       " <class 'eumdac.collection.Collection'>(EO:EUM:DAT:METOP:SOMO12),\n",
       " <class 'eumdac.collection.Collection'>(EO:EUM:DAT:METOP:SOMO25),\n",
       " <class 'eumdac.collection.Collection'>(EO:EUM:DAT:METOP:AMSUL1),\n",
       " <class 'eumdac.collection.Collection'>(EO:EUM:DAT:METOP:AVHRRL1),\n",
       " <class 'eumdac.collection.Collection'>(EO:EUM:DAT:METOP:LSA-002),\n",
       " <class 'eumdac.collection.Collection'>(EO:EUM:DAT:0645),\n",
       " <class 'eumdac.collection.Collection'>(EO:EUM:DAT:DMSP:OSI-401-B)]"
      ]
     },
     "execution_count": 9,
     "metadata": {},
     "output_type": "execute_result"
    }
   ],
   "source": [
    "datastore = eumdac.DataStore(token)\n",
    "datastore.collections"
   ]
  },
  {
   "cell_type": "code",
   "execution_count": 46,
   "metadata": {},
   "outputs": [
    {
     "data": {
      "text/plain": [
       "eumdac.datastore.DataStore"
      ]
     },
     "execution_count": 46,
     "metadata": {},
     "output_type": "execute_result"
    }
   ],
   "source": [
    "type(datastore)"
   ]
  },
  {
   "cell_type": "code",
   "execution_count": 44,
   "metadata": {},
   "outputs": [
    {
     "data": {
      "text/plain": [
       "<class 'eumdac.collection.SearchResults'>(EO:EUM:DAT:MSG:HRSEVIRI, {'title': None, 'dtend': None, 'publication': None, 'dtstart': None, 'set': None, 'sat': None, 'sort': None, 'geo': None, 'type': None, 'bbox': None})"
      ]
     },
     "execution_count": 44,
     "metadata": {},
     "output_type": "execute_result"
    }
   ],
   "source": [
    "selected_collection = datastore.get_collection('EO:EUM:DAT:MSG:HRSEVIRI')\n",
    "selected_collection.search()"
   ]
  },
  {
   "cell_type": "markdown",
   "metadata": {},
   "source": [
    "##### Define download parameters & compile list of products"
   ]
  },
  {
   "cell_type": "code",
   "execution_count": 51,
   "metadata": {},
   "outputs": [
    {
     "name": "stdout",
     "output_type": "stream",
     "text": [
      "Found Datasets: 1 datasets for the given time range\n",
      "MSG4-SEVI-MSG15-0100-NA-20211010125743.603000000Z-NA\n"
     ]
    }
   ],
   "source": [
    "# Add vertices for polygon, wrapping back to the start point.\n",
    "geometry = [[-1.0, -1.0],[4.0, -4.0],[8.0, -2.0],[9.0, 2.0],[6.0, 4.0],[1.0, 5.0],[-1.0, -1.0]]\n",
    "\n",
    "# Set sensing start and end time\n",
    "# start = datetime.datetime(2021, 10, 10, 0, 0, 0)\n",
    "# end = datetime.datetime(2021, 10, 10, 23, 59, 59)\n",
    "start = datetime.datetime.strptime(\"2021-10-10 12:55:00\", \"%Y-%m-%d %H:%M:%S\")\n",
    "end = datetime.datetime.strptime(\"2021-10-10 12:59:00\", \"%Y-%m-%d %H:%M:%S\")\n",
    "\n",
    "# Retrieve datasets that match our filter\n",
    "products = selected_collection.search(\n",
    "    # geo='POLYGON(({}))'.format(','.join([\"{} {}\".format(*coord) for coord in geometry])),\n",
    "    dtstart=start,\n",
    "    dtend=start,\n",
    "    # dtend=end,\n",
    "    sort=\"start,time,1\")\n",
    "    \n",
    "print(f'Found Datasets: {len(products)} datasets for the given time range')\n",
    "\n",
    "for product in products:\n",
    "    print(str(product))"
   ]
  },
  {
   "cell_type": "markdown",
   "metadata": {},
   "source": [
    "##### Download products\n",
    "\n",
    "Each product contains three files (EOPMetadata.xml, manifest.xml, and data.nat files). When downloading the whole product, a .zip folder is created."
   ]
  },
  {
   "cell_type": "code",
   "execution_count": null,
   "metadata": {},
   "outputs": [],
   "source": [
    "for product in products:\n",
    "    with product.open() as fsrc, \\\n",
    "            open(fsrc.name, mode='wb') as fdst:\n",
    "        shutil.copyfileobj(fsrc, fdst)\n",
    "        print(f'Download of product {product} finished.')\n",
    "print('All downloads are finished.')"
   ]
  },
  {
   "cell_type": "code",
   "execution_count": null,
   "metadata": {},
   "outputs": [],
   "source": [
    "for product in products:    \n",
    "    print(product.url)"
   ]
  },
  {
   "cell_type": "markdown",
   "metadata": {},
   "source": [
    "##### Download only selected products & files"
   ]
  },
  {
   "cell_type": "code",
   "execution_count": 34,
   "metadata": {},
   "outputs": [],
   "source": [
    "selected_product = datastore.get_product(\n",
    "    product_id='MSG4-SEVI-MSG15-0100-NA-20211110081242.766000000Z-NA',\n",
    "    collection_id='EO:EUM:DAT:MSG:HRSEVIRI')"
   ]
  },
  {
   "cell_type": "markdown",
   "metadata": {},
   "source": [
    "The data is stored in a .nat file"
   ]
  },
  {
   "cell_type": "code",
   "execution_count": 33,
   "metadata": {},
   "outputs": [
    {
     "ename": "ProductError",
     "evalue": "Product MSG4-SEVI-MSG15-0100-NA-202111100812 not found in EO:EUM:DAT:MSG:HRSEVIRI",
     "output_type": "error",
     "traceback": [
      "\u001b[0;31m---------------------------------------------------------------------------\u001b[0m",
      "\u001b[0;31mHTTPError\u001b[0m                                 Traceback (most recent call last)",
      "File \u001b[0;32m/opt/anaconda3/envs/iti-env/lib/python3.11/site-packages/eumdac/errors.py:16\u001b[0m, in \u001b[0;36meumdac_raise_for_status\u001b[0;34m(msg, response, exc_cls)\u001b[0m\n\u001b[1;32m     15\u001b[0m \u001b[38;5;28;01mtry\u001b[39;00m:\n\u001b[0;32m---> 16\u001b[0m     \u001b[43mresponse\u001b[49m\u001b[38;5;241;43m.\u001b[39;49m\u001b[43mraise_for_status\u001b[49m\u001b[43m(\u001b[49m\u001b[43m)\u001b[49m\n\u001b[1;32m     17\u001b[0m \u001b[38;5;28;01mexcept\u001b[39;00m requests\u001b[38;5;241m.\u001b[39mHTTPError \u001b[38;5;28;01mas\u001b[39;00m exc:\n",
      "File \u001b[0;32m/opt/anaconda3/envs/iti-env/lib/python3.11/site-packages/requests/models.py:1021\u001b[0m, in \u001b[0;36mResponse.raise_for_status\u001b[0;34m(self)\u001b[0m\n\u001b[1;32m   1020\u001b[0m \u001b[38;5;28;01mif\u001b[39;00m http_error_msg:\n\u001b[0;32m-> 1021\u001b[0m     \u001b[38;5;28;01mraise\u001b[39;00m HTTPError(http_error_msg, response\u001b[38;5;241m=\u001b[39m\u001b[38;5;28mself\u001b[39m)\n",
      "\u001b[0;31mHTTPError\u001b[0m: 404 Client Error:  for url: https://api.eumetsat.int/data/browse/1.0.0/collections/EO%3AEUM%3ADAT%3AMSG%3AHRSEVIRI/products/MSG4-SEVI-MSG15-0100-NA-202111100812?format=json",
      "\nThe above exception was the direct cause of the following exception:\n",
      "\u001b[0;31mProductError\u001b[0m                              Traceback (most recent call last)",
      "Cell \u001b[0;32mIn[33], line 1\u001b[0m\n\u001b[0;32m----> 1\u001b[0m \u001b[38;5;28;01mfor\u001b[39;00m entry \u001b[38;5;129;01min\u001b[39;00m \u001b[43mselected_product\u001b[49m\u001b[38;5;241;43m.\u001b[39;49m\u001b[43mentries\u001b[49m:\n\u001b[1;32m      2\u001b[0m     \u001b[38;5;28mprint\u001b[39m(entry)\n",
      "File \u001b[0;32m/opt/anaconda3/envs/iti-env/lib/python3.11/site-packages/eumdac/product.py:393\u001b[0m, in \u001b[0;36mProduct.entries\u001b[0;34m(self)\u001b[0m\n\u001b[1;32m    390\u001b[0m \u001b[38;5;129m@property\u001b[39m\n\u001b[1;32m    391\u001b[0m \u001b[38;5;28;01mdef\u001b[39;00m \u001b[38;5;21mentries\u001b[39m(\u001b[38;5;28mself\u001b[39m) \u001b[38;5;241m-\u001b[39m\u001b[38;5;241m>\u001b[39m Sequence[\u001b[38;5;28mstr\u001b[39m] \u001b[38;5;129;01mor\u001b[39;00m \u001b[38;5;28mbool\u001b[39m:  \u001b[38;5;66;03m# type: ignore[valid-type]\u001b[39;00m\n\u001b[1;32m    392\u001b[0m \u001b[38;5;250m    \u001b[39m\u001b[38;5;124;03m\"\"\"Files inside the product\"\"\"\u001b[39;00m\n\u001b[0;32m--> 393\u001b[0m     \u001b[38;5;28;43mself\u001b[39;49m\u001b[38;5;241;43m.\u001b[39;49m\u001b[43m_ensure_properties\u001b[49m\u001b[43m(\u001b[49m\u001b[43m)\u001b[49m\n\u001b[1;32m    394\u001b[0m     \u001b[38;5;28;01mif\u001b[39;00m \u001b[38;5;28mself\u001b[39m\u001b[38;5;241m.\u001b[39m_entries \u001b[38;5;129;01mis\u001b[39;00m \u001b[38;5;28;01mNone\u001b[39;00m:\n\u001b[1;32m    395\u001b[0m         \u001b[38;5;28;01mreturn\u001b[39;00m \u001b[38;5;28;01mFalse\u001b[39;00m\n",
      "File \u001b[0;32m/opt/anaconda3/envs/iti-env/lib/python3.11/site-packages/eumdac/product.py:97\u001b[0m, in \u001b[0;36mProduct._ensure_properties\u001b[0;34m(self)\u001b[0m\n\u001b[1;32m     90\u001b[0m auth \u001b[38;5;241m=\u001b[39m \u001b[38;5;28mself\u001b[39m\u001b[38;5;241m.\u001b[39mdatastore\u001b[38;5;241m.\u001b[39mtoken\u001b[38;5;241m.\u001b[39mauth\n\u001b[1;32m     91\u001b[0m response \u001b[38;5;241m=\u001b[39m get(\n\u001b[1;32m     92\u001b[0m     url,\n\u001b[1;32m     93\u001b[0m     params\u001b[38;5;241m=\u001b[39m{\u001b[38;5;124m\"\u001b[39m\u001b[38;5;124mformat\u001b[39m\u001b[38;5;124m\"\u001b[39m: \u001b[38;5;124m\"\u001b[39m\u001b[38;5;124mjson\u001b[39m\u001b[38;5;124m\"\u001b[39m},\n\u001b[1;32m     94\u001b[0m     auth\u001b[38;5;241m=\u001b[39mauth,\n\u001b[1;32m     95\u001b[0m     headers\u001b[38;5;241m=\u001b[39meumdac\u001b[38;5;241m.\u001b[39mcommon\u001b[38;5;241m.\u001b[39mheaders,\n\u001b[1;32m     96\u001b[0m )\n\u001b[0;32m---> 97\u001b[0m \u001b[43meumdac_raise_for_status\u001b[49m\u001b[43m(\u001b[49m\n\u001b[1;32m     98\u001b[0m \u001b[43m    \u001b[49m\u001b[38;5;124;43mf\u001b[39;49m\u001b[38;5;124;43m\"\u001b[39;49m\u001b[38;5;124;43mProduct \u001b[39;49m\u001b[38;5;132;43;01m{\u001b[39;49;00m\u001b[38;5;28;43mself\u001b[39;49m\u001b[38;5;241;43m.\u001b[39;49m\u001b[43m_id\u001b[49m\u001b[38;5;132;43;01m}\u001b[39;49;00m\u001b[38;5;124;43m not found in \u001b[39;49m\u001b[38;5;132;43;01m{\u001b[39;49;00m\u001b[38;5;28;43mself\u001b[39;49m\u001b[38;5;241;43m.\u001b[39;49m\u001b[43mcollection\u001b[49m\u001b[38;5;241;43m.\u001b[39;49m\u001b[43m_id\u001b[49m\u001b[38;5;132;43;01m}\u001b[39;49;00m\u001b[38;5;124;43m\"\u001b[39;49m\u001b[43m,\u001b[49m\u001b[43m \u001b[49m\u001b[43mresponse\u001b[49m\u001b[43m,\u001b[49m\u001b[43m \u001b[49m\u001b[43mProductError\u001b[49m\n\u001b[1;32m     99\u001b[0m \u001b[43m\u001b[49m\u001b[43m)\u001b[49m\n\u001b[1;32m    101\u001b[0m \u001b[38;5;28;01mif\u001b[39;00m \u001b[38;5;124m\"\u001b[39m\u001b[38;5;124mgeometry\u001b[39m\u001b[38;5;124m\"\u001b[39m \u001b[38;5;129;01min\u001b[39;00m response\u001b[38;5;241m.\u001b[39mjson():\n\u001b[1;32m    102\u001b[0m     geometry \u001b[38;5;241m=\u001b[39m response\u001b[38;5;241m.\u001b[39mjson()[\u001b[38;5;124m\"\u001b[39m\u001b[38;5;124mgeometry\u001b[39m\u001b[38;5;124m\"\u001b[39m]\n",
      "File \u001b[0;32m/opt/anaconda3/envs/iti-env/lib/python3.11/site-packages/eumdac/errors.py:30\u001b[0m, in \u001b[0;36meumdac_raise_for_status\u001b[0;34m(msg, response, exc_cls)\u001b[0m\n\u001b[1;32m     28\u001b[0m     msg \u001b[38;5;241m+\u001b[39m\u001b[38;5;241m=\u001b[39m \u001b[38;5;124m\"\u001b[39m\u001b[38;5;124m (due to a server-side error)\u001b[39m\u001b[38;5;124m\"\u001b[39m\n\u001b[1;32m     29\u001b[0m exception \u001b[38;5;241m=\u001b[39m exc_cls(msg, extra_info)\n\u001b[0;32m---> 30\u001b[0m \u001b[38;5;28;01mraise\u001b[39;00m exception \u001b[38;5;28;01mfrom\u001b[39;00m \u001b[38;5;21;01mexc\u001b[39;00m\n",
      "\u001b[0;31mProductError\u001b[0m: Product MSG4-SEVI-MSG15-0100-NA-202111100812 not found in EO:EUM:DAT:MSG:HRSEVIRI"
     ]
    }
   ],
   "source": [
    "for entry in selected_product.entries:\n",
    "    print(entry)"
   ]
  },
  {
   "cell_type": "code",
   "execution_count": null,
   "metadata": {},
   "outputs": [],
   "source": [
    "try:\n",
    "    with selected_product.open(entry='MSG4-SEVI-MSG15-0100-NA-20211110081242.766000000Z-NA.nat') as fsrc, \\\n",
    "            open(fsrc.name, mode='wb') as fdst:\n",
    "        shutil.copyfileobj(fsrc, fdst)\n",
    "        print(f'Download of file {fsrc.name} finished.')\n",
    "except eumdac.product.ProductError as error:\n",
    "    print(f\"Error related to the product '{selected_product}' while trying to download it: '{error.msg}'\")"
   ]
  },
  {
   "cell_type": "code",
   "execution_count": null,
   "metadata": {},
   "outputs": [],
   "source": [
    "try:\n",
    "    with selected_product.open(entry='EOPMetadata.xml') as fsrc, \\\n",
    "            open(fsrc.name, mode='wb') as fdst:\n",
    "        shutil.copyfileobj(fsrc, fdst)\n",
    "        print(f'Download of file {fsrc.name} finished.')\n",
    "except eumdac.product.ProductError as error:\n",
    "    print(f\"Error related to the product '{selected_product}' while trying to download it: '{error.msg}'\")"
   ]
  },
  {
   "cell_type": "markdown",
   "metadata": {},
   "source": [
    "Unfortunately, .nat files are a bit complicated to read/load. One of the best packages is satpy, which then allows loading the files using xarray."
   ]
  },
  {
   "cell_type": "code",
   "execution_count": null,
   "metadata": {},
   "outputs": [],
   "source": [
    "from satpy import Scene\n",
    "scn = Scene(reader=\"seviri_l1b_native\", filenames=['MSG4-SEVI-MSG15-0100-NA-20211110081242.766000000Z-NA.nat'])"
   ]
  },
  {
   "cell_type": "code",
   "execution_count": null,
   "metadata": {},
   "outputs": [],
   "source": [
    "# MSG data contains 12 channels, including the high-resolution visible (HRV) channel.\n",
    "datasets = scn.available_dataset_names()\n",
    "datasets"
   ]
  },
  {
   "cell_type": "markdown",
   "metadata": {},
   "source": [
    "In order to convert the scn object to xarray, each dataset needs to be loaded."
   ]
  },
  {
   "cell_type": "code",
   "execution_count": null,
   "metadata": {},
   "outputs": [],
   "source": [
    "scn.load(datasets[1:], generate=False)\n",
    "# Note: The HRV channel comes in 1 km resolution, while the other channels are 3 km resolution.\n",
    "# Because of the size mismatch, the HRV channel would either need to be downscaled,\n",
    "# or it needs to the loaded separetely to the other channels\n"
   ]
  },
  {
   "cell_type": "code",
   "execution_count": null,
   "metadata": {},
   "outputs": [],
   "source": [
    "ds = scn.to_xarray()"
   ]
  }
 ],
 "metadata": {
  "kernelspec": {
   "display_name": "base",
   "language": "python",
   "name": "python3"
  },
  "language_info": {
   "codemirror_mode": {
    "name": "ipython",
    "version": 3
   },
   "file_extension": ".py",
   "mimetype": "text/x-python",
   "name": "python",
   "nbconvert_exporter": "python",
   "pygments_lexer": "ipython3",
   "version": "3.11.8"
  }
 },
 "nbformat": 4,
 "nbformat_minor": 2
}
