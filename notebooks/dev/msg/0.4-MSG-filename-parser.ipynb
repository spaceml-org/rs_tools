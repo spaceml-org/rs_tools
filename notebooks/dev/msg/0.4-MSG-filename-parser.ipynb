{
 "cells": [
  {
   "cell_type": "code",
   "execution_count": 1,
   "metadata": {},
   "outputs": [],
   "source": [
    "import xarray as xr\n",
    "import os\n",
    "import glob\n",
    "import matplotlib.pyplot as plt\n",
    "from dataclasses import dataclass\n",
    "from typing import List\n",
    "from pathlib import Path\n",
    "from datetime import datetime"
   ]
  },
  {
   "cell_type": "code",
   "execution_count": 2,
   "metadata": {},
   "outputs": [],
   "source": [
    "path = '/Users/anna.jungbluth/Desktop/git/rs_tools/data/msg'"
   ]
  },
  {
   "cell_type": "code",
   "execution_count": 3,
   "metadata": {},
   "outputs": [],
   "source": [
    "filenames = glob.glob(f'{path}/**', recursive=True)"
   ]
  },
  {
   "cell_type": "code",
   "execution_count": 4,
   "metadata": {},
   "outputs": [
    {
     "data": {
      "text/plain": [
       "['/Users/anna.jungbluth/Desktop/git/rs_tools/data/msg/',\n",
       " '/Users/anna.jungbluth/Desktop/git/rs_tools/data/msg/L1b',\n",
       " '/Users/anna.jungbluth/Desktop/git/rs_tools/data/msg/L1b/MSG4-SEVI-MSG15-0100-NA-20201002141243.994000000Z-NA.nat',\n",
       " '/Users/anna.jungbluth/Desktop/git/rs_tools/data/msg/L1b/MSG4-SEVI-MSG15-0100-NA-20201002142742.310000000Z-NA.nat',\n",
       " '/Users/anna.jungbluth/Desktop/git/rs_tools/data/msg/CM',\n",
       " '/Users/anna.jungbluth/Desktop/git/rs_tools/data/msg/CM/MSG4-SEVI-MSGCLMK-0100-0100-20201002141500.000000000Z-NA.grb',\n",
       " '/Users/anna.jungbluth/Desktop/git/rs_tools/data/msg/CM/MSG4-SEVI-MSGCLMK-0100-0100-20201002140000.000000000Z-NA.grb',\n",
       " '/Users/anna.jungbluth/Desktop/git/rs_tools/data/msg/CM/MSG4-SEVI-MSGCLMK-0100-0100-20201002143000.000000000Z-NA.grb']"
      ]
     },
     "execution_count": 4,
     "metadata": {},
     "output_type": "execute_result"
    }
   ],
   "source": [
    "filenames"
   ]
  },
  {
   "cell_type": "code",
   "execution_count": 20,
   "metadata": {},
   "outputs": [],
   "source": [
    "\n",
    "@dataclass(order=True, frozen=True)\n",
    "class MSGFileName:\n",
    "    \"\"\"\n",
    "    MSG Data product file name\n",
    "    MSG[sat-no]-[instrument]-MSG[data-product]-0100-NA-[YYYYMMDDHHMMSS].[sssssssss]Z-NA.nat\n",
    "\n",
    "    MSG Cloud mask file name\n",
    "    MSG[sat-no]-[instrument]-MSG[data-product]-0100-0100-[YYYYMMDDHHMMSS].[sssssssss]Z-NA.grb\n",
    "    \"\"\"\n",
    "    save_path: str \n",
    "    instrument: str\n",
    "    satellite_number: str\n",
    "    data_product: str\n",
    "    data_details_1: str\n",
    "    data_details_2: str\n",
    "    subsecond: str\n",
    "    ext: str\n",
    "    datetime_acquisition: datetime\n",
    "\n",
    "    @classmethod\n",
    "    def from_filename(cls, file_name: str):\n",
    "        \"\"\"\n",
    "        Creates a MSGFileName object from a given file name.\n",
    "\n",
    "        Args:\n",
    "            cls (type): The class object that the method is bound to.\n",
    "            file_name (str): The file name to parse.\n",
    "\n",
    "        Returns:\n",
    "            MSGFileName: The parsed GOESFileName object.\n",
    "        \"\"\"\n",
    "\n",
    "        file_name = Path(file_name)\n",
    "        print(file_name)\n",
    "        components = file_name.name.split('-')\n",
    "        save_path = str(file_name.parents[0])\n",
    "\n",
    "        satellite_number = components[0][3:]\n",
    "        instrument = components[1]\n",
    "        data_product = components[2][3:]\n",
    "        data_details_1 = components[3]\n",
    "        data_details_2 = components[4]\n",
    "        datetime_acquisition = components[5]\n",
    "        ext = components[6].split('.')[1]\n",
    "\n",
    "        # acquisition time and date\n",
    "        date_time_components = datetime_acquisition.split('.')\n",
    "        year = date_time_components[0][:4]\n",
    "        month = date_time_components[0][4:6]\n",
    "        day = date_time_components[0][6:8]\n",
    "        time = date_time_components[0][8:14]\n",
    "        subsecond = date_time_components[1][:-1]\n",
    "        datetime_acquisition = datetime.strptime(f\"{year}{month}{day}{time}\", \"%Y%m%d%H%M%S\")\n",
    "\n",
    "        ext = components[6].split('.')[1]\n",
    "        return cls(\n",
    "            save_path=save_path,\n",
    "            instrument = instrument,\n",
    "            satellite_number=satellite_number,\n",
    "            data_product=data_product,\n",
    "            data_details_1=data_details_1,\n",
    "            data_details_2=data_details_2,\n",
    "            subsecond=subsecond,\n",
    "            ext = ext,\n",
    "            datetime_acquisition=datetime_acquisition\n",
    "            )\n",
    "    \n",
    "    @property\n",
    "    def msg_filename(self):\n",
    "        \"\"\"\n",
    "        Generates the MSG file name based on the object's properties.\n",
    "\n",
    "        Returns:\n",
    "            str: The generated MSG file name.\n",
    "        MSG[sat-no]-[instrument]-MSG[data-product]-0100-NA-[YYYYMMDDHHMMSS].[sssssssss]Z-NA.nat\n",
    "\n",
    "        \"\"\"\n",
    "        # satellite number\n",
    "        filename = f\"MSG{self.satellite_number}\"\n",
    "        # instrument\n",
    "        filename += f\"-{self.instrument}\"\n",
    "        # data product\n",
    "        filename += f\"-MSG{self.data_product}-{self.data_details_1}-{self.data_details_2}\"\n",
    "        # acquisition time\n",
    "        date_acquisition = self.datetime_acquisition.strftime(\"%Y%m%d%H%M%S\")\n",
    "        filename += f\"-{date_acquisition}\"\n",
    "        # subsecond\n",
    "        filename += f\".{self.subsecond}Z-NA\"\n",
    "        # extension\n",
    "        filename += f\".{self.ext}\"\n",
    "        return filename\n",
    "    \n",
    "    @property\n",
    "    def full_path(self):\n",
    "        \"\"\"\n",
    "        Gets the full path of the GOES file.\n",
    "\n",
    "        Returns:\n",
    "            Path: The full path of the GOES file.\n",
    "        \"\"\"\n",
    "        return Path(self.save_path).joinpath(self.msg_filename)\n",
    "    "
   ]
  },
  {
   "cell_type": "code",
   "execution_count": 23,
   "metadata": {},
   "outputs": [
    {
     "name": "stdout",
     "output_type": "stream",
     "text": [
      "/Users/anna.jungbluth/Desktop/git/rs_tools/data/msg/CM/MSG4-SEVI-MSGCLMK-0100-0100-20201002140000.000000000Z-NA.grb\n"
     ]
    }
   ],
   "source": [
    "test = MSGFileName.from_filename(filenames[6])"
   ]
  },
  {
   "cell_type": "code",
   "execution_count": 25,
   "metadata": {},
   "outputs": [
    {
     "data": {
      "text/plain": [
       "'MSG4-SEVI-MSGCLMK-0100-0100-20201002140000.000000000Z-NA.grb'"
      ]
     },
     "execution_count": 25,
     "metadata": {},
     "output_type": "execute_result"
    }
   ],
   "source": [
    "test.msg_filename"
   ]
  },
  {
   "cell_type": "code",
   "execution_count": null,
   "metadata": {},
   "outputs": [],
   "source": []
  }
 ],
 "metadata": {
  "kernelspec": {
   "display_name": "iti-env",
   "language": "python",
   "name": "python3"
  },
  "language_info": {
   "codemirror_mode": {
    "name": "ipython",
    "version": 3
   },
   "file_extension": ".py",
   "mimetype": "text/x-python",
   "name": "python",
   "nbconvert_exporter": "python",
   "pygments_lexer": "ipython3",
   "version": "3.11.8"
  }
 },
 "nbformat": 4,
 "nbformat_minor": 2
}
