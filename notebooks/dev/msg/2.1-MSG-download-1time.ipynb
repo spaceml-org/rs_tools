{
 "cells": [
  {
   "cell_type": "code",
   "execution_count": 2,
   "metadata": {},
   "outputs": [
    {
     "name": "stderr",
     "output_type": "stream",
     "text": [
      "/opt/conda/envs/rs_tools/lib/python3.11/site-packages/goes2go/data.py:519: FutureWarning: 'H' is deprecated and will be removed in a future version. Please use 'h' instead of 'H'.\n",
      "  within=pd.to_timedelta(config[\"nearesttime\"].get(\"within\", \"1H\")),\n",
      "/opt/conda/envs/rs_tools/lib/python3.11/site-packages/goes2go/NEW.py:188: FutureWarning: 'H' is deprecated and will be removed in a future version. Please use 'h' instead of 'H'.\n",
      "  within=pd.to_timedelta(config[\"nearesttime\"].get(\"within\", \"1H\")),\n"
     ]
    }
   ],
   "source": [
    "import autoroot\n",
    "from rs_tools._src.data.msg.download import msg_download\n",
    "\n",
    "%load_ext autoreload\n",
    "%autoreload 2"
   ]
  },
  {
   "cell_type": "markdown",
   "metadata": {},
   "source": [
    "-> Choose Nearest **(*\n",
    "**Q**: \n",
    "**Solutin**: (*A - *"
   ]
  },
  {
   "cell_type": "code",
   "execution_count": 16,
   "metadata": {},
   "outputs": [
    {
     "name": "stderr",
     "output_type": "stream",
     "text": [
      "\u001b[32m2024-06-14 10:29:38.637\u001b[0m | \u001b[1mINFO    \u001b[0m | \u001b[36mrs_tools._src.data.msg.download\u001b[0m:\u001b[36m_check_eumdac_login\u001b[0m:\u001b[36m222\u001b[0m - \u001b[1mEUMDAC login successful. Token '3126639a-3041-3aa7-befc-ba07a31ae183' expires 2024-06-14 11:20:42.562847\u001b[0m\n",
      "\u001b[32m2024-06-14 10:29:38.638\u001b[0m | \u001b[1mINFO    \u001b[0m | \u001b[36mrs_tools._src.data.msg.download\u001b[0m:\u001b[36mmsg_download\u001b[0m:\u001b[36m95\u001b[0m - \u001b[1mData Product: EO:EUM:DAT:MSG:HRSEVIRI\u001b[0m\n"
     ]
    },
    {
     "name": "stdout",
     "output_type": "stream",
     "text": [
      "Times to check:  2020-10-01 10:03:00 2020-10-01 10:03:00\n"
     ]
    },
    {
     "name": "stderr",
     "output_type": "stream",
     "text": [
      "Time - 2020-10-01 10:03:00: 100%|██████████| 1/1 [00:04<00:00,  4.17s/it]"
     ]
    },
    {
     "name": "stdout",
     "output_type": "stream",
     "text": [
      "Successfully downloaded MSG4-SEVI-MSG15-0100-NA-20201001101243.761000000Z-NA.nat.\n"
     ]
    },
    {
     "name": "stderr",
     "output_type": "stream",
     "text": [
      "\n"
     ]
    }
   ],
   "source": [
    "files = msg_download(\n",
    "    start_date='2020-10-01',\n",
    "    end_date ='2020-10-01',\n",
    "    # # CASE I - will work with old code\n",
    "    # start_time='09:55:00', # EUMDAC did not find any data for 00:00:00\n",
    "    # end_time='10:05:00', # EUMDAC did not find any data for 23:59:00\n",
    "    # # CASE II - will work with new code\n",
    "    start_time='10:03:00', # EUMDAC did not find any data for 00:00:00\n",
    "    end_time='10:10:00', # EUMDAC did not find any data for 23:59:00\n",
    "    # daily_window_t0='00:00:00',\n",
    "    # daily_window_t1='23:59:00',\n",
    "    time_step='00:15:00', # choose 1 hr because the start/end-time has priority\n",
    "    satellite=\"MSG\",\n",
    "    instrument=\"HRSEVIRI\",\n",
    "    processing_level= \"L1\",\n",
    "    save_dir = \"./\",\n",
    "    eumdac_key=\"trqBTCJCAQmTCZZkiA0Gt0Lfva4a\",\n",
    "    eumdac_secret=\"14XYoaJGRnj3KdhqNYxb7knnKs4a\",\n",
    ")"
   ]
  },
  {
   "cell_type": "code",
   "execution_count": 1,
   "metadata": {},
   "outputs": [
    {
     "ename": "NameError",
     "evalue": "name 'msg_download' is not defined",
     "output_type": "error",
     "traceback": [
      "\u001b[0;31m---------------------------------------------------------------------------\u001b[0m",
      "\u001b[0;31mNameError\u001b[0m                                 Traceback (most recent call last)",
      "Cell \u001b[0;32mIn[1], line 2\u001b[0m\n\u001b[1;32m      1\u001b[0m \u001b[38;5;66;03m# did not work with previous version\u001b[39;00m\n\u001b[0;32m----> 2\u001b[0m files \u001b[38;5;241m=\u001b[39m \u001b[43mmsg_download\u001b[49m(\n\u001b[1;32m      3\u001b[0m     start_date\u001b[38;5;241m=\u001b[39m\u001b[38;5;124m'\u001b[39m\u001b[38;5;124m2020-10-01\u001b[39m\u001b[38;5;124m'\u001b[39m,\n\u001b[1;32m      4\u001b[0m     end_date \u001b[38;5;241m=\u001b[39m\u001b[38;5;124m'\u001b[39m\u001b[38;5;124m2020-10-01\u001b[39m\u001b[38;5;124m'\u001b[39m,\n\u001b[1;32m      5\u001b[0m     start_time\u001b[38;5;241m=\u001b[39m\u001b[38;5;124m'\u001b[39m\u001b[38;5;124m10:00:00\u001b[39m\u001b[38;5;124m'\u001b[39m, \u001b[38;5;66;03m# EUMDAC did not find any data for 00:00:00\u001b[39;00m\n\u001b[1;32m      6\u001b[0m     end_time\u001b[38;5;241m=\u001b[39m\u001b[38;5;124m'\u001b[39m\u001b[38;5;124m10:05:00\u001b[39m\u001b[38;5;124m'\u001b[39m, \u001b[38;5;66;03m# EUMDAC did not find any data for 23:59:00\u001b[39;00m\n\u001b[1;32m      7\u001b[0m     \u001b[38;5;66;03m# daily_window_t0='00:00:00',\u001b[39;00m\n\u001b[1;32m      8\u001b[0m     \u001b[38;5;66;03m# daily_window_t1='23:59:00',\u001b[39;00m\n\u001b[1;32m      9\u001b[0m     time_step\u001b[38;5;241m=\u001b[39m\u001b[38;5;124m'\u001b[39m\u001b[38;5;124m00:15:00\u001b[39m\u001b[38;5;124m'\u001b[39m, \u001b[38;5;66;03m# choose 1 hr because the start/end-time has priority\u001b[39;00m\n\u001b[1;32m     10\u001b[0m     satellite\u001b[38;5;241m=\u001b[39m\u001b[38;5;124m\"\u001b[39m\u001b[38;5;124mMSG\u001b[39m\u001b[38;5;124m\"\u001b[39m,\n\u001b[1;32m     11\u001b[0m     instrument\u001b[38;5;241m=\u001b[39m\u001b[38;5;124m\"\u001b[39m\u001b[38;5;124mHRSEVIRI\u001b[39m\u001b[38;5;124m\"\u001b[39m,\n\u001b[1;32m     12\u001b[0m     processing_level\u001b[38;5;241m=\u001b[39m \u001b[38;5;124m\"\u001b[39m\u001b[38;5;124mL1\u001b[39m\u001b[38;5;124m\"\u001b[39m,\n\u001b[1;32m     13\u001b[0m     save_dir \u001b[38;5;241m=\u001b[39m \u001b[38;5;124m\"\u001b[39m\u001b[38;5;124m./\u001b[39m\u001b[38;5;124m\"\u001b[39m,\n\u001b[1;32m     14\u001b[0m     eumdac_key\u001b[38;5;241m=\u001b[39m\u001b[38;5;124m\"\u001b[39m\u001b[38;5;124mtrqBTCJCAQmTCZZkiA0Gt0Lfva4a\u001b[39m\u001b[38;5;124m\"\u001b[39m,\n\u001b[1;32m     15\u001b[0m     eumdac_secret\u001b[38;5;241m=\u001b[39m\u001b[38;5;124m\"\u001b[39m\u001b[38;5;124m14XYoaJGRnj3KdhqNYxb7knnKs4a\u001b[39m\u001b[38;5;124m\"\u001b[39m,\n\u001b[1;32m     16\u001b[0m )\n",
      "\u001b[0;31mNameError\u001b[0m: name 'msg_download' is not defined"
     ]
    }
   ],
   "source": [
    "# did not work with previous version\n",
    "files = msg_download(\n",
    "    start_date='2020-10-01',\n",
    "    end_date ='2020-10-01',\n",
    "    start_time='10:00:00', # EUMDAC did not find any data for 00:00:00\n",
    "    end_time='10:05:00', # EUMDAC did not find any data for 23:59:00\n",
    "    # daily_window_t0='00:00:00',\n",
    "    # daily_window_t1='23:59:00',\n",
    "    time_step='00:15:00', # choose 1 hr because the start/end-time has priority\n",
    "    satellite=\"MSG\",\n",
    "    instrument=\"HRSEVIRI\",\n",
    "    processing_level= \"L1\",\n",
    "    save_dir = \"./\",\n",
    "    eumdac_key=\"trqBTCJCAQmTCZZkiA0Gt0Lfva4a\",\n",
    "    eumdac_secret=\"14XYoaJGRnj3KdhqNYxb7knnKs4a\",\n",
    ")"
   ]
  },
  {
   "cell_type": "code",
   "execution_count": 20,
   "metadata": {},
   "outputs": [
    {
     "name": "stderr",
     "output_type": "stream",
     "text": [
      "\u001b[32m2024-06-14 09:27:48.901\u001b[0m | \u001b[1mINFO    \u001b[0m | \u001b[36mrs_tools._src.data.msg.download\u001b[0m:\u001b[36m_check_eumdac_login\u001b[0m:\u001b[36m224\u001b[0m - \u001b[1mEUMDAC login successful. Token '6cd4e71f-bed0-3b60-9d8e-3ac27bcaddc2' expires 2024-06-14 10:20:42.809850\u001b[0m\n",
      "\u001b[32m2024-06-14 09:27:48.902\u001b[0m | \u001b[1mINFO    \u001b[0m | \u001b[36mrs_tools._src.data.msg.download\u001b[0m:\u001b[36mmsg_download\u001b[0m:\u001b[36m95\u001b[0m - \u001b[1mData Product: EO:EUM:DAT:MSG:HRSEVIRI\u001b[0m\n"
     ]
    },
    {
     "name": "stdout",
     "output_type": "stream",
     "text": [
      "Times to check:  2020-10-01 09:55:00 2020-10-01 09:55:00\n"
     ]
    },
    {
     "name": "stderr",
     "output_type": "stream",
     "text": [
      "Time - 2020-10-01 09:55:00: 100%|██████████| 1/1 [00:10<00:00, 10.86s/it]"
     ]
    },
    {
     "name": "stdout",
     "output_type": "stream",
     "text": [
      "Successfully downloaded MSG4-SEVI-MSG15-0100-NA-20201001095743.710000000Z-NA.nat.\n"
     ]
    },
    {
     "name": "stderr",
     "output_type": "stream",
     "text": [
      "\n"
     ]
    }
   ],
   "source": [
    "# worked with previous version\n",
    "files = msg_download(\n",
    "    start_date='2020-10-01',\n",
    "    end_date ='2020-10-01',\n",
    "    start_time='09:55:00', # EUMDAC did not find any data for 00:00:00\n",
    "    end_time='10:05:00', # EUMDAC did not find any data for 23:59:00\n",
    "    # daily_window_t0='00:00:00',\n",
    "    # daily_window_t1='23:59:00',\n",
    "    time_step='00:15:00', # choose 1 hr because the start/end-time has priority\n",
    "    satellite=\"MSG\",\n",
    "    instrument=\"HRSEVIRI\",\n",
    "    processing_level= \"L1\",\n",
    "    save_dir = \"./\",\n",
    "    eumdac_key=\"trqBTCJCAQmTCZZkiA0Gt0Lfva4a\",\n",
    "    eumdac_secret=\"14XYoaJGRnj3KdhqNYxb7knnKs4a\",\n",
    ")"
   ]
  },
  {
   "cell_type": "code",
   "execution_count": 13,
   "metadata": {},
   "outputs": [
    {
     "data": {
      "text/plain": [
       "'/home/freischem/rs_tools'"
      ]
     },
     "execution_count": 13,
     "metadata": {},
     "output_type": "execute_result"
    }
   ],
   "source": [
    "pwd"
   ]
  },
  {
   "cell_type": "code",
   "execution_count": null,
   "metadata": {},
   "outputs": [],
   "source": []
  }
 ],
 "metadata": {
  "kernelspec": {
   "display_name": "rs_tools",
   "language": "python",
   "name": "python3"
  },
  "language_info": {
   "codemirror_mode": {
    "name": "ipython",
    "version": 3
   },
   "file_extension": ".py",
   "mimetype": "text/x-python",
   "name": "python",
   "nbconvert_exporter": "python",
   "pygments_lexer": "ipython3",
   "version": "3.11.9"
  }
 },
 "nbformat": 4,
 "nbformat_minor": 2
}
