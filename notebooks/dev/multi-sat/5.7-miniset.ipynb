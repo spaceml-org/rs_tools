{
 "cells": [
  {
   "cell_type": "code",
   "execution_count": null,
   "metadata": {},
   "outputs": [],
   "source": [
    "import pandas as pd\n",
    "import numpy as np\n",
    "import os\n",
    "import xarray as xr\n",
    "import matplotlib.pyplot as plt"
   ]
  },
  {
   "cell_type": "code",
   "execution_count": null,
   "metadata": {},
   "outputs": [],
   "source": [
    "ds_goes = pd.read_csv('goes_2020_hourly.csv')\n",
    "ds_msg = pd.read_csv('msg_2020_hourly.csv')"
   ]
  },
  {
   "cell_type": "code",
   "execution_count": 7,
   "metadata": {},
   "outputs": [],
   "source": [
    "# Select a subset of days\n",
    "\n",
    "miniset_days = [\"20201005\", \"20201006\", \"20201028\", \"20201029\"]"
   ]
  },
  {
   "cell_type": "code",
   "execution_count": null,
   "metadata": {},
   "outputs": [],
   "source": [
    "str(ds_goes['datetime'][0].item())"
   ]
  },
  {
   "cell_type": "code",
   "execution_count": null,
   "metadata": {},
   "outputs": [],
   "source": [
    "# Filter the datasets\n",
    "datetime_str = [str(ds_goes['datetime'][i].item()) for i in range(len(ds_goes['datetime']))]\n",
    "indexes = [i for i in range(len(datetime_str)) if datetime_str[i][:8] in miniset_days]\n",
    "ds_goes_miniset = ds_goes.iloc[indexes]"
   ]
  },
  {
   "cell_type": "code",
   "execution_count": null,
   "metadata": {},
   "outputs": [],
   "source": [
    "datetime_str = [str(ds_msg['datetime'][i].item()) for i in range(len(ds_msg['datetime']))]\n",
    "indexes = [i for i in range(len(datetime_str)) if datetime_str[i][:8] in miniset_days]\n",
    "ds_msg_miniset = ds_msg.iloc[indexes]"
   ]
  },
  {
   "cell_type": "code",
   "execution_count": null,
   "metadata": {},
   "outputs": [],
   "source": [
    "ds_goes_miniset.reset_index(drop=True, inplace=True)\n",
    "ds_msg_miniset.reset_index(drop=True, inplace=True)"
   ]
  },
  {
   "cell_type": "code",
   "execution_count": null,
   "metadata": {},
   "outputs": [],
   "source": [
    "ds_goes_miniset.to_csv('goes_2020_miniset.csv', index=False)\n",
    "ds_msg_miniset.to_csv('msg_2020_miniset.csv', index=False)"
   ]
  },
  {
   "cell_type": "code",
   "execution_count": 37,
   "metadata": {},
   "outputs": [],
   "source": [
    "ds_goes_miniset = pd.read_csv('goes_2020_miniset.csv')\n",
    "ds_msg_miniset = pd.read_csv('msg_2020_miniset.csv')"
   ]
  },
  {
   "cell_type": "code",
   "execution_count": 38,
   "metadata": {},
   "outputs": [
    {
     "data": {
      "text/plain": [
       "(94, 96)"
      ]
     },
     "execution_count": 38,
     "metadata": {},
     "output_type": "execute_result"
    }
   ],
   "source": [
    "len(ds_goes_miniset), len(ds_msg_miniset)"
   ]
  },
  {
   "cell_type": "code",
   "execution_count": 5,
   "metadata": {},
   "outputs": [],
   "source": [
    "miniset_path = '/mnt/disks/eo-miniset'\n",
    "\n",
    "msg_miniset_path = miniset_path + '/msg'\n",
    "goes_miniset_path = miniset_path + '/goes'"
   ]
  },
  {
   "cell_type": "code",
   "execution_count": 29,
   "metadata": {},
   "outputs": [],
   "source": [
    "import ast\n",
    "# max_goes = []\n",
    "# min_goes = []\n",
    "# for x in range(len(ds_goes_miniset)):\n",
    "#     max = ast.literal_eval(ds_goes_miniset['max'][x])[12]\n",
    "#     min = ast.literal_eval(ds_goes_miniset['min'][x])[12]\n",
    "#     max_goes.append(max)\n",
    "#     min_goes.append(min)\n",
    "\n",
    "max_msg = []\n",
    "min_msg = []\n",
    "for x in range(len(ds_msg_miniset)):\n",
    "    max = ast.literal_eval(ds_msg_miniset['max'][x])[4]\n",
    "    min = ast.literal_eval(ds_msg_miniset['min'][x])[4]\n",
    "    max_msg.append(max)\n",
    "    min_msg.append(min)\n"
   ]
  },
  {
   "cell_type": "code",
   "execution_count": 31,
   "metadata": {},
   "outputs": [
    {
     "data": {
      "text/plain": [
       "(np.float64(169.35947), np.float64(5.946034))"
      ]
     },
     "execution_count": 31,
     "metadata": {},
     "output_type": "execute_result"
    }
   ],
   "source": [
    "np.max(max_msg), np.min(min_msg)"
   ]
  },
  {
   "cell_type": "code",
   "execution_count": 36,
   "metadata": {},
   "outputs": [
    {
     "name": "stderr",
     "output_type": "stream",
     "text": [
      "100%|██████████| 24/24 [01:18<00:00,  3.26s/it]\n"
     ]
    }
   ],
   "source": [
    "from tqdm import tqdm\n",
    "\n",
    "path = msg_miniset_path\n",
    "n = 4\n",
    "\n",
    "save_path = '/home/anna.jungbluth/images/msg/'\n",
    "day = miniset_days[0]\n",
    "os.makedirs(save_path + day, exist_ok=True)\n",
    "\n",
    "# Compile list of files\n",
    "files = os.listdir(path)\n",
    "files = [file for file in files if day in file]\n",
    "\n",
    "for file in tqdm(files):\n",
    "    ds = xr.open_dataset(path + '/' + file)\n",
    "    data = ds.Rad.values\n",
    "    plt.figure()\n",
    "    plt.imshow(data[n], cmap=\"Blues\", interpolation=\"none\", vmin=0, vmax=200)\n",
    "    plt.colorbar()\n",
    "    plt.tight_layout()\n",
    "    plt.savefig(save_path + day + '/' + file + '.png')\n",
    "    plt.close()\n"
   ]
  },
  {
   "cell_type": "code",
   "execution_count": 28,
   "metadata": {},
   "outputs": [
    {
     "data": {
      "text/plain": [
       "np.float64(10.8)"
      ]
     },
     "execution_count": 28,
     "metadata": {},
     "output_type": "execute_result"
    }
   ],
   "source": [
    "ds.band_wavelength.values[4]"
   ]
  },
  {
   "cell_type": "markdown",
   "metadata": {},
   "source": [
    "Files to delete:\n",
    "\n",
    "- 20201005050018_goes16\n",
    "- 20201006050018_goes16"
   ]
  }
 ],
 "metadata": {
  "kernelspec": {
   "display_name": "rs_tools_iti",
   "language": "python",
   "name": "python3"
  },
  "language_info": {
   "codemirror_mode": {
    "name": "ipython",
    "version": 3
   },
   "file_extension": ".py",
   "mimetype": "text/x-python",
   "name": "python",
   "nbconvert_exporter": "python",
   "pygments_lexer": "ipython3",
   "version": "3.11.10"
  }
 },
 "nbformat": 4,
 "nbformat_minor": 2
}
