{
 "cells": [
  {
   "cell_type": "code",
   "execution_count": null,
   "id": "4479e8ff",
   "metadata": {},
   "outputs": [],
   "source": [
    "import pandas as pd\n",
    "import numpy as np\n",
    "import os\n",
    "import xarray as xr\n",
    "import matplotlib.pyplot as plt\n",
    "from tqdm import tqdm"
   ]
  },
  {
   "cell_type": "code",
   "execution_count": null,
   "id": "9f0743d3",
   "metadata": {},
   "outputs": [],
   "source": [
    "goes_path = '/home/data/goes'\n",
    "goes_files = os.listdir(goes_path)\n",
    "goes_files = sorted(goes_files)"
   ]
  },
  {
   "cell_type": "code",
   "execution_count": null,
   "id": "58a010c1",
   "metadata": {},
   "outputs": [],
   "source": [
    "june_files = [x for x in goes_files if '202006' in x]\n",
    "dec_files = [x for x in goes_files if '202012' in x]\n",
    "march_files = [x for x in goes_files if '202003' in x]\n",
    "sept_files = [x for x in goes_files if '202009' in x]"
   ]
  },
  {
   "cell_type": "code",
   "execution_count": null,
   "id": "0154c226",
   "metadata": {},
   "outputs": [],
   "source": [
    "for x in tqdm(range(10)):\n",
    "    file = sept_files[x]\n",
    "    time = file.split('_')[0]\n",
    "    # open file\n",
    "    filename = os.path.join(goes_path, file)\n",
    "    ds = xr.open_dataset(filename)\n",
    "    plt.figure(figsize=(5, 5))\n",
    "    plt.imshow(ds.Rad.data[0])\n",
    "    plt.title(f'GOES-16: {str(time)}')\n",
    "    plt.show()\n",
    "    "
   ]
  },
  {
   "cell_type": "code",
   "execution_count": null,
   "id": "476742c2",
   "metadata": {},
   "outputs": [],
   "source": []
  }
 ],
 "metadata": {
  "kernelspec": {
   "display_name": "rs_tools",
   "language": "python",
   "name": "python3"
  },
  "language_info": {
   "codemirror_mode": {
    "name": "ipython",
    "version": 3
   },
   "file_extension": ".py",
   "mimetype": "text/x-python",
   "name": "python",
   "nbconvert_exporter": "python",
   "pygments_lexer": "ipython3",
   "version": "3.11.12"
  }
 },
 "nbformat": 4,
 "nbformat_minor": 5
}
