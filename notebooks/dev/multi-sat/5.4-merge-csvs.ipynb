{
 "cells": [
  {
   "cell_type": "code",
   "execution_count": 11,
   "metadata": {},
   "outputs": [],
   "source": [
    "import os\n",
    "import ast\n",
    "import pandas as pd\n",
    "import numpy as np\n",
    "import matplotlib.pyplot as plt"
   ]
  },
  {
   "cell_type": "code",
   "execution_count": 2,
   "metadata": {},
   "outputs": [],
   "source": [
    "msg_path = '/home/anna.jungbluth/metrics/eo-miniset/msg'\n",
    "goes_path = '/home/anna.jungbluth/metrics/eo-miniset/goes'\n",
    "\n",
    "msg_files = [os.path.join(msg_path, f) for f in os.listdir(msg_path) if f.endswith('.csv')]\n",
    "msg_files.sort()\n",
    "goes_files = [os.path.join(goes_path, f) for f in os.listdir(goes_path) if f.endswith('.csv')]\n",
    "goes_files.sort()"
   ]
  },
  {
   "cell_type": "code",
   "execution_count": 22,
   "metadata": {},
   "outputs": [],
   "source": [
    "def parse_numpy_float64_string(s):\n",
    "    # Remove brackets and numpy function calls\n",
    "    clean = s.strip('[]').replace('np.float64(', '').replace(')', '')\n",
    "    # Split on commas and convert to floats\n",
    "    return [float(x.strip()) for x in clean.split(',')]\n",
    "\n",
    "def parse_numpy_float32_string(s):\n",
    "    # Remove brackets and numpy function calls\n",
    "    clean = s.strip('[]').replace('np.float32(', '').replace(')', '')\n",
    "    # Split on commas and convert to floats\n",
    "    return [float(x.strip()) for x in clean.split(',')]"
   ]
  },
  {
   "cell_type": "code",
   "execution_count": 23,
   "metadata": {},
   "outputs": [],
   "source": [
    "dataframes = []\n",
    "\n",
    "for msg_file in msg_files:\n",
    "    msg_df = pd.read_csv(msg_file)\n",
    "\n",
    "    # Convert string representations of numpy arrays to lists\n",
    "    for column in msg_df.columns:\n",
    "        if msg_df[column].dtype == 'object':\n",
    "            try:\n",
    "                msg_df[column] = msg_df[column].apply(parse_numpy_float64_string)\n",
    "            except ValueError:\n",
    "                msg_df[column] = msg_df[column].apply(parse_numpy_float32_string)\n",
    "            else:\n",
    "                pass\n",
    "\n",
    "\n",
    "    dataframes.append(msg_df)\n",
    "\n",
    "master_df = pd.concat(dataframes, ignore_index=True)\n",
    "master_df.to_csv('./raw-summary-files/msg_2020_miniset.csv', index=False)"
   ]
  },
  {
   "cell_type": "code",
   "execution_count": 24,
   "metadata": {},
   "outputs": [],
   "source": [
    "dataframes = []\n",
    "\n",
    "for goes_file in goes_files:\n",
    "    goes_df = pd.read_csv(goes_file)\n",
    "    # Convert string representations of numpy arrays to lists\n",
    "    for column in goes_df.columns:\n",
    "        if goes_df[column].dtype == 'object':\n",
    "            try:\n",
    "                goes_df[column] = goes_df[column].apply(parse_numpy_float64_string)\n",
    "            except ValueError:\n",
    "                goes_df[column] = goes_df[column].apply(parse_numpy_float32_string)\n",
    "            else:\n",
    "                pass\n",
    "    dataframes.append(goes_df)\n",
    "\n",
    "\n",
    "master_df = pd.concat(dataframes, ignore_index=True)\n",
    "# Convert numpy float types to native Python floats\n",
    "master_df = master_df.map(lambda x: float(x) if isinstance(x, np.floating) else x)\n",
    "\n",
    "master_df.to_csv('./raw-summary-files/goes_2020_miniset.csv', index=False)"
   ]
  },
  {
   "cell_type": "code",
   "execution_count": null,
   "metadata": {},
   "outputs": [],
   "source": []
  }
 ],
 "metadata": {
  "kernelspec": {
   "display_name": "rs_tools_iti",
   "language": "python",
   "name": "python3"
  },
  "language_info": {
   "codemirror_mode": {
    "name": "ipython",
    "version": 3
   },
   "file_extension": ".py",
   "mimetype": "text/x-python",
   "name": "python",
   "nbconvert_exporter": "python",
   "pygments_lexer": "ipython3",
   "version": "3.11.10"
  }
 },
 "nbformat": 4,
 "nbformat_minor": 2
}
