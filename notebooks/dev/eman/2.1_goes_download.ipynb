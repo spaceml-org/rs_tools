{
 "cells": [
  {
   "cell_type": "markdown",
   "id": "097d2b0a-5b20-41a8-9b07-ff9ec169ef17",
   "metadata": {},
   "source": [
    "# 2.1 - GOES16 - Download"
   ]
  },
  {
   "cell_type": "code",
   "execution_count": 1,
   "id": "a3487645-4a40-4069-be2f-0ab023c739fa",
   "metadata": {},
   "outputs": [],
   "source": [
    "import autoroot\n",
    "import os\n",
    "from dotenv import load_dotenv\n",
    "from pathlib import Path\n",
    "import earthaccess\n",
    "import numpy as np\n",
    "import xarray as xr\n",
    "from dataclasses import dataclass\n",
    "from datetime import datetime, timedelta\n",
    "import matplotlib.pyplot as plt\n",
    "\n",
    "# PLOTTING\n",
    "import matplotlib.pyplot as plt\n",
    "import cartopy.crs as ccrs\n",
    "import rasterio\n",
    "import cartopy\n",
    "import cartopy.crs as ccrs\n",
    "import cartopy.feature as cfeature\n",
    "from cartopy.mpl.gridliner import LONGITUDE_FORMATTER, LATITUDE_FORMATTER\n",
    "import seaborn as sns\n",
    "sns.reset_defaults()\n",
    "sns.set_context(context=\"talk\", font_scale=0.7)\n",
    "\n",
    "\n",
    "\n",
    "xr.set_options(\n",
    "    keep_attrs=True, \n",
    "    display_expand_data=False, \n",
    "    display_expand_coords=False, \n",
    "    display_expand_data_vars=False, \n",
    "    display_expand_indexes=False\n",
    ")\n",
    "np.set_printoptions(threshold=10, edgeitems=2)\n",
    "\n",
    "%load_ext autoreload\n",
    "%autoreload 2"
   ]
  },
  {
   "cell_type": "markdown",
   "id": "8983299a-9611-44e9-87d4-d23a45d04e04",
   "metadata": {},
   "source": [
    "## ROI\n",
    "\n",
    "The first thing we need to do is find a region of interest.\n",
    "We are going to do a very simple example where we define a bounding box."
   ]
  },
  {
   "cell_type": "code",
   "execution_count": 2,
   "id": "830baed6-5789-4050-aa66-7a0d3d9a63f4",
   "metadata": {},
   "outputs": [],
   "source": [
    "from odc.geo.xr import xr_coords\n",
    "from odc.geo.geom import BoundingBox\n",
    "from odc.geo.geobox import GeoBox\n",
    "from odc.geo.geom import Geometry\n",
    "from odc.geo.crs import CRS\n",
    "\n",
    "from odc.geo.data import ocean_geom, country_geom"
   ]
  },
  {
   "cell_type": "markdown",
   "id": "c1f756a8-b81e-4abf-a7e1-1cebeafa608e",
   "metadata": {},
   "source": [
    "We will do a simple bounding box around our area of interest."
   ]
  },
  {
   "cell_type": "markdown",
   "id": "2280ab0b-f320-448c-953d-39a7376ef5c2",
   "metadata": {},
   "source": [
    "### Download GOES16"
   ]
  },
  {
   "cell_type": "markdown",
   "id": "11f9ae17-257d-4d5e-ab5a-4c49f712c582",
   "metadata": {},
   "source": [
    "GOES16 is a geostationary satellite so there are very frequent observations.\n",
    "The data is typically stored as full fields so we need to be smart when selecting the datasets.\n",
    "For this example, we will only download the data that is available from the MODIS satellite."
   ]
  },
  {
   "cell_type": "code",
   "execution_count": 3,
   "id": "9fb61e47-95d0-4d40-9622-742c0888cc07",
   "metadata": {},
   "outputs": [
    {
     "name": "stderr",
     "output_type": "stream",
     "text": [
      "/home/juanjohn/miniconda/envs/rs_tools/lib/python3.11/site-packages/goes2go/data.py:519: FutureWarning: 'H' is deprecated and will be removed in a future version. Please use 'h' instead of 'H'.\n",
      "  within=pd.to_timedelta(config[\"nearesttime\"].get(\"within\", \"1H\")),\n",
      "/home/juanjohn/miniconda/envs/rs_tools/lib/python3.11/site-packages/goes2go/NEW.py:188: FutureWarning: 'H' is deprecated and will be removed in a future version. Please use 'h' instead of 'H'.\n",
      "  within=pd.to_timedelta(config[\"nearesttime\"].get(\"within\", \"1H\")),\n"
     ]
    }
   ],
   "source": [
    "from rs_tools._src.data.modis import MODISFileName, MODIS_ID_TO_NAME, MODIS_NAME_TO_ID"
   ]
  },
  {
   "cell_type": "code",
   "execution_count": 5,
   "id": "d4065a9b-faca-4842-a9d9-1034fae15e8f",
   "metadata": {},
   "outputs": [
    {
     "data": {
      "text/plain": [
       "PosixPath('/pool/usuarios/juanjohn/data/iti/pipeline_test/modis/clean')"
      ]
     },
     "execution_count": 5,
     "metadata": {},
     "output_type": "execute_result"
    }
   ],
   "source": [
    "# environment variables\n",
    "save_dir = Path(os.getenv(\"ITI_DATA_SAVEDIR\"))\n",
    "modis_read_dir = Path(\"/pool/usuarios/juanjohn/data/iti/pipeline_test/modis/clean\")\n",
    "goes_save_dir = Path(\"/pool/usuarios/juanjohn/data/iti/pipeline_test/goes16/raw\")\n",
    "modis_read_dir"
   ]
  },
  {
   "cell_type": "markdown",
   "id": "924f87d5-986d-4fa9-81a6-0ced202ed31b",
   "metadata": {},
   "source": [
    "We will subset each of them to extract the timestamps when they were retrieved."
   ]
  },
  {
   "cell_type": "code",
   "execution_count": 6,
   "id": "db85b294-9bf8-4e56-8010-e8d2581269ad",
   "metadata": {},
   "outputs": [],
   "source": [
    "from rs_tools._src.utils.io import get_list_filenames"
   ]
  },
  {
   "cell_type": "code",
   "execution_count": 7,
   "id": "55427ddc-39bb-472c-ab11-d589e65bcc61",
   "metadata": {},
   "outputs": [
    {
     "data": {
      "text/plain": [
       "12"
      ]
     },
     "execution_count": 7,
     "metadata": {},
     "output_type": "execute_result"
    }
   ],
   "source": [
    "# list of all .hdf files in the directory\n",
    "all_modis_files = get_list_filenames(modis_read_dir, \".nc\")\n",
    "\n",
    "# filter files for terra files ONLY ( our satellite id)\n",
    "modis_files = list(filter(lambda x: \"aqua\" in x, all_modis_files))\n",
    "\n",
    "len(modis_files)"
   ]
  },
  {
   "cell_type": "code",
   "execution_count": 8,
   "id": "130c0a18-7233-4e16-8553-314e9082732e",
   "metadata": {},
   "outputs": [
    {
     "name": "stdout",
     "output_type": "stream",
     "text": [
      "Time Stamp: 2020-10-01 15:00:00\n"
     ]
    }
   ],
   "source": [
    "time_stamp = Path(modis_files[0]).name.split(\"_\")[0]\n",
    "time_stamp = datetime.strptime(time_stamp, \"%Y%m%d%H%M%S\")\n",
    "print(f\"Time Stamp: {time_stamp}\")"
   ]
  },
  {
   "cell_type": "markdown",
   "id": "045bc6fd-5b5d-489b-b03f-7e05b623462b",
   "metadata": {},
   "source": [
    "We have some extra tools to enable us to select the appropriate satellite.\n",
    "This is simply syntatic sugar because these names can be a bit difficult to remember."
   ]
  },
  {
   "cell_type": "code",
   "execution_count": 9,
   "id": "f764a791-5f68-4a92-98c9-bd0ef8338781",
   "metadata": {},
   "outputs": [],
   "source": [
    "def find_nearest_time(target_time, time_list):\n",
    "    # Calculate the difference between each time in the list and the target time\n",
    "    time_differences = [abs(time - target_time) for time in time_list]\n",
    "    \n",
    "    # Find the index of the smallest difference\n",
    "    nearest_time_index = time_differences.index(min(time_differences))\n",
    "    \n",
    "    # Return the nearest time\n",
    "    return time_list[nearest_time_index]"
   ]
  },
  {
   "cell_type": "code",
   "execution_count": 10,
   "id": "f7ab1e7f-45b5-4901-92d2-25d8f798a1b4",
   "metadata": {},
   "outputs": [],
   "source": [
    "# GOES2GO\n",
    "import goes2go\n",
    "from goes2go import GOES\n",
    "from rs_tools._src.data.goes.download import goes_download\n",
    "import pandas as pd"
   ]
  },
  {
   "cell_type": "code",
   "execution_count": 11,
   "id": "04a39d78-284c-48bf-a031-46fb75132076",
   "metadata": {},
   "outputs": [],
   "source": [
    "# GOES has 16 bands\n",
    "bands = list(np.arange(1, 17))"
   ]
  },
  {
   "cell_type": "code",
   "execution_count": 12,
   "id": "9cac0a51-63c0-4f12-ac76-dd71a8f62b75",
   "metadata": {},
   "outputs": [],
   "source": [
    "# ABI Level 1b Data\n",
    "G16_DL = GOES(\n",
    "    satellite=16, \n",
    "    product=\"ABI-L1b-Rad\", \n",
    "    domain='F',\n",
    "    channel=bands\n",
    ")\n"
   ]
  },
  {
   "cell_type": "code",
   "execution_count": 13,
   "id": "0f0b309f-a0f8-461f-a3a3-5a62c42e6bd0",
   "metadata": {},
   "outputs": [],
   "source": [
    "# ABI Level 1b Data\n",
    "G16_CM = GOES(\n",
    "    satellite=16, \n",
    "    product=\"ABI-L2-ACM\", \n",
    "    domain='F',\n",
    "    channel=bands\n",
    ")"
   ]
  },
  {
   "cell_type": "code",
   "execution_count": 14,
   "id": "cbd18641-768d-4753-a6f6-f818ad1205b7",
   "metadata": {},
   "outputs": [
    {
     "data": {
      "text/plain": [
       "'2020-10-01 15:00:00'"
      ]
     },
     "execution_count": 14,
     "metadata": {},
     "output_type": "execute_result"
    }
   ],
   "source": [
    "attime = str(time_stamp)\n",
    "attime"
   ]
  },
  {
   "cell_type": "code",
   "execution_count": 15,
   "id": "f8c70337-ad15-401e-8b43-f8b057762334",
   "metadata": {},
   "outputs": [
    {
     "data": {
      "text/plain": [
       "Timedelta('0 days 00:10:00')"
      ]
     },
     "execution_count": 15,
     "metadata": {},
     "output_type": "execute_result"
    }
   ],
   "source": [
    "within = pd.to_timedelta(10, unit=\"minutes\")\n",
    "within"
   ]
  },
  {
   "cell_type": "markdown",
   "id": "3bbd2100-181f-4281-846b-747223700fa0",
   "metadata": {},
   "source": [
    "#### Inspection"
   ]
  },
  {
   "cell_type": "markdown",
   "id": "52982ad1-e733-418f-a703-1b8bdce10c39",
   "metadata": {},
   "source": [
    "GOES allows us to check which files are available for download before we need to download anyfiles.\n",
    "There might not be any need but it might be helpful just to see what is available."
   ]
  },
  {
   "cell_type": "code",
   "execution_count": 18,
   "id": "c3a624c0-b417-442f-9e77-cb36140c4ce5",
   "metadata": {},
   "outputs": [
    {
     "name": "stderr",
     "output_type": "stream",
     "text": [
      "/home/juanjohn/miniconda/envs/rs_tools/lib/python3.11/site-packages/goes2go/data.py:136: FutureWarning: 'H' is deprecated and will be removed in a future version, please use 'h' instead.\n",
      "  DATES = pd.date_range(f\"{start:%Y-%m-%d %H:00}\", f\"{end:%Y-%m-%d %H:00}\", freq=\"1H\")\n"
     ]
    },
    {
     "name": "stdout",
     "output_type": "stream",
     "text": [
      "CPU times: user 32.3 ms, sys: 1.68 ms, total: 34 ms\n",
      "Wall time: 525 ms\n"
     ]
    },
    {
     "data": {
      "text/html": [
       "<div>\n",
       "<style scoped>\n",
       "    .dataframe tbody tr th:only-of-type {\n",
       "        vertical-align: middle;\n",
       "    }\n",
       "\n",
       "    .dataframe tbody tr th {\n",
       "        vertical-align: top;\n",
       "    }\n",
       "\n",
       "    .dataframe thead th {\n",
       "        text-align: right;\n",
       "    }\n",
       "</style>\n",
       "<table border=\"1\" class=\"dataframe\">\n",
       "  <thead>\n",
       "    <tr style=\"text-align: right;\">\n",
       "      <th></th>\n",
       "      <th>file</th>\n",
       "      <th>product_mode</th>\n",
       "      <th>satellite</th>\n",
       "      <th>start</th>\n",
       "      <th>end</th>\n",
       "      <th>creation</th>\n",
       "      <th>product</th>\n",
       "      <th>mode_bands</th>\n",
       "      <th>mode</th>\n",
       "      <th>band</th>\n",
       "    </tr>\n",
       "  </thead>\n",
       "  <tbody>\n",
       "    <tr>\n",
       "      <th>0</th>\n",
       "      <td>noaa-goes16/ABI-L1b-RadF/2020/275/15/OR_ABI-L1...</td>\n",
       "      <td>ABI-L1b-RadF-M6C14</td>\n",
       "      <td>G16</td>\n",
       "      <td>2020-10-01 15:00:19.600</td>\n",
       "      <td>2020-10-01 15:09:50.400</td>\n",
       "      <td>2020-10-01 15:09:59.900</td>\n",
       "      <td>ABI-L1b-RadF</td>\n",
       "      <td>M6C14</td>\n",
       "      <td>6</td>\n",
       "      <td>14</td>\n",
       "    </tr>\n",
       "    <tr>\n",
       "      <th>1</th>\n",
       "      <td>noaa-goes16/ABI-L1b-RadF/2020/275/15/OR_ABI-L1...</td>\n",
       "      <td>ABI-L1b-RadF-M6C13</td>\n",
       "      <td>G16</td>\n",
       "      <td>2020-10-01 15:00:19.600</td>\n",
       "      <td>2020-10-01 15:09:51.500</td>\n",
       "      <td>2020-10-01 15:09:59.000</td>\n",
       "      <td>ABI-L1b-RadF</td>\n",
       "      <td>M6C13</td>\n",
       "      <td>6</td>\n",
       "      <td>13</td>\n",
       "    </tr>\n",
       "    <tr>\n",
       "      <th>2</th>\n",
       "      <td>noaa-goes16/ABI-L1b-RadF/2020/275/15/OR_ABI-L1...</td>\n",
       "      <td>ABI-L1b-RadF-M6C12</td>\n",
       "      <td>G16</td>\n",
       "      <td>2020-10-01 15:00:19.600</td>\n",
       "      <td>2020-10-01 15:09:50.900</td>\n",
       "      <td>2020-10-01 15:09:56.900</td>\n",
       "      <td>ABI-L1b-RadF</td>\n",
       "      <td>M6C12</td>\n",
       "      <td>6</td>\n",
       "      <td>12</td>\n",
       "    </tr>\n",
       "    <tr>\n",
       "      <th>3</th>\n",
       "      <td>noaa-goes16/ABI-L1b-RadF/2020/275/15/OR_ABI-L1...</td>\n",
       "      <td>ABI-L1b-RadF-M6C11</td>\n",
       "      <td>G16</td>\n",
       "      <td>2020-10-01 15:00:19.600</td>\n",
       "      <td>2020-10-01 15:09:50.400</td>\n",
       "      <td>2020-10-01 15:09:57.400</td>\n",
       "      <td>ABI-L1b-RadF</td>\n",
       "      <td>M6C11</td>\n",
       "      <td>6</td>\n",
       "      <td>11</td>\n",
       "    </tr>\n",
       "    <tr>\n",
       "      <th>4</th>\n",
       "      <td>noaa-goes16/ABI-L1b-RadF/2020/275/15/OR_ABI-L1...</td>\n",
       "      <td>ABI-L1b-RadF-M6C10</td>\n",
       "      <td>G16</td>\n",
       "      <td>2020-10-01 15:00:19.600</td>\n",
       "      <td>2020-10-01 15:09:51.500</td>\n",
       "      <td>2020-10-01 15:09:58.300</td>\n",
       "      <td>ABI-L1b-RadF</td>\n",
       "      <td>M6C10</td>\n",
       "      <td>6</td>\n",
       "      <td>10</td>\n",
       "    </tr>\n",
       "    <tr>\n",
       "      <th>5</th>\n",
       "      <td>noaa-goes16/ABI-L1b-RadF/2020/275/15/OR_ABI-L1...</td>\n",
       "      <td>ABI-L1b-RadF-M6C09</td>\n",
       "      <td>G16</td>\n",
       "      <td>2020-10-01 15:00:19.600</td>\n",
       "      <td>2020-10-01 15:09:50.900</td>\n",
       "      <td>2020-10-01 15:09:57.900</td>\n",
       "      <td>ABI-L1b-RadF</td>\n",
       "      <td>M6C09</td>\n",
       "      <td>6</td>\n",
       "      <td>9</td>\n",
       "    </tr>\n",
       "    <tr>\n",
       "      <th>6</th>\n",
       "      <td>noaa-goes16/ABI-L1b-RadF/2020/275/15/OR_ABI-L1...</td>\n",
       "      <td>ABI-L1b-RadF-M6C08</td>\n",
       "      <td>G16</td>\n",
       "      <td>2020-10-01 15:00:19.600</td>\n",
       "      <td>2020-10-01 15:09:50.400</td>\n",
       "      <td>2020-10-01 15:09:57.800</td>\n",
       "      <td>ABI-L1b-RadF</td>\n",
       "      <td>M6C08</td>\n",
       "      <td>6</td>\n",
       "      <td>8</td>\n",
       "    </tr>\n",
       "    <tr>\n",
       "      <th>7</th>\n",
       "      <td>noaa-goes16/ABI-L1b-RadF/2020/275/15/OR_ABI-L1...</td>\n",
       "      <td>ABI-L1b-RadF-M6C05</td>\n",
       "      <td>G16</td>\n",
       "      <td>2020-10-01 15:00:19.600</td>\n",
       "      <td>2020-10-01 15:09:50.400</td>\n",
       "      <td>2020-10-01 15:09:56.200</td>\n",
       "      <td>ABI-L1b-RadF</td>\n",
       "      <td>M6C05</td>\n",
       "      <td>6</td>\n",
       "      <td>5</td>\n",
       "    </tr>\n",
       "    <tr>\n",
       "      <th>8</th>\n",
       "      <td>noaa-goes16/ABI-L1b-RadF/2020/275/15/OR_ABI-L1...</td>\n",
       "      <td>ABI-L1b-RadF-M6C06</td>\n",
       "      <td>G16</td>\n",
       "      <td>2020-10-01 15:00:19.600</td>\n",
       "      <td>2020-10-01 15:09:51.000</td>\n",
       "      <td>2020-10-01 15:09:53.600</td>\n",
       "      <td>ABI-L1b-RadF</td>\n",
       "      <td>M6C06</td>\n",
       "      <td>6</td>\n",
       "      <td>6</td>\n",
       "    </tr>\n",
       "    <tr>\n",
       "      <th>9</th>\n",
       "      <td>noaa-goes16/ABI-L1b-RadF/2020/275/15/OR_ABI-L1...</td>\n",
       "      <td>ABI-L1b-RadF-M6C04</td>\n",
       "      <td>G16</td>\n",
       "      <td>2020-10-01 15:00:19.600</td>\n",
       "      <td>2020-10-01 15:09:50.400</td>\n",
       "      <td>2020-10-01 15:09:55.600</td>\n",
       "      <td>ABI-L1b-RadF</td>\n",
       "      <td>M6C04</td>\n",
       "      <td>6</td>\n",
       "      <td>4</td>\n",
       "    </tr>\n",
       "    <tr>\n",
       "      <th>10</th>\n",
       "      <td>noaa-goes16/ABI-L1b-RadF/2020/275/15/OR_ABI-L1...</td>\n",
       "      <td>ABI-L1b-RadF-M6C03</td>\n",
       "      <td>G16</td>\n",
       "      <td>2020-10-01 15:00:19.600</td>\n",
       "      <td>2020-10-01 15:09:50.400</td>\n",
       "      <td>2020-10-01 15:09:56.900</td>\n",
       "      <td>ABI-L1b-RadF</td>\n",
       "      <td>M6C03</td>\n",
       "      <td>6</td>\n",
       "      <td>3</td>\n",
       "    </tr>\n",
       "    <tr>\n",
       "      <th>11</th>\n",
       "      <td>noaa-goes16/ABI-L1b-RadF/2020/275/15/OR_ABI-L1...</td>\n",
       "      <td>ABI-L1b-RadF-M6C02</td>\n",
       "      <td>G16</td>\n",
       "      <td>2020-10-01 15:00:19.600</td>\n",
       "      <td>2020-10-01 15:09:50.400</td>\n",
       "      <td>2020-10-01 15:09:54.800</td>\n",
       "      <td>ABI-L1b-RadF</td>\n",
       "      <td>M6C02</td>\n",
       "      <td>6</td>\n",
       "      <td>2</td>\n",
       "    </tr>\n",
       "    <tr>\n",
       "      <th>12</th>\n",
       "      <td>noaa-goes16/ABI-L1b-RadF/2020/275/15/OR_ABI-L1...</td>\n",
       "      <td>ABI-L1b-RadF-M6C01</td>\n",
       "      <td>G16</td>\n",
       "      <td>2020-10-01 15:00:19.600</td>\n",
       "      <td>2020-10-01 15:09:50.400</td>\n",
       "      <td>2020-10-01 15:09:56.500</td>\n",
       "      <td>ABI-L1b-RadF</td>\n",
       "      <td>M6C01</td>\n",
       "      <td>6</td>\n",
       "      <td>1</td>\n",
       "    </tr>\n",
       "    <tr>\n",
       "      <th>13</th>\n",
       "      <td>noaa-goes16/ABI-L1b-RadF/2020/275/15/OR_ABI-L1...</td>\n",
       "      <td>ABI-L1b-RadF-M6C15</td>\n",
       "      <td>G16</td>\n",
       "      <td>2020-10-01 15:00:19.600</td>\n",
       "      <td>2020-10-01 15:09:51.000</td>\n",
       "      <td>2020-10-01 15:09:59.400</td>\n",
       "      <td>ABI-L1b-RadF</td>\n",
       "      <td>M6C15</td>\n",
       "      <td>6</td>\n",
       "      <td>15</td>\n",
       "    </tr>\n",
       "    <tr>\n",
       "      <th>14</th>\n",
       "      <td>noaa-goes16/ABI-L1b-RadF/2020/275/15/OR_ABI-L1...</td>\n",
       "      <td>ABI-L1b-RadF-M6C07</td>\n",
       "      <td>G16</td>\n",
       "      <td>2020-10-01 15:00:19.600</td>\n",
       "      <td>2020-10-01 15:09:51.600</td>\n",
       "      <td>2020-10-01 15:09:57.300</td>\n",
       "      <td>ABI-L1b-RadF</td>\n",
       "      <td>M6C07</td>\n",
       "      <td>6</td>\n",
       "      <td>7</td>\n",
       "    </tr>\n",
       "    <tr>\n",
       "      <th>15</th>\n",
       "      <td>noaa-goes16/ABI-L1b-RadF/2020/275/15/OR_ABI-L1...</td>\n",
       "      <td>ABI-L1b-RadF-M6C16</td>\n",
       "      <td>G16</td>\n",
       "      <td>2020-10-01 15:00:19.600</td>\n",
       "      <td>2020-10-01 15:09:51.500</td>\n",
       "      <td>2020-10-01 15:09:58.700</td>\n",
       "      <td>ABI-L1b-RadF</td>\n",
       "      <td>M6C16</td>\n",
       "      <td>6</td>\n",
       "      <td>16</td>\n",
       "    </tr>\n",
       "  </tbody>\n",
       "</table>\n",
       "</div>"
      ],
      "text/plain": [
       "                                                 file        product_mode  \\\n",
       "0   noaa-goes16/ABI-L1b-RadF/2020/275/15/OR_ABI-L1...  ABI-L1b-RadF-M6C14   \n",
       "1   noaa-goes16/ABI-L1b-RadF/2020/275/15/OR_ABI-L1...  ABI-L1b-RadF-M6C13   \n",
       "2   noaa-goes16/ABI-L1b-RadF/2020/275/15/OR_ABI-L1...  ABI-L1b-RadF-M6C12   \n",
       "3   noaa-goes16/ABI-L1b-RadF/2020/275/15/OR_ABI-L1...  ABI-L1b-RadF-M6C11   \n",
       "4   noaa-goes16/ABI-L1b-RadF/2020/275/15/OR_ABI-L1...  ABI-L1b-RadF-M6C10   \n",
       "5   noaa-goes16/ABI-L1b-RadF/2020/275/15/OR_ABI-L1...  ABI-L1b-RadF-M6C09   \n",
       "6   noaa-goes16/ABI-L1b-RadF/2020/275/15/OR_ABI-L1...  ABI-L1b-RadF-M6C08   \n",
       "7   noaa-goes16/ABI-L1b-RadF/2020/275/15/OR_ABI-L1...  ABI-L1b-RadF-M6C05   \n",
       "8   noaa-goes16/ABI-L1b-RadF/2020/275/15/OR_ABI-L1...  ABI-L1b-RadF-M6C06   \n",
       "9   noaa-goes16/ABI-L1b-RadF/2020/275/15/OR_ABI-L1...  ABI-L1b-RadF-M6C04   \n",
       "10  noaa-goes16/ABI-L1b-RadF/2020/275/15/OR_ABI-L1...  ABI-L1b-RadF-M6C03   \n",
       "11  noaa-goes16/ABI-L1b-RadF/2020/275/15/OR_ABI-L1...  ABI-L1b-RadF-M6C02   \n",
       "12  noaa-goes16/ABI-L1b-RadF/2020/275/15/OR_ABI-L1...  ABI-L1b-RadF-M6C01   \n",
       "13  noaa-goes16/ABI-L1b-RadF/2020/275/15/OR_ABI-L1...  ABI-L1b-RadF-M6C15   \n",
       "14  noaa-goes16/ABI-L1b-RadF/2020/275/15/OR_ABI-L1...  ABI-L1b-RadF-M6C07   \n",
       "15  noaa-goes16/ABI-L1b-RadF/2020/275/15/OR_ABI-L1...  ABI-L1b-RadF-M6C16   \n",
       "\n",
       "   satellite                   start                     end  \\\n",
       "0        G16 2020-10-01 15:00:19.600 2020-10-01 15:09:50.400   \n",
       "1        G16 2020-10-01 15:00:19.600 2020-10-01 15:09:51.500   \n",
       "2        G16 2020-10-01 15:00:19.600 2020-10-01 15:09:50.900   \n",
       "3        G16 2020-10-01 15:00:19.600 2020-10-01 15:09:50.400   \n",
       "4        G16 2020-10-01 15:00:19.600 2020-10-01 15:09:51.500   \n",
       "5        G16 2020-10-01 15:00:19.600 2020-10-01 15:09:50.900   \n",
       "6        G16 2020-10-01 15:00:19.600 2020-10-01 15:09:50.400   \n",
       "7        G16 2020-10-01 15:00:19.600 2020-10-01 15:09:50.400   \n",
       "8        G16 2020-10-01 15:00:19.600 2020-10-01 15:09:51.000   \n",
       "9        G16 2020-10-01 15:00:19.600 2020-10-01 15:09:50.400   \n",
       "10       G16 2020-10-01 15:00:19.600 2020-10-01 15:09:50.400   \n",
       "11       G16 2020-10-01 15:00:19.600 2020-10-01 15:09:50.400   \n",
       "12       G16 2020-10-01 15:00:19.600 2020-10-01 15:09:50.400   \n",
       "13       G16 2020-10-01 15:00:19.600 2020-10-01 15:09:51.000   \n",
       "14       G16 2020-10-01 15:00:19.600 2020-10-01 15:09:51.600   \n",
       "15       G16 2020-10-01 15:00:19.600 2020-10-01 15:09:51.500   \n",
       "\n",
       "                  creation       product mode_bands  mode  band  \n",
       "0  2020-10-01 15:09:59.900  ABI-L1b-RadF      M6C14     6    14  \n",
       "1  2020-10-01 15:09:59.000  ABI-L1b-RadF      M6C13     6    13  \n",
       "2  2020-10-01 15:09:56.900  ABI-L1b-RadF      M6C12     6    12  \n",
       "3  2020-10-01 15:09:57.400  ABI-L1b-RadF      M6C11     6    11  \n",
       "4  2020-10-01 15:09:58.300  ABI-L1b-RadF      M6C10     6    10  \n",
       "5  2020-10-01 15:09:57.900  ABI-L1b-RadF      M6C09     6     9  \n",
       "6  2020-10-01 15:09:57.800  ABI-L1b-RadF      M6C08     6     8  \n",
       "7  2020-10-01 15:09:56.200  ABI-L1b-RadF      M6C05     6     5  \n",
       "8  2020-10-01 15:09:53.600  ABI-L1b-RadF      M6C06     6     6  \n",
       "9  2020-10-01 15:09:55.600  ABI-L1b-RadF      M6C04     6     4  \n",
       "10 2020-10-01 15:09:56.900  ABI-L1b-RadF      M6C03     6     3  \n",
       "11 2020-10-01 15:09:54.800  ABI-L1b-RadF      M6C02     6     2  \n",
       "12 2020-10-01 15:09:56.500  ABI-L1b-RadF      M6C01     6     1  \n",
       "13 2020-10-01 15:09:59.400  ABI-L1b-RadF      M6C15     6    15  \n",
       "14 2020-10-01 15:09:57.300  ABI-L1b-RadF      M6C07     6     7  \n",
       "15 2020-10-01 15:09:58.700  ABI-L1b-RadF      M6C16     6    16  "
      ]
     },
     "execution_count": 18,
     "metadata": {},
     "output_type": "execute_result"
    }
   ],
   "source": [
    "%%time\n",
    "# download image\n",
    "within = pd.to_timedelta(10, unit=\"minute\")\n",
    "goes_images_files = G16_DL.nearesttime(\n",
    "    attime=attime,\n",
    "    within=within,\n",
    "    return_as=\"filelist\",\n",
    "    save_dir=goes_save_dir,\n",
    "    download=False\n",
    "\n",
    ")\n",
    "# goes_imag = goes_imag.assign_coords({\"t\": goes_imag[\"band_wavelength\"].squeeze()})\n",
    "# goes_imag = goes_imag.drop_vars([\"band_wavelength\"])\n",
    "# goes_imag = goes_imag.rename({\"t\": \"band_wavelength\"})\n",
    "\n",
    "# # correction\n",
    "# p = goes_imag[\"goes_imager_projection\"]\n",
    "\n",
    "# # The projection x and y coordinates equals the scanning angle (in radians)\n",
    "# # multiplied by the satellite height See details here:\n",
    "# # https://proj4.org/operations/projections/geos.html?highlight=geostationary\n",
    "# goes_imag[\"x\"] = goes_imag.FOV.x\n",
    "# goes_imag[\"y\"] = goes_imag.FOV.y\n",
    "# goes_imag = goes_imag.rio.write_crs(goes_imag.FOV.crs, inplace=True)\n",
    "goes_images_files"
   ]
  },
  {
   "cell_type": "markdown",
   "id": "7593efd5-051d-4011-b267-663541aeb2ab",
   "metadata": {},
   "source": [
    "### All TimeStamps"
   ]
  },
  {
   "cell_type": "markdown",
   "id": "89e5be9d-faf9-435e-af45-bfd221bca041",
   "metadata": {},
   "source": [
    "Now, we can do the same thing by for all MODIS time stamps available."
   ]
  },
  {
   "cell_type": "code",
   "execution_count": 19,
   "id": "53aa077f-5aa2-4a6d-8153-bebad18e5596",
   "metadata": {},
   "outputs": [],
   "source": [
    "from tqdm.auto import tqdm\n",
    "\n",
    "within = pd.to_timedelta(10, unit=\"minute\")"
   ]
  },
  {
   "cell_type": "code",
   "execution_count": 24,
   "id": "1b264aa6-c9d6-47fe-82d0-c8096c1125b9",
   "metadata": {},
   "outputs": [
    {
     "data": {
      "application/vnd.jupyter.widget-view+json": {
       "model_id": "a9ac65469eab4a17a3a9a1c1f4984f89",
       "version_major": 2,
       "version_minor": 0
      },
      "text/plain": [
       "  0%|          | 0/12 [00:00<?, ?it/s]"
      ]
     },
     "metadata": {},
     "output_type": "display_data"
    },
    {
     "name": "stderr",
     "output_type": "stream",
     "text": [
      "/home/juanjohn/miniconda/envs/rs_tools/lib/python3.11/site-packages/goes2go/data.py:136: FutureWarning: 'H' is deprecated and will be removed in a future version, please use 'h' instead.\n",
      "  DATES = pd.date_range(f\"{start:%Y-%m-%d %H:00}\", f\"{end:%Y-%m-%d %H:00}\", freq=\"1H\")\n",
      "/home/juanjohn/miniconda/envs/rs_tools/lib/python3.11/site-packages/goes2go/data.py:136: FutureWarning: 'H' is deprecated and will be removed in a future version, please use 'h' instead.\n",
      "  DATES = pd.date_range(f\"{start:%Y-%m-%d %H:00}\", f\"{end:%Y-%m-%d %H:00}\", freq=\"1H\")\n",
      "/home/juanjohn/miniconda/envs/rs_tools/lib/python3.11/site-packages/goes2go/data.py:136: FutureWarning: 'H' is deprecated and will be removed in a future version, please use 'h' instead.\n",
      "  DATES = pd.date_range(f\"{start:%Y-%m-%d %H:00}\", f\"{end:%Y-%m-%d %H:00}\", freq=\"1H\")\n",
      "/home/juanjohn/miniconda/envs/rs_tools/lib/python3.11/site-packages/goes2go/data.py:136: FutureWarning: 'H' is deprecated and will be removed in a future version, please use 'h' instead.\n",
      "  DATES = pd.date_range(f\"{start:%Y-%m-%d %H:00}\", f\"{end:%Y-%m-%d %H:00}\", freq=\"1H\")\n",
      "/home/juanjohn/miniconda/envs/rs_tools/lib/python3.11/site-packages/goes2go/data.py:136: FutureWarning: 'H' is deprecated and will be removed in a future version, please use 'h' instead.\n",
      "  DATES = pd.date_range(f\"{start:%Y-%m-%d %H:00}\", f\"{end:%Y-%m-%d %H:00}\", freq=\"1H\")\n",
      "/home/juanjohn/miniconda/envs/rs_tools/lib/python3.11/site-packages/goes2go/data.py:136: FutureWarning: 'H' is deprecated and will be removed in a future version, please use 'h' instead.\n",
      "  DATES = pd.date_range(f\"{start:%Y-%m-%d %H:00}\", f\"{end:%Y-%m-%d %H:00}\", freq=\"1H\")\n",
      "/home/juanjohn/miniconda/envs/rs_tools/lib/python3.11/site-packages/goes2go/data.py:136: FutureWarning: 'H' is deprecated and will be removed in a future version, please use 'h' instead.\n",
      "  DATES = pd.date_range(f\"{start:%Y-%m-%d %H:00}\", f\"{end:%Y-%m-%d %H:00}\", freq=\"1H\")\n",
      "/home/juanjohn/miniconda/envs/rs_tools/lib/python3.11/site-packages/goes2go/data.py:136: FutureWarning: 'H' is deprecated and will be removed in a future version, please use 'h' instead.\n",
      "  DATES = pd.date_range(f\"{start:%Y-%m-%d %H:00}\", f\"{end:%Y-%m-%d %H:00}\", freq=\"1H\")\n",
      "/home/juanjohn/miniconda/envs/rs_tools/lib/python3.11/site-packages/goes2go/data.py:136: FutureWarning: 'H' is deprecated and will be removed in a future version, please use 'h' instead.\n",
      "  DATES = pd.date_range(f\"{start:%Y-%m-%d %H:00}\", f\"{end:%Y-%m-%d %H:00}\", freq=\"1H\")\n",
      "/home/juanjohn/miniconda/envs/rs_tools/lib/python3.11/site-packages/goes2go/data.py:136: FutureWarning: 'H' is deprecated and will be removed in a future version, please use 'h' instead.\n",
      "  DATES = pd.date_range(f\"{start:%Y-%m-%d %H:00}\", f\"{end:%Y-%m-%d %H:00}\", freq=\"1H\")\n",
      "/home/juanjohn/miniconda/envs/rs_tools/lib/python3.11/site-packages/goes2go/data.py:136: FutureWarning: 'H' is deprecated and will be removed in a future version, please use 'h' instead.\n",
      "  DATES = pd.date_range(f\"{start:%Y-%m-%d %H:00}\", f\"{end:%Y-%m-%d %H:00}\", freq=\"1H\")\n",
      "/home/juanjohn/miniconda/envs/rs_tools/lib/python3.11/site-packages/goes2go/data.py:136: FutureWarning: 'H' is deprecated and will be removed in a future version, please use 'h' instead.\n",
      "  DATES = pd.date_range(f\"{start:%Y-%m-%d %H:00}\", f\"{end:%Y-%m-%d %H:00}\", freq=\"1H\")\n"
     ]
    }
   ],
   "source": [
    "pbar = tqdm(modis_files)\n",
    "goes_image_files = list()\n",
    "for ifile in pbar:\n",
    "\n",
    "    time_stamp = Path(ifile).name.split(\"_\")[0]\n",
    "    time_stamp = datetime.strptime(time_stamp, \"%Y%m%d%H%M%S\")\n",
    "\n",
    "    goes_image_files.append(G16_DL.nearesttime(\n",
    "        attime=time_stamp,\n",
    "        within=within,\n",
    "        return_as=\"filelist\",\n",
    "        save_dir=goes_save_dir,\n",
    "        download=False\n",
    "    ))\n",
    "\n",
    "    "
   ]
  },
  {
   "cell_type": "code",
   "execution_count": 33,
   "id": "50f38bf0-908a-494c-8560-12ea63377bc5",
   "metadata": {},
   "outputs": [],
   "source": [
    "goes_image_files_ = pd.concat(goes_image_files, axis=0)"
   ]
  },
  {
   "cell_type": "code",
   "execution_count": 36,
   "id": "f2f41bcd-d8fb-4f20-93b2-429d6ee07cc3",
   "metadata": {},
   "outputs": [
    {
     "data": {
      "text/plain": [
       "192"
      ]
     },
     "execution_count": 36,
     "metadata": {},
     "output_type": "execute_result"
    }
   ],
   "source": [
    "len(goes_image_files_)"
   ]
  },
  {
   "cell_type": "markdown",
   "id": "426d2f0c-aae3-4846-aadb-7f40c88b94e0",
   "metadata": {},
   "source": [
    "#### Downloading"
   ]
  },
  {
   "cell_type": "code",
   "execution_count": null,
   "id": "0f0e0d17-2076-4ec0-be56-772cddaf6f16",
   "metadata": {},
   "outputs": [],
   "source": []
  },
  {
   "cell_type": "code",
   "execution_count": 17,
   "id": "e38f478e-f9b5-42d7-a327-2a93ce2ee7e7",
   "metadata": {},
   "outputs": [
    {
     "name": "stderr",
     "output_type": "stream",
     "text": [
      "/home/juanjohn/miniconda/envs/rs_tools/lib/python3.11/site-packages/goes2go/data.py:136: FutureWarning: 'H' is deprecated and will be removed in a future version, please use 'h' instead.\n",
      "  DATES = pd.date_range(f\"{start:%Y-%m-%d %H:00}\", f\"{end:%Y-%m-%d %H:00}\", freq=\"1H\")\n"
     ]
    },
    {
     "name": "stdout",
     "output_type": "stream",
     "text": [
      "📦 Finished downloading [16] files to [/pool/usuarios/juanjohn/data/iti/pipeline_test/goes16/raw/noaa-goes16/ABI-L1b-RadF].\n",
      "CPU times: user 1.92 s, sys: 1.53 s, total: 3.44 s\n",
      "Wall time: 45.2 s\n"
     ]
    },
    {
     "data": {
      "text/html": [
       "<div>\n",
       "<style scoped>\n",
       "    .dataframe tbody tr th:only-of-type {\n",
       "        vertical-align: middle;\n",
       "    }\n",
       "\n",
       "    .dataframe tbody tr th {\n",
       "        vertical-align: top;\n",
       "    }\n",
       "\n",
       "    .dataframe thead th {\n",
       "        text-align: right;\n",
       "    }\n",
       "</style>\n",
       "<table border=\"1\" class=\"dataframe\">\n",
       "  <thead>\n",
       "    <tr style=\"text-align: right;\">\n",
       "      <th></th>\n",
       "      <th>file</th>\n",
       "      <th>product_mode</th>\n",
       "      <th>satellite</th>\n",
       "      <th>start</th>\n",
       "      <th>end</th>\n",
       "      <th>creation</th>\n",
       "      <th>product</th>\n",
       "      <th>mode_bands</th>\n",
       "      <th>mode</th>\n",
       "      <th>band</th>\n",
       "    </tr>\n",
       "  </thead>\n",
       "  <tbody>\n",
       "    <tr>\n",
       "      <th>0</th>\n",
       "      <td>noaa-goes16/ABI-L1b-RadF/2020/275/15/OR_ABI-L1...</td>\n",
       "      <td>ABI-L1b-RadF-M6C14</td>\n",
       "      <td>G16</td>\n",
       "      <td>2020-10-01 15:00:19.600</td>\n",
       "      <td>2020-10-01 15:09:50.400</td>\n",
       "      <td>2020-10-01 15:09:59.900</td>\n",
       "      <td>ABI-L1b-RadF</td>\n",
       "      <td>M6C14</td>\n",
       "      <td>6</td>\n",
       "      <td>14</td>\n",
       "    </tr>\n",
       "    <tr>\n",
       "      <th>1</th>\n",
       "      <td>noaa-goes16/ABI-L1b-RadF/2020/275/15/OR_ABI-L1...</td>\n",
       "      <td>ABI-L1b-RadF-M6C13</td>\n",
       "      <td>G16</td>\n",
       "      <td>2020-10-01 15:00:19.600</td>\n",
       "      <td>2020-10-01 15:09:51.500</td>\n",
       "      <td>2020-10-01 15:09:59.000</td>\n",
       "      <td>ABI-L1b-RadF</td>\n",
       "      <td>M6C13</td>\n",
       "      <td>6</td>\n",
       "      <td>13</td>\n",
       "    </tr>\n",
       "    <tr>\n",
       "      <th>2</th>\n",
       "      <td>noaa-goes16/ABI-L1b-RadF/2020/275/15/OR_ABI-L1...</td>\n",
       "      <td>ABI-L1b-RadF-M6C12</td>\n",
       "      <td>G16</td>\n",
       "      <td>2020-10-01 15:00:19.600</td>\n",
       "      <td>2020-10-01 15:09:50.900</td>\n",
       "      <td>2020-10-01 15:09:56.900</td>\n",
       "      <td>ABI-L1b-RadF</td>\n",
       "      <td>M6C12</td>\n",
       "      <td>6</td>\n",
       "      <td>12</td>\n",
       "    </tr>\n",
       "    <tr>\n",
       "      <th>3</th>\n",
       "      <td>noaa-goes16/ABI-L1b-RadF/2020/275/15/OR_ABI-L1...</td>\n",
       "      <td>ABI-L1b-RadF-M6C11</td>\n",
       "      <td>G16</td>\n",
       "      <td>2020-10-01 15:00:19.600</td>\n",
       "      <td>2020-10-01 15:09:50.400</td>\n",
       "      <td>2020-10-01 15:09:57.400</td>\n",
       "      <td>ABI-L1b-RadF</td>\n",
       "      <td>M6C11</td>\n",
       "      <td>6</td>\n",
       "      <td>11</td>\n",
       "    </tr>\n",
       "    <tr>\n",
       "      <th>4</th>\n",
       "      <td>noaa-goes16/ABI-L1b-RadF/2020/275/15/OR_ABI-L1...</td>\n",
       "      <td>ABI-L1b-RadF-M6C10</td>\n",
       "      <td>G16</td>\n",
       "      <td>2020-10-01 15:00:19.600</td>\n",
       "      <td>2020-10-01 15:09:51.500</td>\n",
       "      <td>2020-10-01 15:09:58.300</td>\n",
       "      <td>ABI-L1b-RadF</td>\n",
       "      <td>M6C10</td>\n",
       "      <td>6</td>\n",
       "      <td>10</td>\n",
       "    </tr>\n",
       "    <tr>\n",
       "      <th>5</th>\n",
       "      <td>noaa-goes16/ABI-L1b-RadF/2020/275/15/OR_ABI-L1...</td>\n",
       "      <td>ABI-L1b-RadF-M6C09</td>\n",
       "      <td>G16</td>\n",
       "      <td>2020-10-01 15:00:19.600</td>\n",
       "      <td>2020-10-01 15:09:50.900</td>\n",
       "      <td>2020-10-01 15:09:57.900</td>\n",
       "      <td>ABI-L1b-RadF</td>\n",
       "      <td>M6C09</td>\n",
       "      <td>6</td>\n",
       "      <td>9</td>\n",
       "    </tr>\n",
       "    <tr>\n",
       "      <th>6</th>\n",
       "      <td>noaa-goes16/ABI-L1b-RadF/2020/275/15/OR_ABI-L1...</td>\n",
       "      <td>ABI-L1b-RadF-M6C08</td>\n",
       "      <td>G16</td>\n",
       "      <td>2020-10-01 15:00:19.600</td>\n",
       "      <td>2020-10-01 15:09:50.400</td>\n",
       "      <td>2020-10-01 15:09:57.800</td>\n",
       "      <td>ABI-L1b-RadF</td>\n",
       "      <td>M6C08</td>\n",
       "      <td>6</td>\n",
       "      <td>8</td>\n",
       "    </tr>\n",
       "    <tr>\n",
       "      <th>7</th>\n",
       "      <td>noaa-goes16/ABI-L1b-RadF/2020/275/15/OR_ABI-L1...</td>\n",
       "      <td>ABI-L1b-RadF-M6C05</td>\n",
       "      <td>G16</td>\n",
       "      <td>2020-10-01 15:00:19.600</td>\n",
       "      <td>2020-10-01 15:09:50.400</td>\n",
       "      <td>2020-10-01 15:09:56.200</td>\n",
       "      <td>ABI-L1b-RadF</td>\n",
       "      <td>M6C05</td>\n",
       "      <td>6</td>\n",
       "      <td>5</td>\n",
       "    </tr>\n",
       "    <tr>\n",
       "      <th>8</th>\n",
       "      <td>noaa-goes16/ABI-L1b-RadF/2020/275/15/OR_ABI-L1...</td>\n",
       "      <td>ABI-L1b-RadF-M6C06</td>\n",
       "      <td>G16</td>\n",
       "      <td>2020-10-01 15:00:19.600</td>\n",
       "      <td>2020-10-01 15:09:51.000</td>\n",
       "      <td>2020-10-01 15:09:53.600</td>\n",
       "      <td>ABI-L1b-RadF</td>\n",
       "      <td>M6C06</td>\n",
       "      <td>6</td>\n",
       "      <td>6</td>\n",
       "    </tr>\n",
       "    <tr>\n",
       "      <th>9</th>\n",
       "      <td>noaa-goes16/ABI-L1b-RadF/2020/275/15/OR_ABI-L1...</td>\n",
       "      <td>ABI-L1b-RadF-M6C04</td>\n",
       "      <td>G16</td>\n",
       "      <td>2020-10-01 15:00:19.600</td>\n",
       "      <td>2020-10-01 15:09:50.400</td>\n",
       "      <td>2020-10-01 15:09:55.600</td>\n",
       "      <td>ABI-L1b-RadF</td>\n",
       "      <td>M6C04</td>\n",
       "      <td>6</td>\n",
       "      <td>4</td>\n",
       "    </tr>\n",
       "    <tr>\n",
       "      <th>10</th>\n",
       "      <td>noaa-goes16/ABI-L1b-RadF/2020/275/15/OR_ABI-L1...</td>\n",
       "      <td>ABI-L1b-RadF-M6C03</td>\n",
       "      <td>G16</td>\n",
       "      <td>2020-10-01 15:00:19.600</td>\n",
       "      <td>2020-10-01 15:09:50.400</td>\n",
       "      <td>2020-10-01 15:09:56.900</td>\n",
       "      <td>ABI-L1b-RadF</td>\n",
       "      <td>M6C03</td>\n",
       "      <td>6</td>\n",
       "      <td>3</td>\n",
       "    </tr>\n",
       "    <tr>\n",
       "      <th>11</th>\n",
       "      <td>noaa-goes16/ABI-L1b-RadF/2020/275/15/OR_ABI-L1...</td>\n",
       "      <td>ABI-L1b-RadF-M6C02</td>\n",
       "      <td>G16</td>\n",
       "      <td>2020-10-01 15:00:19.600</td>\n",
       "      <td>2020-10-01 15:09:50.400</td>\n",
       "      <td>2020-10-01 15:09:54.800</td>\n",
       "      <td>ABI-L1b-RadF</td>\n",
       "      <td>M6C02</td>\n",
       "      <td>6</td>\n",
       "      <td>2</td>\n",
       "    </tr>\n",
       "    <tr>\n",
       "      <th>12</th>\n",
       "      <td>noaa-goes16/ABI-L1b-RadF/2020/275/15/OR_ABI-L1...</td>\n",
       "      <td>ABI-L1b-RadF-M6C01</td>\n",
       "      <td>G16</td>\n",
       "      <td>2020-10-01 15:00:19.600</td>\n",
       "      <td>2020-10-01 15:09:50.400</td>\n",
       "      <td>2020-10-01 15:09:56.500</td>\n",
       "      <td>ABI-L1b-RadF</td>\n",
       "      <td>M6C01</td>\n",
       "      <td>6</td>\n",
       "      <td>1</td>\n",
       "    </tr>\n",
       "    <tr>\n",
       "      <th>13</th>\n",
       "      <td>noaa-goes16/ABI-L1b-RadF/2020/275/15/OR_ABI-L1...</td>\n",
       "      <td>ABI-L1b-RadF-M6C15</td>\n",
       "      <td>G16</td>\n",
       "      <td>2020-10-01 15:00:19.600</td>\n",
       "      <td>2020-10-01 15:09:51.000</td>\n",
       "      <td>2020-10-01 15:09:59.400</td>\n",
       "      <td>ABI-L1b-RadF</td>\n",
       "      <td>M6C15</td>\n",
       "      <td>6</td>\n",
       "      <td>15</td>\n",
       "    </tr>\n",
       "    <tr>\n",
       "      <th>14</th>\n",
       "      <td>noaa-goes16/ABI-L1b-RadF/2020/275/15/OR_ABI-L1...</td>\n",
       "      <td>ABI-L1b-RadF-M6C07</td>\n",
       "      <td>G16</td>\n",
       "      <td>2020-10-01 15:00:19.600</td>\n",
       "      <td>2020-10-01 15:09:51.600</td>\n",
       "      <td>2020-10-01 15:09:57.300</td>\n",
       "      <td>ABI-L1b-RadF</td>\n",
       "      <td>M6C07</td>\n",
       "      <td>6</td>\n",
       "      <td>7</td>\n",
       "    </tr>\n",
       "    <tr>\n",
       "      <th>15</th>\n",
       "      <td>noaa-goes16/ABI-L1b-RadF/2020/275/15/OR_ABI-L1...</td>\n",
       "      <td>ABI-L1b-RadF-M6C16</td>\n",
       "      <td>G16</td>\n",
       "      <td>2020-10-01 15:00:19.600</td>\n",
       "      <td>2020-10-01 15:09:51.500</td>\n",
       "      <td>2020-10-01 15:09:58.700</td>\n",
       "      <td>ABI-L1b-RadF</td>\n",
       "      <td>M6C16</td>\n",
       "      <td>6</td>\n",
       "      <td>16</td>\n",
       "    </tr>\n",
       "  </tbody>\n",
       "</table>\n",
       "</div>"
      ],
      "text/plain": [
       "                                                 file        product_mode  \\\n",
       "0   noaa-goes16/ABI-L1b-RadF/2020/275/15/OR_ABI-L1...  ABI-L1b-RadF-M6C14   \n",
       "1   noaa-goes16/ABI-L1b-RadF/2020/275/15/OR_ABI-L1...  ABI-L1b-RadF-M6C13   \n",
       "2   noaa-goes16/ABI-L1b-RadF/2020/275/15/OR_ABI-L1...  ABI-L1b-RadF-M6C12   \n",
       "3   noaa-goes16/ABI-L1b-RadF/2020/275/15/OR_ABI-L1...  ABI-L1b-RadF-M6C11   \n",
       "4   noaa-goes16/ABI-L1b-RadF/2020/275/15/OR_ABI-L1...  ABI-L1b-RadF-M6C10   \n",
       "5   noaa-goes16/ABI-L1b-RadF/2020/275/15/OR_ABI-L1...  ABI-L1b-RadF-M6C09   \n",
       "6   noaa-goes16/ABI-L1b-RadF/2020/275/15/OR_ABI-L1...  ABI-L1b-RadF-M6C08   \n",
       "7   noaa-goes16/ABI-L1b-RadF/2020/275/15/OR_ABI-L1...  ABI-L1b-RadF-M6C05   \n",
       "8   noaa-goes16/ABI-L1b-RadF/2020/275/15/OR_ABI-L1...  ABI-L1b-RadF-M6C06   \n",
       "9   noaa-goes16/ABI-L1b-RadF/2020/275/15/OR_ABI-L1...  ABI-L1b-RadF-M6C04   \n",
       "10  noaa-goes16/ABI-L1b-RadF/2020/275/15/OR_ABI-L1...  ABI-L1b-RadF-M6C03   \n",
       "11  noaa-goes16/ABI-L1b-RadF/2020/275/15/OR_ABI-L1...  ABI-L1b-RadF-M6C02   \n",
       "12  noaa-goes16/ABI-L1b-RadF/2020/275/15/OR_ABI-L1...  ABI-L1b-RadF-M6C01   \n",
       "13  noaa-goes16/ABI-L1b-RadF/2020/275/15/OR_ABI-L1...  ABI-L1b-RadF-M6C15   \n",
       "14  noaa-goes16/ABI-L1b-RadF/2020/275/15/OR_ABI-L1...  ABI-L1b-RadF-M6C07   \n",
       "15  noaa-goes16/ABI-L1b-RadF/2020/275/15/OR_ABI-L1...  ABI-L1b-RadF-M6C16   \n",
       "\n",
       "   satellite                   start                     end  \\\n",
       "0        G16 2020-10-01 15:00:19.600 2020-10-01 15:09:50.400   \n",
       "1        G16 2020-10-01 15:00:19.600 2020-10-01 15:09:51.500   \n",
       "2        G16 2020-10-01 15:00:19.600 2020-10-01 15:09:50.900   \n",
       "3        G16 2020-10-01 15:00:19.600 2020-10-01 15:09:50.400   \n",
       "4        G16 2020-10-01 15:00:19.600 2020-10-01 15:09:51.500   \n",
       "5        G16 2020-10-01 15:00:19.600 2020-10-01 15:09:50.900   \n",
       "6        G16 2020-10-01 15:00:19.600 2020-10-01 15:09:50.400   \n",
       "7        G16 2020-10-01 15:00:19.600 2020-10-01 15:09:50.400   \n",
       "8        G16 2020-10-01 15:00:19.600 2020-10-01 15:09:51.000   \n",
       "9        G16 2020-10-01 15:00:19.600 2020-10-01 15:09:50.400   \n",
       "10       G16 2020-10-01 15:00:19.600 2020-10-01 15:09:50.400   \n",
       "11       G16 2020-10-01 15:00:19.600 2020-10-01 15:09:50.400   \n",
       "12       G16 2020-10-01 15:00:19.600 2020-10-01 15:09:50.400   \n",
       "13       G16 2020-10-01 15:00:19.600 2020-10-01 15:09:51.000   \n",
       "14       G16 2020-10-01 15:00:19.600 2020-10-01 15:09:51.600   \n",
       "15       G16 2020-10-01 15:00:19.600 2020-10-01 15:09:51.500   \n",
       "\n",
       "                  creation       product mode_bands  mode  band  \n",
       "0  2020-10-01 15:09:59.900  ABI-L1b-RadF      M6C14     6    14  \n",
       "1  2020-10-01 15:09:59.000  ABI-L1b-RadF      M6C13     6    13  \n",
       "2  2020-10-01 15:09:56.900  ABI-L1b-RadF      M6C12     6    12  \n",
       "3  2020-10-01 15:09:57.400  ABI-L1b-RadF      M6C11     6    11  \n",
       "4  2020-10-01 15:09:58.300  ABI-L1b-RadF      M6C10     6    10  \n",
       "5  2020-10-01 15:09:57.900  ABI-L1b-RadF      M6C09     6     9  \n",
       "6  2020-10-01 15:09:57.800  ABI-L1b-RadF      M6C08     6     8  \n",
       "7  2020-10-01 15:09:56.200  ABI-L1b-RadF      M6C05     6     5  \n",
       "8  2020-10-01 15:09:53.600  ABI-L1b-RadF      M6C06     6     6  \n",
       "9  2020-10-01 15:09:55.600  ABI-L1b-RadF      M6C04     6     4  \n",
       "10 2020-10-01 15:09:56.900  ABI-L1b-RadF      M6C03     6     3  \n",
       "11 2020-10-01 15:09:54.800  ABI-L1b-RadF      M6C02     6     2  \n",
       "12 2020-10-01 15:09:56.500  ABI-L1b-RadF      M6C01     6     1  \n",
       "13 2020-10-01 15:09:59.400  ABI-L1b-RadF      M6C15     6    15  \n",
       "14 2020-10-01 15:09:57.300  ABI-L1b-RadF      M6C07     6     7  \n",
       "15 2020-10-01 15:09:58.700  ABI-L1b-RadF      M6C16     6    16  "
      ]
     },
     "execution_count": 17,
     "metadata": {},
     "output_type": "execute_result"
    }
   ],
   "source": [
    "%%time\n",
    "# download image\n",
    "within = pd.to_timedelta(10, unit=\"minute\")\n",
    "goes_images_files = G16_DL.nearesttime(\n",
    "    attime=attime,\n",
    "    within=within,\n",
    "    return_as=\"filelist\",\n",
    "    save_dir=goes_save_dir,\n",
    "    download=False\n",
    "\n",
    ")\n",
    "# goes_imag = goes_imag.assign_coords({\"t\": goes_imag[\"band_wavelength\"].squeeze()})\n",
    "# goes_imag = goes_imag.drop_vars([\"band_wavelength\"])\n",
    "# goes_imag = goes_imag.rename({\"t\": \"band_wavelength\"})\n",
    "\n",
    "# # correction\n",
    "# p = goes_imag[\"goes_imager_projection\"]\n",
    "\n",
    "# # The projection x and y coordinates equals the scanning angle (in radians)\n",
    "# # multiplied by the satellite height See details here:\n",
    "# # https://proj4.org/operations/projections/geos.html?highlight=geostationary\n",
    "# goes_imag[\"x\"] = goes_imag.FOV.x\n",
    "# goes_imag[\"y\"] = goes_imag.FOV.y\n",
    "# goes_imag = goes_imag.rio.write_crs(goes_imag.FOV.crs, inplace=True)\n",
    "goes_images_files"
   ]
  },
  {
   "cell_type": "code",
   "execution_count": 37,
   "id": "84eff49f-5334-47a4-a131-7743771b8b6b",
   "metadata": {},
   "outputs": [
    {
     "data": {
      "application/vnd.jupyter.widget-view+json": {
       "model_id": "5b5fe66f56a14370a44aaa312d7a5250",
       "version_major": 2,
       "version_minor": 0
      },
      "text/plain": [
       "  0%|          | 0/12 [00:00<?, ?it/s]"
      ]
     },
     "metadata": {},
     "output_type": "display_data"
    },
    {
     "name": "stderr",
     "output_type": "stream",
     "text": [
      "/home/juanjohn/miniconda/envs/rs_tools/lib/python3.11/site-packages/goes2go/data.py:136: FutureWarning: 'H' is deprecated and will be removed in a future version, please use 'h' instead.\n",
      "  DATES = pd.date_range(f\"{start:%Y-%m-%d %H:00}\", f\"{end:%Y-%m-%d %H:00}\", freq=\"1H\")\n"
     ]
    },
    {
     "name": "stdout",
     "output_type": "stream",
     "text": [
      " 👮🏻‍♂️ File already exists. Do not overwrite: /pool/usuarios/juanjohn/data/iti/pipeline_test/goes16/raw/noaa-goes16/ABI-L1b-RadF/2020/275/15/OR_ABI-L1b-RadF-M6C14_G16_s20202751500196_e20202751509504_c20202751509599.nc\n",
      " 👮🏻‍♂️ File already exists. Do not overwrite: /pool/usuarios/juanjohn/data/iti/pipeline_test/goes16/raw/noaa-goes16/ABI-L1b-RadF/2020/275/15/OR_ABI-L1b-RadF-M6C13_G16_s20202751500196_e20202751509515_c20202751509590.nc\n",
      " 👮🏻‍♂️ File already exists. Do not overwrite: /pool/usuarios/juanjohn/data/iti/pipeline_test/goes16/raw/noaa-goes16/ABI-L1b-RadF/2020/275/15/OR_ABI-L1b-RadF-M6C12_G16_s20202751500196_e20202751509509_c20202751509569.nc\n",
      " 👮🏻‍♂️ File already exists. Do not overwrite: /pool/usuarios/juanjohn/data/iti/pipeline_test/goes16/raw/noaa-goes16/ABI-L1b-RadF/2020/275/15/OR_ABI-L1b-RadF-M6C11_G16_s20202751500196_e20202751509504_c20202751509574.nc\n",
      " 👮🏻‍♂️ File already exists. Do not overwrite: /pool/usuarios/juanjohn/data/iti/pipeline_test/goes16/raw/noaa-goes16/ABI-L1b-RadF/2020/275/15/OR_ABI-L1b-RadF-M6C10_G16_s20202751500196_e20202751509515_c20202751509583.nc\n",
      " 👮🏻‍♂️ File already exists. Do not overwrite: /pool/usuarios/juanjohn/data/iti/pipeline_test/goes16/raw/noaa-goes16/ABI-L1b-RadF/2020/275/15/OR_ABI-L1b-RadF-M6C09_G16_s20202751500196_e20202751509509_c20202751509579.nc\n",
      " 👮🏻‍♂️ File already exists. Do not overwrite: /pool/usuarios/juanjohn/data/iti/pipeline_test/goes16/raw/noaa-goes16/ABI-L1b-RadF/2020/275/15/OR_ABI-L1b-RadF-M6C08_G16_s20202751500196_e20202751509504_c20202751509578.nc\n",
      " 👮🏻‍♂️ File already exists. Do not overwrite: /pool/usuarios/juanjohn/data/iti/pipeline_test/goes16/raw/noaa-goes16/ABI-L1b-RadF/2020/275/15/OR_ABI-L1b-RadF-M6C05_G16_s20202751500196_e20202751509504_c20202751509562.nc\n",
      " 👮🏻‍♂️ File already exists. Do not overwrite: /pool/usuarios/juanjohn/data/iti/pipeline_test/goes16/raw/noaa-goes16/ABI-L1b-RadF/2020/275/15/OR_ABI-L1b-RadF-M6C06_G16_s20202751500196_e20202751509510_c20202751509536.nc\n",
      " 👮🏻‍♂️ File already exists. Do not overwrite: /pool/usuarios/juanjohn/data/iti/pipeline_test/goes16/raw/noaa-goes16/ABI-L1b-RadF/2020/275/15/OR_ABI-L1b-RadF-M6C04_G16_s20202751500196_e20202751509504_c20202751509556.nc\n",
      " 👮🏻‍♂️ File already exists. Do not overwrite: /pool/usuarios/juanjohn/data/iti/pipeline_test/goes16/raw/noaa-goes16/ABI-L1b-RadF/2020/275/15/OR_ABI-L1b-RadF-M6C03_G16_s20202751500196_e20202751509504_c20202751509569.nc\n",
      " 👮🏻‍♂️ File already exists. Do not overwrite: /pool/usuarios/juanjohn/data/iti/pipeline_test/goes16/raw/noaa-goes16/ABI-L1b-RadF/2020/275/15/OR_ABI-L1b-RadF-M6C02_G16_s20202751500196_e20202751509504_c20202751509548.nc\n",
      " 👮🏻‍♂️ File already exists. Do not overwrite: /pool/usuarios/juanjohn/data/iti/pipeline_test/goes16/raw/noaa-goes16/ABI-L1b-RadF/2020/275/15/OR_ABI-L1b-RadF-M6C01_G16_s20202751500196_e20202751509504_c20202751509565.nc\n",
      " 👮🏻‍♂️ File already exists. Do not overwrite: /pool/usuarios/juanjohn/data/iti/pipeline_test/goes16/raw/noaa-goes16/ABI-L1b-RadF/2020/275/15/OR_ABI-L1b-RadF-M6C07_G16_s20202751500196_e20202751509516_c20202751509573.nc\n",
      " 👮🏻‍♂️ File already exists. Do not overwrite: /pool/usuarios/juanjohn/data/iti/pipeline_test/goes16/raw/noaa-goes16/ABI-L1b-RadF/2020/275/15/OR_ABI-L1b-RadF-M6C16_G16_s20202751500196_e20202751509515_c20202751509587.nc\n",
      " 👮🏻‍♂️ File already exists. Do not overwrite: /pool/usuarios/juanjohn/data/iti/pipeline_test/goes16/raw/noaa-goes16/ABI-L1b-RadF/2020/275/15/OR_ABI-L1b-RadF-M6C15_G16_s20202751500196_e20202751509510_c20202751509594.nc\n",
      "📦 Finished downloading [16] files to [/pool/usuarios/juanjohn/data/iti/pipeline_test/goes16/raw/noaa-goes16/ABI-L1b-RadF].\n"
     ]
    },
    {
     "name": "stderr",
     "output_type": "stream",
     "text": [
      "/home/juanjohn/miniconda/envs/rs_tools/lib/python3.11/site-packages/goes2go/data.py:136: FutureWarning: 'H' is deprecated and will be removed in a future version, please use 'h' instead.\n",
      "  DATES = pd.date_range(f\"{start:%Y-%m-%d %H:00}\", f\"{end:%Y-%m-%d %H:00}\", freq=\"1H\")\n"
     ]
    },
    {
     "name": "stdout",
     "output_type": "stream",
     "text": [
      " 👮🏻‍♂️ File already exists. Do not overwrite: /pool/usuarios/juanjohn/data/iti/pipeline_test/goes16/raw/noaa-goes16/ABI-L1b-RadF/2020/275/15/OR_ABI-L1b-RadF-M6C01_G16_s20202751500196_e20202751509504_c20202751509565.nc 👮🏻‍♂️ File already exists. Do not overwrite: /pool/usuarios/juanjohn/data/iti/pipeline_test/goes16/raw/noaa-goes16/ABI-L1b-RadF/2020/275/15/OR_ABI-L1b-RadF-M6C02_G16_s20202751500196_e20202751509504_c20202751509548.nc\n",
      "\n",
      " 👮🏻‍♂️ File already exists. Do not overwrite: /pool/usuarios/juanjohn/data/iti/pipeline_test/goes16/raw/noaa-goes16/ABI-L1b-RadF/2020/275/15/OR_ABI-L1b-RadF-M6C03_G16_s20202751500196_e20202751509504_c20202751509569.nc\n",
      " 👮🏻‍♂️ File already exists. Do not overwrite: /pool/usuarios/juanjohn/data/iti/pipeline_test/goes16/raw/noaa-goes16/ABI-L1b-RadF/2020/275/15/OR_ABI-L1b-RadF-M6C05_G16_s20202751500196_e20202751509504_c20202751509562.nc\n",
      " 👮🏻‍♂️ File already exists. Do not overwrite: /pool/usuarios/juanjohn/data/iti/pipeline_test/goes16/raw/noaa-goes16/ABI-L1b-RadF/2020/275/15/OR_ABI-L1b-RadF-M6C04_G16_s20202751500196_e20202751509504_c20202751509556.nc\n",
      " 👮🏻‍♂️ File already exists. Do not overwrite: /pool/usuarios/juanjohn/data/iti/pipeline_test/goes16/raw/noaa-goes16/ABI-L1b-RadF/2020/275/15/OR_ABI-L1b-RadF-M6C07_G16_s20202751500196_e20202751509516_c20202751509573.nc\n",
      " 👮🏻‍♂️ File already exists. Do not overwrite: /pool/usuarios/juanjohn/data/iti/pipeline_test/goes16/raw/noaa-goes16/ABI-L1b-RadF/2020/275/15/OR_ABI-L1b-RadF-M6C06_G16_s20202751500196_e20202751509510_c20202751509536.nc\n",
      " 👮🏻‍♂️ File already exists. Do not overwrite: /pool/usuarios/juanjohn/data/iti/pipeline_test/goes16/raw/noaa-goes16/ABI-L1b-RadF/2020/275/15/OR_ABI-L1b-RadF-M6C09_G16_s20202751500196_e20202751509509_c20202751509579.nc\n",
      " 👮🏻‍♂️ File already exists. Do not overwrite: /pool/usuarios/juanjohn/data/iti/pipeline_test/goes16/raw/noaa-goes16/ABI-L1b-RadF/2020/275/15/OR_ABI-L1b-RadF-M6C08_G16_s20202751500196_e20202751509504_c20202751509578.nc\n",
      " 👮🏻‍♂️ File already exists. Do not overwrite: /pool/usuarios/juanjohn/data/iti/pipeline_test/goes16/raw/noaa-goes16/ABI-L1b-RadF/2020/275/15/OR_ABI-L1b-RadF-M6C11_G16_s20202751500196_e20202751509504_c20202751509574.nc\n",
      " 👮🏻‍♂️ File already exists. Do not overwrite: /pool/usuarios/juanjohn/data/iti/pipeline_test/goes16/raw/noaa-goes16/ABI-L1b-RadF/2020/275/15/OR_ABI-L1b-RadF-M6C10_G16_s20202751500196_e20202751509515_c20202751509583.nc\n",
      " 👮🏻‍♂️ File already exists. Do not overwrite: /pool/usuarios/juanjohn/data/iti/pipeline_test/goes16/raw/noaa-goes16/ABI-L1b-RadF/2020/275/15/OR_ABI-L1b-RadF-M6C13_G16_s20202751500196_e20202751509515_c20202751509590.nc\n",
      " 👮🏻‍♂️ File already exists. Do not overwrite: /pool/usuarios/juanjohn/data/iti/pipeline_test/goes16/raw/noaa-goes16/ABI-L1b-RadF/2020/275/15/OR_ABI-L1b-RadF-M6C12_G16_s20202751500196_e20202751509509_c20202751509569.nc\n",
      " 👮🏻‍♂️ File already exists. Do not overwrite: /pool/usuarios/juanjohn/data/iti/pipeline_test/goes16/raw/noaa-goes16/ABI-L1b-RadF/2020/275/15/OR_ABI-L1b-RadF-M6C14_G16_s20202751500196_e20202751509504_c20202751509599.nc\n",
      " 👮🏻‍♂️ File already exists. Do not overwrite: /pool/usuarios/juanjohn/data/iti/pipeline_test/goes16/raw/noaa-goes16/ABI-L1b-RadF/2020/275/15/OR_ABI-L1b-RadF-M6C15_G16_s20202751500196_e20202751509510_c20202751509594.nc\n",
      " 👮🏻‍♂️ File already exists. Do not overwrite: /pool/usuarios/juanjohn/data/iti/pipeline_test/goes16/raw/noaa-goes16/ABI-L1b-RadF/2020/275/15/OR_ABI-L1b-RadF-M6C16_G16_s20202751500196_e20202751509515_c20202751509587.nc\n",
      "📦 Finished downloading [16] files to [/pool/usuarios/juanjohn/data/iti/pipeline_test/goes16/raw/noaa-goes16/ABI-L1b-RadF].\n"
     ]
    },
    {
     "name": "stderr",
     "output_type": "stream",
     "text": [
      "/home/juanjohn/miniconda/envs/rs_tools/lib/python3.11/site-packages/goes2go/data.py:136: FutureWarning: 'H' is deprecated and will be removed in a future version, please use 'h' instead.\n",
      "  DATES = pd.date_range(f\"{start:%Y-%m-%d %H:00}\", f\"{end:%Y-%m-%d %H:00}\", freq=\"1H\")\n"
     ]
    },
    {
     "name": "stdout",
     "output_type": "stream",
     "text": [
      "📦 Finished downloading [16] files to [/pool/usuarios/juanjohn/data/iti/pipeline_test/goes16/raw/noaa-goes16/ABI-L1b-RadF].\n",
      " 👮🏻‍♂️ File already exists. Do not overwrite: /pool/usuarios/juanjohn/data/iti/pipeline_test/goes16/raw/noaa-goes16/ABI-L1b-RadF/2020/275/16/OR_ABI-L1b-RadF-M6C01_G16_s20202751640196_e20202751649504_c20202751649568.nc\n",
      " 👮🏻‍♂️ File already exists. Do not overwrite: /pool/usuarios/juanjohn/data/iti/pipeline_test/goes16/raw/noaa-goes16/ABI-L1b-RadF/2020/275/16/OR_ABI-L1b-RadF-M6C02_G16_s20202751640196_e20202751649504_c20202751649557.nc\n",
      " 👮🏻‍♂️ File already exists. Do not overwrite: /pool/usuarios/juanjohn/data/iti/pipeline_test/goes16/raw/noaa-goes16/ABI-L1b-RadF/2020/275/16/OR_ABI-L1b-RadF-M6C03_G16_s20202751640196_e20202751649504_c20202751649565.nc\n",
      " 👮🏻‍♂️ File already exists. Do not overwrite: /pool/usuarios/juanjohn/data/iti/pipeline_test/goes16/raw/noaa-goes16/ABI-L1b-RadF/2020/275/16/OR_ABI-L1b-RadF-M6C04_G16_s20202751640196_e20202751649504_c20202751649533.nc\n",
      " 👮🏻‍♂️ File already exists. Do not overwrite: /pool/usuarios/juanjohn/data/iti/pipeline_test/goes16/raw/noaa-goes16/ABI-L1b-RadF/2020/275/16/OR_ABI-L1b-RadF-M6C05_G16_s20202751640196_e20202751649504_c20202751649561.nc\n",
      " 👮🏻‍♂️ File already exists. Do not overwrite: /pool/usuarios/juanjohn/data/iti/pipeline_test/goes16/raw/noaa-goes16/ABI-L1b-RadF/2020/275/16/OR_ABI-L1b-RadF-M6C06_G16_s20202751640196_e20202751649509_c20202751649548.nc\n",
      " 👮🏻‍♂️ File already exists. Do not overwrite: /pool/usuarios/juanjohn/data/iti/pipeline_test/goes16/raw/noaa-goes16/ABI-L1b-RadF/2020/275/16/OR_ABI-L1b-RadF-M6C07_G16_s20202751640196_e20202751649515_c20202751649578.nc\n",
      " 👮🏻‍♂️ File already exists. Do not overwrite: /pool/usuarios/juanjohn/data/iti/pipeline_test/goes16/raw/noaa-goes16/ABI-L1b-RadF/2020/275/16/OR_ABI-L1b-RadF-M6C08_G16_s20202751640196_e20202751649504_c20202751649573.nc\n",
      " 👮🏻‍♂️ File already exists. Do not overwrite: /pool/usuarios/juanjohn/data/iti/pipeline_test/goes16/raw/noaa-goes16/ABI-L1b-RadF/2020/275/16/OR_ABI-L1b-RadF-M6C09_G16_s20202751640196_e20202751649509_c20202751649577.nc\n",
      " 👮🏻‍♂️ File already exists. Do not overwrite: /pool/usuarios/juanjohn/data/iti/pipeline_test/goes16/raw/noaa-goes16/ABI-L1b-RadF/2020/275/16/OR_ABI-L1b-RadF-M6C10_G16_s20202751640196_e20202751649515_c20202751649572.nc\n",
      " 👮🏻‍♂️ File already exists. Do not overwrite: /pool/usuarios/juanjohn/data/iti/pipeline_test/goes16/raw/noaa-goes16/ABI-L1b-RadF/2020/275/16/OR_ABI-L1b-RadF-M6C13_G16_s20202751640196_e20202751649515_c20202751649590.nc\n",
      " 👮🏻‍♂️ File already exists. Do not overwrite: /pool/usuarios/juanjohn/data/iti/pipeline_test/goes16/raw/noaa-goes16/ABI-L1b-RadF/2020/275/16/OR_ABI-L1b-RadF-M6C11_G16_s20202751640196_e20202751649504_c20202751649566.nc\n",
      " 👮🏻‍♂️ File already exists. Do not overwrite: /pool/usuarios/juanjohn/data/iti/pipeline_test/goes16/raw/noaa-goes16/ABI-L1b-RadF/2020/275/16/OR_ABI-L1b-RadF-M6C12_G16_s20202751640196_e20202751649509_c20202751649584.nc\n",
      " 👮🏻‍♂️ File already exists. Do not overwrite: /pool/usuarios/juanjohn/data/iti/pipeline_test/goes16/raw/noaa-goes16/ABI-L1b-RadF/2020/275/16/OR_ABI-L1b-RadF-M6C14_G16_s20202751640196_e20202751649504_c20202751649599.nc\n",
      " 👮🏻‍♂️ File already exists. Do not overwrite: /pool/usuarios/juanjohn/data/iti/pipeline_test/goes16/raw/noaa-goes16/ABI-L1b-RadF/2020/275/16/OR_ABI-L1b-RadF-M6C16_G16_s20202751640196_e20202751649515_c20202751649580.nc\n",
      " 👮🏻‍♂️ File already exists. Do not overwrite: /pool/usuarios/juanjohn/data/iti/pipeline_test/goes16/raw/noaa-goes16/ABI-L1b-RadF/2020/275/16/OR_ABI-L1b-RadF-M6C15_G16_s20202751640196_e20202751649509_c20202751650004.nc\n",
      "📦 Finished downloading [16] files to [/pool/usuarios/juanjohn/data/iti/pipeline_test/goes16/raw/noaa-goes16/ABI-L1b-RadF].\n"
     ]
    },
    {
     "name": "stderr",
     "output_type": "stream",
     "text": [
      "/home/juanjohn/miniconda/envs/rs_tools/lib/python3.11/site-packages/goes2go/data.py:136: FutureWarning: 'H' is deprecated and will be removed in a future version, please use 'h' instead.\n",
      "  DATES = pd.date_range(f\"{start:%Y-%m-%d %H:00}\", f\"{end:%Y-%m-%d %H:00}\", freq=\"1H\")\n",
      "/home/juanjohn/miniconda/envs/rs_tools/lib/python3.11/site-packages/goes2go/data.py:136: FutureWarning: 'H' is deprecated and will be removed in a future version, please use 'h' instead.\n",
      "  DATES = pd.date_range(f\"{start:%Y-%m-%d %H:00}\", f\"{end:%Y-%m-%d %H:00}\", freq=\"1H\")\n"
     ]
    },
    {
     "name": "stdout",
     "output_type": "stream",
     "text": [
      "📦 Finished downloading [16] files to [/pool/usuarios/juanjohn/data/iti/pipeline_test/goes16/raw/noaa-goes16/ABI-L1b-RadF].\n",
      " 👮🏻‍♂️ File already exists. Do not overwrite: /pool/usuarios/juanjohn/data/iti/pipeline_test/goes16/raw/noaa-goes16/ABI-L1b-RadF/2020/275/18/OR_ABI-L1b-RadF-M6C02_G16_s20202751820193_e20202751829501_c20202751829544.nc\n",
      " 👮🏻‍♂️ File already exists. Do not overwrite: /pool/usuarios/juanjohn/data/iti/pipeline_test/goes16/raw/noaa-goes16/ABI-L1b-RadF/2020/275/18/OR_ABI-L1b-RadF-M6C03_G16_s20202751820193_e20202751829501_c20202751829563.nc\n",
      " 👮🏻‍♂️ File already exists. Do not overwrite: /pool/usuarios/juanjohn/data/iti/pipeline_test/goes16/raw/noaa-goes16/ABI-L1b-RadF/2020/275/18/OR_ABI-L1b-RadF-M6C01_G16_s20202751820193_e20202751829501_c20202751829557.nc\n",
      " 👮🏻‍♂️ File already exists. Do not overwrite: /pool/usuarios/juanjohn/data/iti/pipeline_test/goes16/raw/noaa-goes16/ABI-L1b-RadF/2020/275/18/OR_ABI-L1b-RadF-M6C04_G16_s20202751820193_e20202751829501_c20202751829531.nc\n",
      " 👮🏻‍♂️ File already exists. Do not overwrite: /pool/usuarios/juanjohn/data/iti/pipeline_test/goes16/raw/noaa-goes16/ABI-L1b-RadF/2020/275/18/OR_ABI-L1b-RadF-M6C05_G16_s20202751820193_e20202751829501_c20202751829553.nc\n",
      " 👮🏻‍♂️ File already exists. Do not overwrite: /pool/usuarios/juanjohn/data/iti/pipeline_test/goes16/raw/noaa-goes16/ABI-L1b-RadF/2020/275/18/OR_ABI-L1b-RadF-M6C07_G16_s20202751820193_e20202751829513_c20202751829566.nc\n",
      " 👮🏻‍♂️ File already exists. Do not overwrite: /pool/usuarios/juanjohn/data/iti/pipeline_test/goes16/raw/noaa-goes16/ABI-L1b-RadF/2020/275/18/OR_ABI-L1b-RadF-M6C06_G16_s20202751820193_e20202751829507_c20202751829550.nc\n",
      " 👮🏻‍♂️ File already exists. Do not overwrite: /pool/usuarios/juanjohn/data/iti/pipeline_test/goes16/raw/noaa-goes16/ABI-L1b-RadF/2020/275/18/OR_ABI-L1b-RadF-M6C09_G16_s20202751820193_e20202751829507_c20202751829562.nc\n",
      " 👮🏻‍♂️ File already exists. Do not overwrite: /pool/usuarios/juanjohn/data/iti/pipeline_test/goes16/raw/noaa-goes16/ABI-L1b-RadF/2020/275/18/OR_ABI-L1b-RadF-M6C08_G16_s20202751820193_e20202751829501_c20202751829570.nc\n",
      " 👮🏻‍♂️ File already exists. Do not overwrite: /pool/usuarios/juanjohn/data/iti/pipeline_test/goes16/raw/noaa-goes16/ABI-L1b-RadF/2020/275/18/OR_ABI-L1b-RadF-M6C10_G16_s20202751820193_e20202751829513_c20202751829566.nc\n",
      " 👮🏻‍♂️ File already exists. Do not overwrite: /pool/usuarios/juanjohn/data/iti/pipeline_test/goes16/raw/noaa-goes16/ABI-L1b-RadF/2020/275/18/OR_ABI-L1b-RadF-M6C11_G16_s20202751820193_e20202751829501_c20202751829558.nc\n",
      " 👮🏻‍♂️ File already exists. Do not overwrite: /pool/usuarios/juanjohn/data/iti/pipeline_test/goes16/raw/noaa-goes16/ABI-L1b-RadF/2020/275/18/OR_ABI-L1b-RadF-M6C12_G16_s20202751820193_e20202751829507_c20202751829589.nc\n",
      " 👮🏻‍♂️ File already exists. Do not overwrite: /pool/usuarios/juanjohn/data/iti/pipeline_test/goes16/raw/noaa-goes16/ABI-L1b-RadF/2020/275/18/OR_ABI-L1b-RadF-M6C13_G16_s20202751820193_e20202751829513_c20202751829570.nc\n",
      " 👮🏻‍♂️ File already exists. Do not overwrite: /pool/usuarios/juanjohn/data/iti/pipeline_test/goes16/raw/noaa-goes16/ABI-L1b-RadF/2020/275/18/OR_ABI-L1b-RadF-M6C14_G16_s20202751820193_e20202751829501_c20202751829582.nc\n",
      " 👮🏻‍♂️ File already exists. Do not overwrite: /pool/usuarios/juanjohn/data/iti/pipeline_test/goes16/raw/noaa-goes16/ABI-L1b-RadF/2020/275/18/OR_ABI-L1b-RadF-M6C15_G16_s20202751820193_e20202751829507_c20202751829592.nc\n",
      " 👮🏻‍♂️ File already exists. Do not overwrite: /pool/usuarios/juanjohn/data/iti/pipeline_test/goes16/raw/noaa-goes16/ABI-L1b-RadF/2020/275/18/OR_ABI-L1b-RadF-M6C16_G16_s20202751820193_e20202751829513_c20202751829574.nc\n",
      "📦 Finished downloading [16] files to [/pool/usuarios/juanjohn/data/iti/pipeline_test/goes16/raw/noaa-goes16/ABI-L1b-RadF].\n"
     ]
    },
    {
     "name": "stderr",
     "output_type": "stream",
     "text": [
      "/home/juanjohn/miniconda/envs/rs_tools/lib/python3.11/site-packages/goes2go/data.py:136: FutureWarning: 'H' is deprecated and will be removed in a future version, please use 'h' instead.\n",
      "  DATES = pd.date_range(f\"{start:%Y-%m-%d %H:00}\", f\"{end:%Y-%m-%d %H:00}\", freq=\"1H\")\n",
      "/home/juanjohn/miniconda/envs/rs_tools/lib/python3.11/site-packages/goes2go/data.py:136: FutureWarning: 'H' is deprecated and will be removed in a future version, please use 'h' instead.\n",
      "  DATES = pd.date_range(f\"{start:%Y-%m-%d %H:00}\", f\"{end:%Y-%m-%d %H:00}\", freq=\"1H\")\n"
     ]
    },
    {
     "name": "stdout",
     "output_type": "stream",
     "text": [
      "📦 Finished downloading [16] files to [/pool/usuarios/juanjohn/data/iti/pipeline_test/goes16/raw/noaa-goes16/ABI-L1b-RadF].\n"
     ]
    },
    {
     "name": "stderr",
     "output_type": "stream",
     "text": [
      "/home/juanjohn/miniconda/envs/rs_tools/lib/python3.11/site-packages/goes2go/data.py:136: FutureWarning: 'H' is deprecated and will be removed in a future version, please use 'h' instead.\n",
      "  DATES = pd.date_range(f\"{start:%Y-%m-%d %H:00}\", f\"{end:%Y-%m-%d %H:00}\", freq=\"1H\")\n"
     ]
    },
    {
     "name": "stdout",
     "output_type": "stream",
     "text": [
      "📦 Finished downloading [16] files to [/pool/usuarios/juanjohn/data/iti/pipeline_test/goes16/raw/noaa-goes16/ABI-L1b-RadF].\n"
     ]
    },
    {
     "name": "stderr",
     "output_type": "stream",
     "text": [
      "/home/juanjohn/miniconda/envs/rs_tools/lib/python3.11/site-packages/goes2go/data.py:136: FutureWarning: 'H' is deprecated and will be removed in a future version, please use 'h' instead.\n",
      "  DATES = pd.date_range(f\"{start:%Y-%m-%d %H:00}\", f\"{end:%Y-%m-%d %H:00}\", freq=\"1H\")\n"
     ]
    },
    {
     "name": "stdout",
     "output_type": "stream",
     "text": [
      "📦 Finished downloading [16] files to [/pool/usuarios/juanjohn/data/iti/pipeline_test/goes16/raw/noaa-goes16/ABI-L1b-RadF].\n"
     ]
    },
    {
     "name": "stderr",
     "output_type": "stream",
     "text": [
      "/home/juanjohn/miniconda/envs/rs_tools/lib/python3.11/site-packages/goes2go/data.py:136: FutureWarning: 'H' is deprecated and will be removed in a future version, please use 'h' instead.\n",
      "  DATES = pd.date_range(f\"{start:%Y-%m-%d %H:00}\", f\"{end:%Y-%m-%d %H:00}\", freq=\"1H\")\n"
     ]
    },
    {
     "name": "stdout",
     "output_type": "stream",
     "text": [
      "📦 Finished downloading [16] files to [/pool/usuarios/juanjohn/data/iti/pipeline_test/goes16/raw/noaa-goes16/ABI-L1b-RadF].\n"
     ]
    },
    {
     "name": "stderr",
     "output_type": "stream",
     "text": [
      "/home/juanjohn/miniconda/envs/rs_tools/lib/python3.11/site-packages/goes2go/data.py:136: FutureWarning: 'H' is deprecated and will be removed in a future version, please use 'h' instead.\n",
      "  DATES = pd.date_range(f\"{start:%Y-%m-%d %H:00}\", f\"{end:%Y-%m-%d %H:00}\", freq=\"1H\")\n"
     ]
    },
    {
     "name": "stdout",
     "output_type": "stream",
     "text": [
      "📦 Finished downloading [16] files to [/pool/usuarios/juanjohn/data/iti/pipeline_test/goes16/raw/noaa-goes16/ABI-L1b-RadF].\n"
     ]
    },
    {
     "name": "stderr",
     "output_type": "stream",
     "text": [
      "/home/juanjohn/miniconda/envs/rs_tools/lib/python3.11/site-packages/goes2go/data.py:136: FutureWarning: 'H' is deprecated and will be removed in a future version, please use 'h' instead.\n",
      "  DATES = pd.date_range(f\"{start:%Y-%m-%d %H:00}\", f\"{end:%Y-%m-%d %H:00}\", freq=\"1H\")\n"
     ]
    },
    {
     "name": "stdout",
     "output_type": "stream",
     "text": [
      "📦 Finished downloading [16] files to [/pool/usuarios/juanjohn/data/iti/pipeline_test/goes16/raw/noaa-goes16/ABI-L1b-RadF].\n"
     ]
    }
   ],
   "source": [
    "pbar = tqdm(modis_files)\n",
    "goes_image_files = list()\n",
    "for ifile in pbar:\n",
    "\n",
    "    time_stamp = Path(ifile).name.split(\"_\")[0]\n",
    "    time_stamp = datetime.strptime(time_stamp, \"%Y%m%d%H%M%S\")\n",
    "\n",
    "    goes_image_files.append(G16_DL.nearesttime(\n",
    "        attime=time_stamp,\n",
    "        within=within,\n",
    "        return_as=\"filelist\",\n",
    "        save_dir=goes_save_dir,\n",
    "        download=True\n",
    "    ))\n"
   ]
  },
  {
   "cell_type": "markdown",
   "id": "d2caf8b0-d91e-4b56-af61-8b003fe03879",
   "metadata": {},
   "source": [
    "Now, we can download the data using the EarthAccess framework.\n",
    "The main thing we need is the period and (optional) a bounding box.\n",
    "We don't want to download too much data so we will give a bounding box of interest."
   ]
  }
 ],
 "metadata": {
  "kernelspec": {
   "display_name": "Python [conda env:rs_tools]",
   "language": "python",
   "name": "conda-env-rs_tools-py"
  },
  "language_info": {
   "codemirror_mode": {
    "name": "ipython",
    "version": 3
   },
   "file_extension": ".py",
   "mimetype": "text/x-python",
   "name": "python",
   "nbconvert_exporter": "python",
   "pygments_lexer": "ipython3",
   "version": "3.11.9"
  }
 },
 "nbformat": 4,
 "nbformat_minor": 5
}
