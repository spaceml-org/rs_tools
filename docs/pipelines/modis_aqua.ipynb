{
 "cells": [
  {
   "cell_type": "markdown",
   "id": "c103011a-4a1d-412f-9200-b823c9dd37bc",
   "metadata": {},
   "source": [
    "MODIS Pipeline\n"
   ]
  },
  {
   "cell_type": "markdown",
   "id": "cb92d3f7-b31e-41ba-8ade-ae3961a0b5b7",
   "metadata": {},
   "source": [
    "> In this tutorial, we will walk through how one can download data and prep for any further machine learning work with the GOES16 dataset.\n",
    "> We will:\n",
    "> 1) download the data\n",
    "> 2) harmonize the data\n",
    "> 3) create patches that are ready for ML consumption."
   ]
  },
  {
   "cell_type": "code",
   "execution_count": 1,
   "id": "e5d9b01f-9b02-4888-b8c2-42fdf3dfb27e",
   "metadata": {},
   "outputs": [],
   "source": [
    "import autoroot\n",
    "import os\n",
    "from dotenv import load_dotenv\n",
    "import xarray as xr\n",
    "import numpy as np\n",
    "import matplotlib.pyplot as plt\n",
    "import cartopy.crs as ccrs\n",
    "import rasterio\n",
    "import cartopy\n",
    "import cartopy.crs as ccrs\n",
    "import cartopy.feature as cfeature\n",
    "from cartopy.mpl.gridliner import LONGITUDE_FORMATTER, LATITUDE_FORMATTER\n",
    "xr.set_options(\n",
    "    keep_attrs=True, \n",
    "    display_expand_data=False, \n",
    "    display_expand_coords=False, \n",
    "    display_expand_data_vars=False, \n",
    "    display_expand_indexes=False\n",
    ")\n",
    "np.set_printoptions(threshold=10, edgeitems=2)\n",
    "\n",
    "import seaborn as sns\n",
    "sns.reset_defaults()\n",
    "sns.set_context(context=\"talk\", font_scale=1.0)\n",
    "\n",
    "%matplotlib inline"
   ]
  },
  {
   "cell_type": "markdown",
   "id": "070298b8-c943-4e73-a6fe-8e471b81c530",
   "metadata": {},
   "source": [
    "***\n",
    "\n",
    "## Download\n",
    "\n",
    "Firstly, we need to download the data."
   ]
  },
  {
   "cell_type": "markdown",
   "id": "62bfd570-ca59-4820-ad0f-ca74b652c7fb",
   "metadata": {},
   "source": [
    "#### Save Directory"
   ]
  },
  {
   "cell_type": "markdown",
   "id": "a231a650-b349-40f3-a0ad-3a3e7a9c16db",
   "metadata": {},
   "source": [
    "This is arguably the most important part.\n",
    "We need to define where we want to save the data.\n",
    "\n",
    "We use the `autoroot` package to manually handle all of the \n"
   ]
  },
  {
   "cell_type": "code",
   "execution_count": 2,
   "id": "4eb1b8c6-8646-4861-943b-d651dfb1bdee",
   "metadata": {},
   "outputs": [],
   "source": [
    "root_dir = autoroot.root"
   ]
  },
  {
   "cell_type": "markdown",
   "id": "981748d3-0966-431f-803a-40fdc71501b3",
   "metadata": {},
   "source": [
    "**Note**: The data is very heavy! So make sure you have adequate space."
   ]
  },
  {
   "cell_type": "code",
   "execution_count": 3,
   "id": "c84f34f6-1e67-4c63-aa14-386c225181f8",
   "metadata": {},
   "outputs": [],
   "source": [
    "save_dir = os.getenv(\"ITI_DATA_SAVEDIR\")"
   ]
  },
  {
   "cell_type": "markdown",
   "id": "857c8271-47b8-45e5-b469-513c35b68941",
   "metadata": {},
   "source": [
    "### Account"
   ]
  },
  {
   "cell_type": "markdown",
   "id": "eff7d344-d09f-4d7a-ad45-032d644a205d",
   "metadata": {},
   "source": [
    "We use the NASA data registry which hosts all of the datasets.\n",
    "We use the [EarthAccess](https://earthaccess.readthedocs.io/en/stable/tutorials/getting-started/) API which enables us to easily download data using python.\n",
    "\n",
    "**Warning**: the user **must** have an account for the [NASA EarthData](https://urs.earthdata.nasa.gov) API.\n",
    "Please follow the link to register for an account.\n",
    "There are different ways to authenticate your account. \n",
    "We recommend you log in once and store it to your local `~/.netrc` file or alternatively, setting the `.env` variable to your `EARTHDATA_USERNAME` and `EARTH_PASSWORD`.\n",
    "See these [instructions](https://earthaccess.readthedocs.io/en/stable/tutorials/getting-started/#auth) for more information."
   ]
  },
  {
   "cell_type": "markdown",
   "id": "fbb0d83e-54cb-4c4d-a65f-0cd620067fff",
   "metadata": {},
   "source": [
    "#### Config"
   ]
  },
  {
   "cell_type": "markdown",
   "id": "1fd46b9e-579c-417c-a6e5-6b261d95c2a1",
   "metadata": {},
   "source": [
    "We have a configuration file which features some of the options available for downloading data.\n",
    "One can take a peek using the command below."
   ]
  },
  {
   "cell_type": "code",
   "execution_count": 8,
   "id": "db2d8893-4f32-4fa8-b546-73cc576f6c8b",
   "metadata": {},
   "outputs": [
    {
     "name": "stdout",
     "output_type": "stream",
     "text": [
      "# PERIOD\n",
      "period:\n",
      "  start_date: '2020-10-01'\n",
      "  start_time: '00:00:00'\n",
      "  end_date: '2020-10-31'\n",
      "  end_time: '23:59:00'\n",
      "\n",
      "# CLOUD MASK\n",
      "cloud_mask: True\n",
      "  \n",
      "# PATH FOR SAVING DATA\n",
      "save_dir: data\n",
      "\n",
      "defaults:\n",
      "  - _self_\n",
      "  \n"
     ]
    }
   ],
   "source": [
    "!cat $autoroot.root/config/example/download.yaml"
   ]
  },
  {
   "cell_type": "markdown",
   "id": "8684ff91-8f65-4ccc-9b6c-90f0691b65d9",
   "metadata": {},
   "source": [
    "We also have some more things we can change that are satellite specific.\n",
    "\n",
    "We can see them using the command below."
   ]
  },
  {
   "cell_type": "code",
   "execution_count": 11,
   "id": "7b92c827-8a66-4173-8ef8-6f588d7531e3",
   "metadata": {},
   "outputs": [],
   "source": [
    "# !cat $autoroot.root/config/example/satellite/aqua.yaml"
   ]
  },
  {
   "cell_type": "markdown",
   "id": "ec17acb5-f695-4b6f-b83c-56255341e7e5",
   "metadata": {},
   "source": [
    "\n",
    "```yaml\n",
    "download:\n",
    "  _target_: rs_tools._src.data.modis.downloader_aqua.download\n",
    "  save_dir: ${save_dir}/aqua/\n",
    "  start_date: ${period.start_date}\n",
    "  start_time: ${period.start_time}\n",
    "  end_date: ${period.end_date}\n",
    "  end_time: ${period.end_time}\n",
    "  region: \"-130 -15 -90 5\" # \"lon_min lat_min lon_max lat_max\"\n",
    "```"
   ]
  },
  {
   "cell_type": "markdown",
   "id": "d7f54487-358b-42e9-bd4c-ebe3b415bbf1",
   "metadata": {},
   "source": [
    "For this tutorial, we will change the save directory, start/end time, and the time step.\n",
    "\n",
    "Notice how we will change some configurations within the `download.yaml` file and some others that are within the `satellite.yaml` file, in particular the `aqua.yaml`.\n",
    "\n",
    "```bash\n",
    "python rs_tools \\\n",
    "    satellite=aqua \\\n",
    "    stage=download \\\n",
    "    save_dir=\"/path/to/savedir\" \\\n",
    "    period.start_date=\"2020-10-01\" \\\n",
    "    period.end_date=\"2020-10-02\" \\\n",
    "    period.start_time=\"09:00:00\" \\\n",
    "    period.end_time=\"21:00:00\"\n",
    "```"
   ]
  },
  {
   "cell_type": "markdown",
   "id": "e399b813-0540-4cce-b4c1-32a14424fbfa",
   "metadata": {},
   "source": [
    "***\n",
    "\n",
    "## GeoProcessing"
   ]
  },
  {
   "cell_type": "markdown",
   "id": "edf13380-752d-4f48-9d4b-185f29b64bb2",
   "metadata": {},
   "source": [
    "\n",
    "We have an extensive geoprocessing steps to be able to \n",
    "\n",
    "We can peek into the `rs_tools/config/example/download.yaml` configuration file to see some of the options we have to modify this.\n"
   ]
  },
  {
   "cell_type": "code",
   "execution_count": 13,
   "id": "77ec517f-3fad-480d-9e41-65fbbf2d363f",
   "metadata": {},
   "outputs": [],
   "source": [
    "# !cat $autoroot.root/config/example/satellite/aqua.yaml"
   ]
  },
  {
   "cell_type": "markdown",
   "id": "fac7e9c6-ea1a-4af1-a513-6ef91ec5389e",
   "metadata": {},
   "source": [
    "```yaml\n",
    "geoprocess:\n",
    "  _target_: rs_tools._src.geoprocessing.modis.geoprocessor_modis.geoprocess\n",
    "  read_path: ${read_path}/aqua/raw\n",
    "  save_path: ${save_path}/aqua/geoprocessed\n",
    "  satellite: aqua\n",
    "```"
   ]
  },
  {
   "cell_type": "markdown",
   "id": "9a77a4d9-5cae-4590-879d-8948336525ca",
   "metadata": {},
   "source": [
    "In particular, we will focus on the `geoprocess` step within the configuration.\n",
    "The most important options are the `resolution` and the `region`.\n",
    "The resolution is a float or integer that is measured in km.\n",
    "\n",
    "Below, we have an example of the command we "
   ]
  },
  {
   "cell_type": "markdown",
   "id": "40b90173-93b5-4a91-85ba-2611ffcd7dde",
   "metadata": {},
   "source": [
    "```bash\n",
    "python rs_tools \\\n",
    "    satellite=goes \\\n",
    "    stage=geoprocess \\\n",
    "    read_path=\"/path/to/savedir/\" \\\n",
    "    save_path=\"/path/to/savedir/\" \\\n",
    "    satellite.geoprocess.resolution=5000\n",
    "```"
   ]
  },
  {
   "cell_type": "markdown",
   "id": "12ff6d62-2c29-4d16-abd0-d8153ffae126",
   "metadata": {},
   "source": [
    "We can see the saved data are clean\n",
    "\n",
    "```bash\n",
    "/path/to/savedir/goes16/geoprocessed/20201001150019_goes16.nc\n",
    "/path/to/savedir/goes16/geoprocessed/20201002150019_goes16.nc\n",
    "```"
   ]
  },
  {
   "cell_type": "code",
   "execution_count": 7,
   "id": "d1640e24-912c-4ce0-bced-471b0ec4625f",
   "metadata": {},
   "outputs": [],
   "source": [
    "import satpy\n",
    "from satpy import Scene"
   ]
  },
  {
   "cell_type": "code",
   "execution_count": 5,
   "id": "b0ac7db1-d090-4613-8ce8-bac2ce7f8796",
   "metadata": {},
   "outputs": [],
   "source": [
    "from rs_tools._src.utils.io import get_list_filenames\n",
    "list_of_files = get_list_filenames(\"/pool/usuarios/juanjohn/data/iti/aqua/raw/aqua/L1b/\", \".hdf\")"
   ]
  },
  {
   "cell_type": "code",
   "execution_count": 10,
   "id": "4b6dbd17-3d1a-4f70-8350-a8c025a4d0a0",
   "metadata": {},
   "outputs": [
    {
     "ename": "ValueError",
     "evalue": "did not find a match in any of xarray's currently installed IO backends ['netcdf4', 'h5netcdf', 'scipy', 'gini', 'rasterio', 'zarr']. Consider explicitly selecting one of the installed engines via the ``engine`` parameter, or installing additional IO dependencies, see:\nhttps://docs.xarray.dev/en/stable/getting-started-guide/installing.html\nhttps://docs.xarray.dev/en/stable/user-guide/io.html",
     "output_type": "error",
     "traceback": [
      "\u001b[0;31m---------------------------------------------------------------------------\u001b[0m",
      "\u001b[0;31mValueError\u001b[0m                                Traceback (most recent call last)",
      "Cell \u001b[0;32mIn[10], line 1\u001b[0m\n\u001b[0;32m----> 1\u001b[0m \u001b[43mxr\u001b[49m\u001b[38;5;241;43m.\u001b[39;49m\u001b[43mopen_dataset\u001b[49m\u001b[43m(\u001b[49m\u001b[43mlist_of_files\u001b[49m\u001b[43m[\u001b[49m\u001b[38;5;241;43m0\u001b[39;49m\u001b[43m]\u001b[49m\u001b[43m)\u001b[49m\n",
      "File \u001b[0;32m~/miniconda/envs/rs_tools/lib/python3.11/site-packages/xarray/backends/api.py:554\u001b[0m, in \u001b[0;36mopen_dataset\u001b[0;34m(filename_or_obj, engine, chunks, cache, decode_cf, mask_and_scale, decode_times, decode_timedelta, use_cftime, concat_characters, decode_coords, drop_variables, inline_array, chunked_array_type, from_array_kwargs, backend_kwargs, **kwargs)\u001b[0m\n\u001b[1;32m    551\u001b[0m     kwargs\u001b[38;5;241m.\u001b[39mupdate(backend_kwargs)\n\u001b[1;32m    553\u001b[0m \u001b[38;5;28;01mif\u001b[39;00m engine \u001b[38;5;129;01mis\u001b[39;00m \u001b[38;5;28;01mNone\u001b[39;00m:\n\u001b[0;32m--> 554\u001b[0m     engine \u001b[38;5;241m=\u001b[39m \u001b[43mplugins\u001b[49m\u001b[38;5;241;43m.\u001b[39;49m\u001b[43mguess_engine\u001b[49m\u001b[43m(\u001b[49m\u001b[43mfilename_or_obj\u001b[49m\u001b[43m)\u001b[49m\n\u001b[1;32m    556\u001b[0m \u001b[38;5;28;01mif\u001b[39;00m from_array_kwargs \u001b[38;5;129;01mis\u001b[39;00m \u001b[38;5;28;01mNone\u001b[39;00m:\n\u001b[1;32m    557\u001b[0m     from_array_kwargs \u001b[38;5;241m=\u001b[39m {}\n",
      "File \u001b[0;32m~/miniconda/envs/rs_tools/lib/python3.11/site-packages/xarray/backends/plugins.py:197\u001b[0m, in \u001b[0;36mguess_engine\u001b[0;34m(store_spec)\u001b[0m\n\u001b[1;32m    189\u001b[0m \u001b[38;5;28;01melse\u001b[39;00m:\n\u001b[1;32m    190\u001b[0m     error_msg \u001b[38;5;241m=\u001b[39m (\n\u001b[1;32m    191\u001b[0m         \u001b[38;5;124m\"\u001b[39m\u001b[38;5;124mfound the following matches with the input file in xarray\u001b[39m\u001b[38;5;124m'\u001b[39m\u001b[38;5;124ms IO \u001b[39m\u001b[38;5;124m\"\u001b[39m\n\u001b[1;32m    192\u001b[0m         \u001b[38;5;124mf\u001b[39m\u001b[38;5;124m\"\u001b[39m\u001b[38;5;124mbackends: \u001b[39m\u001b[38;5;132;01m{\u001b[39;00mcompatible_engines\u001b[38;5;132;01m}\u001b[39;00m\u001b[38;5;124m. But their dependencies may not be installed, see:\u001b[39m\u001b[38;5;130;01m\\n\u001b[39;00m\u001b[38;5;124m\"\u001b[39m\n\u001b[1;32m    193\u001b[0m         \u001b[38;5;124m\"\u001b[39m\u001b[38;5;124mhttps://docs.xarray.dev/en/stable/user-guide/io.html \u001b[39m\u001b[38;5;130;01m\\n\u001b[39;00m\u001b[38;5;124m\"\u001b[39m\n\u001b[1;32m    194\u001b[0m         \u001b[38;5;124m\"\u001b[39m\u001b[38;5;124mhttps://docs.xarray.dev/en/stable/getting-started-guide/installing.html\u001b[39m\u001b[38;5;124m\"\u001b[39m\n\u001b[1;32m    195\u001b[0m     )\n\u001b[0;32m--> 197\u001b[0m \u001b[38;5;28;01mraise\u001b[39;00m \u001b[38;5;167;01mValueError\u001b[39;00m(error_msg)\n",
      "\u001b[0;31mValueError\u001b[0m: did not find a match in any of xarray's currently installed IO backends ['netcdf4', 'h5netcdf', 'scipy', 'gini', 'rasterio', 'zarr']. Consider explicitly selecting one of the installed engines via the ``engine`` parameter, or installing additional IO dependencies, see:\nhttps://docs.xarray.dev/en/stable/getting-started-guide/installing.html\nhttps://docs.xarray.dev/en/stable/user-guide/io.html"
     ]
    }
   ],
   "source": [
    "xr.open_dataset(list_of_files[0])"
   ]
  },
  {
   "cell_type": "code",
   "execution_count": 11,
   "id": "068671e1-769f-4851-b512-80140e3210d4",
   "metadata": {},
   "outputs": [
    {
     "name": "stderr",
     "output_type": "stream",
     "text": [
      "Don't know how to open the following files: {'/pool/usuarios/juanjohn/data/iti/aqua/raw/aqua/L1b/MYD021KM.A2020275.1955.061.2020276153609.hdf'}\n"
     ]
    },
    {
     "ename": "ValueError",
     "evalue": "No supported files found",
     "output_type": "error",
     "traceback": [
      "\u001b[0;31m---------------------------------------------------------------------------\u001b[0m",
      "\u001b[0;31mValueError\u001b[0m                                Traceback (most recent call last)",
      "Cell \u001b[0;32mIn[11], line 1\u001b[0m\n\u001b[0;32m----> 1\u001b[0m scn \u001b[38;5;241m=\u001b[39m \u001b[43mScene\u001b[49m\u001b[43m(\u001b[49m\n\u001b[1;32m      2\u001b[0m \u001b[43m    \u001b[49m\u001b[43mreader\u001b[49m\u001b[38;5;241;43m=\u001b[39;49m\u001b[38;5;124;43m\"\u001b[39;49m\u001b[38;5;124;43mmodis_l1b\u001b[39;49m\u001b[38;5;124;43m\"\u001b[39;49m\u001b[43m,\u001b[49m\u001b[43m \u001b[49m\n\u001b[1;32m      3\u001b[0m \u001b[43m    \u001b[49m\u001b[43mfilenames\u001b[49m\u001b[38;5;241;43m=\u001b[39;49m\u001b[43m[\u001b[49m\u001b[43mlist_of_files\u001b[49m\u001b[43m[\u001b[49m\u001b[38;5;241;43m0\u001b[39;49m\u001b[43m]\u001b[49m\u001b[43m]\u001b[49m\u001b[43m,\u001b[49m\u001b[43m \u001b[49m\n\u001b[1;32m      4\u001b[0m \u001b[43m)\u001b[49m\n",
      "File \u001b[0;32m~/miniconda/envs/rs_tools/lib/python3.11/site-packages/satpy/scene.py:152\u001b[0m, in \u001b[0;36mScene.__init__\u001b[0;34m(self, filenames, reader, filter_parameters, reader_kwargs)\u001b[0m\n\u001b[1;32m    149\u001b[0m \u001b[38;5;28;01mif\u001b[39;00m filenames:\n\u001b[1;32m    150\u001b[0m     filenames \u001b[38;5;241m=\u001b[39m convert_remote_files_to_fsspec(filenames, storage_options)\n\u001b[0;32m--> 152\u001b[0m \u001b[38;5;28mself\u001b[39m\u001b[38;5;241m.\u001b[39m_readers \u001b[38;5;241m=\u001b[39m \u001b[38;5;28;43mself\u001b[39;49m\u001b[38;5;241;43m.\u001b[39;49m\u001b[43m_create_reader_instances\u001b[49m\u001b[43m(\u001b[49m\u001b[43mfilenames\u001b[49m\u001b[38;5;241;43m=\u001b[39;49m\u001b[43mfilenames\u001b[49m\u001b[43m,\u001b[49m\n\u001b[1;32m    153\u001b[0m \u001b[43m                                              \u001b[49m\u001b[43mreader\u001b[49m\u001b[38;5;241;43m=\u001b[39;49m\u001b[43mreader\u001b[49m\u001b[43m,\u001b[49m\n\u001b[1;32m    154\u001b[0m \u001b[43m                                              \u001b[49m\u001b[43mreader_kwargs\u001b[49m\u001b[38;5;241;43m=\u001b[39;49m\u001b[43mcleaned_reader_kwargs\u001b[49m\u001b[43m)\u001b[49m\n\u001b[1;32m    155\u001b[0m \u001b[38;5;28mself\u001b[39m\u001b[38;5;241m.\u001b[39m_datasets \u001b[38;5;241m=\u001b[39m DatasetDict()\n\u001b[1;32m    156\u001b[0m \u001b[38;5;28mself\u001b[39m\u001b[38;5;241m.\u001b[39m_wishlist \u001b[38;5;241m=\u001b[39m \u001b[38;5;28mset\u001b[39m()\n",
      "File \u001b[0;32m~/miniconda/envs/rs_tools/lib/python3.11/site-packages/satpy/scene.py:173\u001b[0m, in \u001b[0;36mScene._create_reader_instances\u001b[0;34m(self, filenames, reader, reader_kwargs)\u001b[0m\n\u001b[1;32m    168\u001b[0m \u001b[38;5;28;01mdef\u001b[39;00m \u001b[38;5;21m_create_reader_instances\u001b[39m(\u001b[38;5;28mself\u001b[39m,\n\u001b[1;32m    169\u001b[0m                              filenames\u001b[38;5;241m=\u001b[39m\u001b[38;5;28;01mNone\u001b[39;00m,\n\u001b[1;32m    170\u001b[0m                              reader\u001b[38;5;241m=\u001b[39m\u001b[38;5;28;01mNone\u001b[39;00m,\n\u001b[1;32m    171\u001b[0m                              reader_kwargs\u001b[38;5;241m=\u001b[39m\u001b[38;5;28;01mNone\u001b[39;00m):\n\u001b[1;32m    172\u001b[0m \u001b[38;5;250m    \u001b[39m\u001b[38;5;124;03m\"\"\"Find readers and return their instances.\"\"\"\u001b[39;00m\n\u001b[0;32m--> 173\u001b[0m     \u001b[38;5;28;01mreturn\u001b[39;00m \u001b[43mload_readers\u001b[49m\u001b[43m(\u001b[49m\u001b[43mfilenames\u001b[49m\u001b[38;5;241;43m=\u001b[39;49m\u001b[43mfilenames\u001b[49m\u001b[43m,\u001b[49m\n\u001b[1;32m    174\u001b[0m \u001b[43m                        \u001b[49m\u001b[43mreader\u001b[49m\u001b[38;5;241;43m=\u001b[39;49m\u001b[43mreader\u001b[49m\u001b[43m,\u001b[49m\n\u001b[1;32m    175\u001b[0m \u001b[43m                        \u001b[49m\u001b[43mreader_kwargs\u001b[49m\u001b[38;5;241;43m=\u001b[39;49m\u001b[43mreader_kwargs\u001b[49m\u001b[43m)\u001b[49m\n",
      "File \u001b[0;32m~/miniconda/envs/rs_tools/lib/python3.11/site-packages/satpy/readers/__init__.py:587\u001b[0m, in \u001b[0;36mload_readers\u001b[0;34m(filenames, reader, reader_kwargs)\u001b[0m\n\u001b[1;32m    584\u001b[0m         \u001b[38;5;28;01mbreak\u001b[39;00m\n\u001b[1;32m    586\u001b[0m _check_remaining_files(remaining_filenames)\n\u001b[0;32m--> 587\u001b[0m \u001b[43m_check_reader_instances\u001b[49m\u001b[43m(\u001b[49m\u001b[43mreader_instances\u001b[49m\u001b[43m)\u001b[49m\n\u001b[1;32m    588\u001b[0m \u001b[38;5;28;01mreturn\u001b[39;00m reader_instances\n",
      "File \u001b[0;32m~/miniconda/envs/rs_tools/lib/python3.11/site-packages/satpy/readers/__init__.py:626\u001b[0m, in \u001b[0;36m_check_reader_instances\u001b[0;34m(reader_instances)\u001b[0m\n\u001b[1;32m    624\u001b[0m \u001b[38;5;28;01mdef\u001b[39;00m \u001b[38;5;21m_check_reader_instances\u001b[39m(reader_instances):\n\u001b[1;32m    625\u001b[0m     \u001b[38;5;28;01mif\u001b[39;00m \u001b[38;5;129;01mnot\u001b[39;00m reader_instances:\n\u001b[0;32m--> 626\u001b[0m         \u001b[38;5;28;01mraise\u001b[39;00m \u001b[38;5;167;01mValueError\u001b[39;00m(\u001b[38;5;124m\"\u001b[39m\u001b[38;5;124mNo supported files found\u001b[39m\u001b[38;5;124m\"\u001b[39m)\n\u001b[1;32m    627\u001b[0m     \u001b[38;5;28;01mif\u001b[39;00m \u001b[38;5;129;01mnot\u001b[39;00m \u001b[38;5;28many\u001b[39m(\u001b[38;5;28mlist\u001b[39m(r\u001b[38;5;241m.\u001b[39mavailable_dataset_ids) \u001b[38;5;28;01mfor\u001b[39;00m r \u001b[38;5;129;01min\u001b[39;00m reader_instances\u001b[38;5;241m.\u001b[39mvalues()):\n\u001b[1;32m    628\u001b[0m         \u001b[38;5;28;01mraise\u001b[39;00m \u001b[38;5;167;01mValueError\u001b[39;00m(\u001b[38;5;124m\"\u001b[39m\u001b[38;5;124mNo dataset could be loaded. Either missing \u001b[39m\u001b[38;5;124m\"\u001b[39m\n\u001b[1;32m    629\u001b[0m                          \u001b[38;5;124m\"\u001b[39m\u001b[38;5;124mrequirements (such as Epilog, Prolog) or none of the \u001b[39m\u001b[38;5;124m\"\u001b[39m\n\u001b[1;32m    630\u001b[0m                          \u001b[38;5;124m\"\u001b[39m\u001b[38;5;124mprovided files match the filter parameters.\u001b[39m\u001b[38;5;124m\"\u001b[39m)\n",
      "\u001b[0;31mValueError\u001b[0m: No supported files found"
     ]
    }
   ],
   "source": [
    "scn = Scene(\n",
    "    reader=\"modis_l1b\", \n",
    "    filenames=[list_of_files[0]], \n",
    ")"
   ]
  },
  {
   "cell_type": "code",
   "execution_count": 6,
   "id": "bac06899-94cf-4469-9485-67bf2ef88988",
   "metadata": {},
   "outputs": [
    {
     "ename": "NameError",
     "evalue": "name 'scn' is not defined",
     "output_type": "error",
     "traceback": [
      "\u001b[0;31m---------------------------------------------------------------------------\u001b[0m",
      "\u001b[0;31mNameError\u001b[0m                                 Traceback (most recent call last)",
      "Cell \u001b[0;32mIn[6], line 1\u001b[0m\n\u001b[0;32m----> 1\u001b[0m \u001b[43mscn\u001b[49m\u001b[38;5;241m.\u001b[39mload(get_modis_channel_numbers(), resolution \u001b[38;5;241m=\u001b[39m resolution, calibration\u001b[38;5;241m=\u001b[39m\u001b[38;5;124m\"\u001b[39m\u001b[38;5;124mradiance\u001b[39m\u001b[38;5;124m\"\u001b[39m)\n",
      "\u001b[0;31mNameError\u001b[0m: name 'scn' is not defined"
     ]
    }
   ],
   "source": [
    "scn.load(get_modis_channel_numbers(), resolution = resolution, calibration=\"radiance\")"
   ]
  },
  {
   "cell_type": "code",
   "execution_count": null,
   "id": "b26e4d7c-6d6b-4ca8-b128-69457a284225",
   "metadata": {},
   "outputs": [],
   "source": []
  }
 ],
 "metadata": {
  "kernelspec": {
   "display_name": "Python [conda env:rs_tools]",
   "language": "python",
   "name": "conda-env-rs_tools-py"
  },
  "language_info": {
   "codemirror_mode": {
    "name": "ipython",
    "version": 3
   },
   "file_extension": ".py",
   "mimetype": "text/x-python",
   "name": "python",
   "nbconvert_exporter": "python",
   "pygments_lexer": "ipython3",
   "version": "3.11.6"
  }
 },
 "nbformat": 4,
 "nbformat_minor": 5
}
