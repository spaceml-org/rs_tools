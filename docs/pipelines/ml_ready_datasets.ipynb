{
 "cells": [
  {
   "cell_type": "markdown",
   "id": "4ce89cc8-460a-42d1-88c3-5bc3def75210",
   "metadata": {},
   "source": [
    "# ML-Ready Data"
   ]
  },
  {
   "cell_type": "markdown",
   "id": "d14b5f2d-fe77-4d52-8e89-42ff749ff173",
   "metadata": {},
   "source": [
    "In this tutorial, we will go over some of the basics to create dataloaders."
   ]
  },
  {
   "cell_type": "markdown",
   "id": "a04cb172-945d-49fa-bc64-cd2cd22d7979",
   "metadata": {},
   "source": [
    "![](../assets/ml_ready_data.png)"
   ]
  },
  {
   "cell_type": "code",
   "execution_count": 1,
   "id": "86a8d52f-849b-4f0b-a4ea-1e828d51488d",
   "metadata": {},
   "outputs": [
    {
     "name": "stderr",
     "output_type": "stream",
     "text": [
      "/home/juanjohn/miniconda/envs/rs_tools/lib/python3.11/site-packages/goes2go/data.py:519: FutureWarning: 'H' is deprecated and will be removed in a future version. Please use 'h' instead of 'H'.\n",
      "  within=pd.to_timedelta(config[\"nearesttime\"].get(\"within\", \"1H\")),\n",
      "/home/juanjohn/miniconda/envs/rs_tools/lib/python3.11/site-packages/goes2go/NEW.py:188: FutureWarning: 'H' is deprecated and will be removed in a future version. Please use 'h' instead of 'H'.\n",
      "  within=pd.to_timedelta(config[\"nearesttime\"].get(\"within\", \"1H\")),\n"
     ]
    }
   ],
   "source": [
    "import autoroot\n",
    "import os\n",
    "import xarray as xr\n",
    "import matplotlib.pyplot as plt\n",
    "from xrpatcher import XRDAPatcher\n",
    "from torch.utils.data import Dataset, DataLoader, ConcatDataset\n",
    "import numpy as np\n",
    "import itertools\n",
    "from dotenv import load_dotenv\n",
    "from rs_tools._src.utils.io import get_list_filenames\n",
    "\n",
    "\n",
    "xr.set_options(\n",
    "    keep_attrs=True, \n",
    "    display_expand_data=False, \n",
    "    display_expand_coords=False, \n",
    "    display_expand_data_vars=False, \n",
    "    display_expand_indexes=False\n",
    ")\n",
    "np.set_printoptions(threshold=10, edgeitems=2)\n",
    "\n",
    "\n",
    "save_dir = os.getenv(\"ITI_DATA_SAVEDIR\")"
   ]
  },
  {
   "cell_type": "markdown",
   "id": "6a42b8ab-756a-4461-aee9-e3a4071412c4",
   "metadata": {},
   "source": [
    "## ML-Ready Datasets\n"
   ]
  },
  {
   "cell_type": "code",
   "execution_count": 2,
   "id": "9b2da1fb-1c11-49e8-a830-7e235ffea087",
   "metadata": {},
   "outputs": [
    {
     "data": {
      "text/plain": [
       "0"
      ]
     },
     "execution_count": 2,
     "metadata": {},
     "output_type": "execute_result"
    }
   ],
   "source": [
    "list_of_files = get_list_filenames(f\"{save_dir}/goes16/analysis\", \".nc\")\n",
    "len(list_of_files)"
   ]
  },
  {
   "cell_type": "code",
   "execution_count": 3,
   "id": "36a42f7e-0d09-478e-ba13-98f6a3d967ca",
   "metadata": {},
   "outputs": [
    {
     "ename": "IndexError",
     "evalue": "list index out of range",
     "output_type": "error",
     "traceback": [
      "\u001b[0;31m---------------------------------------------------------------------------\u001b[0m",
      "\u001b[0;31mIndexError\u001b[0m                                Traceback (most recent call last)",
      "Cell \u001b[0;32mIn[3], line 1\u001b[0m\n\u001b[0;32m----> 1\u001b[0m ds \u001b[38;5;241m=\u001b[39m xr\u001b[38;5;241m.\u001b[39mopen_dataset(\u001b[43mlist_of_files\u001b[49m\u001b[43m[\u001b[49m\u001b[38;5;241;43m0\u001b[39;49m\u001b[43m]\u001b[49m, engine\u001b[38;5;241m=\u001b[39m\u001b[38;5;124m\"\u001b[39m\u001b[38;5;124mnetcdf4\u001b[39m\u001b[38;5;124m\"\u001b[39m)\n\u001b[1;32m      2\u001b[0m ds\n",
      "\u001b[0;31mIndexError\u001b[0m: list index out of range"
     ]
    }
   ],
   "source": [
    "ds = xr.open_dataset(list_of_files[0], engine=\"netcdf4\")\n",
    "ds"
   ]
  },
  {
   "cell_type": "markdown",
   "id": "6b816de1-920e-4df9-a604-dd9dd8a00e8e",
   "metadata": {},
   "source": [
    "***\n",
    "\n",
    "### PyTorch Integration"
   ]
  },
  {
   "cell_type": "code",
   "execution_count": 6,
   "id": "e95b4f0e",
   "metadata": {},
   "outputs": [],
   "source": [
    "from rs_tools._src.utils.io import get_list_filenames\n",
    "from rs_tools._src.datamodule.utils import load_nc_file\n",
    "from rs_tools._src.datamodule.editor import StackDictEditor, CoordNormEditor\n",
    "from toolz import compose_left"
   ]
  },
  {
   "cell_type": "markdown",
   "id": "e9dca84a",
   "metadata": {},
   "source": [
    "We will create a very simple demo dataloader"
   ]
  },
  {
   "cell_type": "code",
   "execution_count": 7,
   "id": "c58e5ed8",
   "metadata": {},
   "outputs": [],
   "source": [
    "from torch.utils.data import Dataset, DataLoader\n",
    "from typing import Optional, Callable\n",
    "\n",
    "class NCDataReader(Dataset):\n",
    "    def __init__(self, data_dir: str, ext: str=\".nc\", transforms: Optional[Callable]=None):\n",
    "        self.data_dir = data_dir\n",
    "        self.data_filenames = get_list_filenames(data_dir, ext)\n",
    "        self.transforms = transforms\n",
    "\n",
    "    def __getitem__(self, ind) -> np.ndarray:\n",
    "        nc_path = self.data_filenames[ind]\n",
    "        x = load_nc_file(nc_path)\n",
    "        if self.transforms is not None:\n",
    "            x = self.transforms(x)\n",
    "        return x\n",
    "\n",
    "    def __len__(self):\n",
    "        return len(self.data_filenames)"
   ]
  },
  {
   "cell_type": "code",
   "execution_count": 8,
   "id": "6a4f3275",
   "metadata": {},
   "outputs": [],
   "source": [
    "ds = NCDataReader(f\"{save_dir}/goes16/analysis\")\n",
    "dl = DataLoader(ds, batch_size=1)"
   ]
  },
  {
   "cell_type": "code",
   "execution_count": 9,
   "id": "d24b7722",
   "metadata": {},
   "outputs": [],
   "source": [
    "out = next(iter(dl))"
   ]
  },
  {
   "cell_type": "code",
   "execution_count": 10,
   "id": "2207d237",
   "metadata": {},
   "outputs": [
    {
     "data": {
      "text/plain": [
       "['data', 'wavelengths', 'coords', 'cloud_mask']"
      ]
     },
     "execution_count": 10,
     "metadata": {},
     "output_type": "execute_result"
    }
   ],
   "source": [
    "list(out.keys())"
   ]
  },
  {
   "cell_type": "code",
   "execution_count": 11,
   "id": "8c96f315",
   "metadata": {},
   "outputs": [
    {
     "data": {
      "text/plain": [
       "(torch.Size([1, 16, 8, 8]), torch.Size([1, 2, 8, 8]))"
      ]
     },
     "execution_count": 11,
     "metadata": {},
     "output_type": "execute_result"
    }
   ],
   "source": [
    "out[\"data\"].shape, out[\"coords\"].shape"
   ]
  },
  {
   "cell_type": "markdown",
   "id": "65babebf",
   "metadata": {},
   "source": [
    "### Transforms/Editors"
   ]
  },
  {
   "cell_type": "markdown",
   "id": "0efb6678",
   "metadata": {},
   "source": [
    "We can also use custom transformations within the dataset (just like standard PyTorch) to transform our dataset"
   ]
  },
  {
   "cell_type": "code",
   "execution_count": 12,
   "id": "42ca6022",
   "metadata": {},
   "outputs": [],
   "source": [
    "transforms = compose_left(\n",
    "    CoordNormEditor(), \n",
    "    StackDictEditor(),\n",
    ")"
   ]
  },
  {
   "cell_type": "code",
   "execution_count": 13,
   "id": "c95dd680",
   "metadata": {},
   "outputs": [
    {
     "data": {
      "text/plain": [
       "torch.Size([1, 41, 32, 32])"
      ]
     },
     "execution_count": 13,
     "metadata": {},
     "output_type": "execute_result"
    }
   ],
   "source": [
    "# initialize dataset with transforms\n",
    "ds = NCDataReader(f\"{save_dir}/aqua/analysis\", transforms=transforms)\n",
    "\n",
    "# initialize dataloader\n",
    "dl = DataLoader(ds, batch_size=1)\n",
    "\n",
    "# do one iteration\n",
    "out = next(iter(dl))\n",
    "\n",
    "# inspect a batch\n",
    "out.shape"
   ]
  },
  {
   "cell_type": "code",
   "execution_count": null,
   "id": "5aaaf4e3-0355-486d-b7eb-556fc45b747d",
   "metadata": {},
   "outputs": [],
   "source": []
  }
 ],
 "metadata": {
  "kernelspec": {
   "display_name": "Python [conda env:rs_tools]",
   "language": "python",
   "name": "conda-env-rs_tools-py"
  },
  "language_info": {
   "codemirror_mode": {
    "name": "ipython",
    "version": 3
   },
   "file_extension": ".py",
   "mimetype": "text/x-python",
   "name": "python",
   "nbconvert_exporter": "python",
   "pygments_lexer": "ipython3",
   "version": "3.11.9"
  }
 },
 "nbformat": 4,
 "nbformat_minor": 5
}
